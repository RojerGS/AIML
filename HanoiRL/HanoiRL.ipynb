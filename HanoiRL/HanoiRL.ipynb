{
 "cells": [
  {
   "cell_type": "markdown",
   "metadata": {},
   "source": [
    "Reinforcement Learning for the Tower of Hanoi\n",
    "========================\n",
    "\n",
    "The purpose of this notebook is to be a self-contained explanation of the RL algorithms used in [my GitHub repo](https://github.com/RojerGS/AIML/tree/master/HanoiRL) where I try to solve the Tower of Hanoi.\n",
    "\n",
    "I will try to be as clear as possible in everything I do, as I will also be taking parts of this notebook (as I write them) and publish them in my [maths and programming blog](https://mathspp.blogspot.com).\n",
    "\n",
    "Contents of this notebook\n",
    "---------------------------\n",
    " * [The problem](#theproblem)\n",
    "   - [Encoding the Tower of Hanoi as a markov decision process](#encoding)\n",
    "   - [Visualizing a game session](#visualization)\n",
    " * [Algorithms](#algorithms)\n",
    "   - [Value iteration](#value_iteration)\n",
    "   - [Policy iteration](#policy_iteration)\n",
    "   - [Q-learning](#q_learning)\n",
    "   - [Double Q-learning](#doubleq_learning)"
   ]
  },
  {
   "cell_type": "markdown",
   "metadata": {},
   "source": [
    "<a id=\"theproblem\"></a>\n",
    "The problem\n",
    "------------\n",
    "\n",
    "The Tower of Hanoi is a puzzle in the form of a simple toy:\n",
    "\n",
    "![A Tower of Hanoi toy](https://4.bp.blogspot.com/-RQ2qBzhT4uQ/W7OoofQs0QI/AAAAAAAABDc/Dw5qg_55sGYXEFZ9bIzhUj6TMtVipAvSQCLcBGAs/s1600/frame08.png \"Tower of Hanoi\")\n",
    "\n",
    "composed of three poles and a set of different-sized disks (4 in the image above). The disks start all in the left pole, with the biggest disk on the bottom, all the way up to the smallest disk on top. The goal of the puzzle is to move *all* disks to a different pole than the starting one by moving one disk at a time. There is only one simple restriction: a disk can never be on top of a smaller disk!"
   ]
  },
  {
   "cell_type": "markdown",
   "metadata": {},
   "source": [
    "<a id=\"encoding\"></a>\n",
    "### Encoding the Tower of Hanoi as a Markov decision process\n",
    "\n",
    "The first thing to do is to encode the puzzle of the Tower of Hanoi as a Markov decision process. Recall that an [mdp](https://mathspp.blogspot.com/2018/09/markov-decision-processes-basics.html) needs five ingredients to be well-defined, a quintuple $(S, A, P_a, R_a, \\gamma)$ with the states, the actions, the transition probabilities, the rewards and the discount factor $\\gamma$. The discount factor will be left undefined for now and we will fiddle with it when we implement the different algorithms.\n",
    "\n",
    "For this explanation assume the number of disks $N$ is fixed. We will define $3^N + 1$ states: $3^N$ are all the ways in which the disks can be distributed legally among the three poles. The $+1$ is for the terminal state we want to reach when the algorithm thinks the puzzle has been completed.\n",
    "\n",
    "For the regular game states we will use a list of three lists, where each sublist will have the numbers corresponding to the disks in that pole; for example, the list\n",
    "\n",
    "```\n",
    "[\n",
    "[],\n",
    "[3,2,1],\n",
    "[4]\n",
    "]\n",
    "```\n",
    "\n",
    "corresponds to the setting of the above image. Notice that bigger numbers correspond to bigger disks and that the bottom of the pole corresponds to the beginning of the list, hence the list above can be further identified with the image above if we rotate the image $90^\\circ$ clockwise; the terminal state will be represented by a constanst.\n",
    "\n",
    "We can thus define the following `define_states` function:"
   ]
  },
  {
   "cell_type": "code",
   "execution_count": 2,
   "metadata": {
    "collapsed": true
   },
   "outputs": [],
   "source": [
    "FINAL_STATE = \"DONE\"    # special state for when the Hanoi Tower was solved\n",
    "\n",
    "def define_states(n):\n",
    "    \"\"\"Recursively define all the possible states of an n-disk Hanoi tower\"\"\"\n",
    "    def aux(n):\n",
    "        if n == 1:\n",
    "            return [\n",
    "                    [[1],[],[]],\n",
    "                    [[],[1],[]],\n",
    "                    [[],[],[1]]\n",
    "                    ]\n",
    "        else:\n",
    "            partial = aux(n-1)\n",
    "            final = []\n",
    "            for state in partial:\n",
    "                a, b, c = state\n",
    "                final.append([[n]+a, b, c])\n",
    "                final.append([a, [n]+b, c])\n",
    "                final.append([a, b, [n]+c])\n",
    "            return final\n",
    "\n",
    "    return [FINAL_STATE] + aux(n)"
   ]
  },
  {
   "cell_type": "markdown",
   "metadata": {},
   "source": [
    "After defining the states we now define the actions. We will define $7$ actions: $6$ of them will be the states corresponding to moving disks from one of the poles to any of the other two poles; those will be written as 2-character strings. The first character of the string represents the pole from which we removed and the second character represents the pole in which we want to insert.\n",
    "\n",
    "The seventh action is for when the algorithm thinks it has completed the puzzle and hence \"claims\" the puzzle has been finished. For this action we use another constant."
   ]
  },
  {
   "cell_type": "code",
   "execution_count": 3,
   "metadata": {
    "collapsed": true
   },
   "outputs": [],
   "source": [
    "COMPLETED = \"COMPLETED\" # special action when the MDP thinks we are done\n",
    "actions = [COMPLETED, \"LC\", \"LR\", \"CL\", \"CR\", \"RL\", \"RC\"]"
   ]
  },
  {
   "cell_type": "markdown",
   "metadata": {},
   "source": [
    "After having defined states and actions we are now in position to define transition probabilities and rewards. We will assume all actions are available in all game states (_except_ for the terminal state where no action is available) but the restrictions imposed by the rules will be reflected in the transitions.\n",
    "\n",
    "Whenever a move is illegal (goes against the rules), whenever the move tries to remove a disk from an empty pole or the algorithm claims the puzzle is complete but isn't, we incurr in a penalty and we transition to the exact same state.\n",
    "\n",
    "Whenever the action represents a move and is legal, the state transition occurs as per the puzzle rules and there is no reward (i.e. the reward is $0$).\n",
    "\n",
    "Whenever we claim the puzzle is complete from one of the two final positions and thus enter the terminal state, we get a positive reward.\n",
    "\n",
    "This information is all encoded in the function `transition` which also makes use of the helper function `game_is_done`, used to check if the puzzle has indeed been done."
   ]
  },
  {
   "cell_type": "code",
   "execution_count": 4,
   "metadata": {
    "collapsed": true
   },
   "outputs": [],
   "source": [
    "from copy import deepcopy\n",
    "\n",
    "def game_is_done(state):\n",
    "    \"\"\"Return if the Hanoi Tower was solved;\n",
    "        Assume we always start with all disks on the left\"\"\"\n",
    "    return (len(state[0]) == len(state[1]) == 0 and \\\n",
    "                sorted(state[2], reverse=True) == state[2]) or \\\n",
    "            (len(state[0]) == len(state[2]) == 0 and \\\n",
    "                sorted(state[1], reverse=True) == state[1])\n",
    "\n",
    "def transition(state, action):\n",
    "    \"\"\"Given a <state> and an <action>, return the new state\n",
    "        and the reward we got.\n",
    "    The actions are of the form L|C|R + L|C|R,\n",
    "        where the first character says from where we remove (Left,Centre,Right)\n",
    "        the second character says where we are inserting (Left,Centre,Right)\n",
    "        OR\n",
    "        COMPLETED to transition into the final state when the game is done\"\"\"\n",
    "    R_illegal = -3      # reward if the action was an illegal move\n",
    "    R_final = 5         # reward if we end the game\n",
    "    R_default = 0       # default reward\n",
    "\n",
    "    # deal with the action COMPLETED separately\n",
    "    if action == COMPLETED:\n",
    "        if game_is_done(state):\n",
    "            return FINAL_STATE, R_final\n",
    "        else:\n",
    "            return state, R_illegal\n",
    "\n",
    "    state_ = deepcopy(state)\n",
    "    # disassemble the state and the action\n",
    "    d = {'L': 0, 'C': 1, 'R': 2}\n",
    "    i = d[action[0]]    # remove from this pile\n",
    "    j = d[action[1]]    # insert into this pile\n",
    "    if not state_[i]:   # can we remove?\n",
    "        return state, R_illegal\n",
    "    moving = state_[i].pop()\n",
    "    if (state_[j] and moving > state_[j][-1]):\n",
    "        # illegal move found\n",
    "        return state, R_illegal\n",
    "    else:\n",
    "        state_[j].append(moving)\n",
    "        return state_, R_default"
   ]
  },
  {
   "cell_type": "markdown",
   "metadata": {},
   "source": [
    "We also define an auxiliary function `dictify` that turns a game state into something that can be used as a dictionary key (because lists can't). I didn't know this would be useful from the start, but turns out that when we use the algorithms it kind of helps, so lets just take that out of the way."
   ]
  },
  {
   "cell_type": "code",
   "execution_count": 5,
   "metadata": {
    "collapsed": true
   },
   "outputs": [],
   "source": [
    "def dictify(state):\n",
    "    \"\"\"Turns a state into a valid dict key\"\"\"\n",
    "    if state == FINAL_STATE:\n",
    "        return state\n",
    "    else:\n",
    "        return tuple([tuple(item) for item in state])"
   ]
  },
  {
   "cell_type": "markdown",
   "metadata": {},
   "source": [
    "To sum up, we recursively defined all the states in `define_states(N)` and implemented a transition function `transition(state, action)` that handles the transitions and the rewards. We also implemented two helper functions, `game_is_done)state)` to recognize if a state corresponds to one where the game is done and `dictify(state)` that will come in handy when we deal with dictionaries. We also defined all the available actions.\n",
    "\n",
    "Below I present all the code as I have it in my `hanoi_mdp.py` file, available [in my GitHub](https://github.com/RojerGS/AIML/tree/master/HanoiRL)."
   ]
  },
  {
   "cell_type": "code",
   "execution_count": 6,
   "metadata": {
    "collapsed": true
   },
   "outputs": [],
   "source": [
    "# contents of hanoi_mdp.py, available at https://github.com/RojerGS/AIML/tree/master/HanoiRL\n",
    "from copy import deepcopy\n",
    "\n",
    "COMPLETED = \"COMPLETED\" # special action when the MDP thinks we are done\n",
    "FINAL_STATE = \"DONE\"    # special state for when the Hanoi Tower was solved\n",
    "actions = [COMPLETED, \"LC\", \"LR\", \"CL\", \"CR\", \"RL\", \"RC\"]\n",
    "\n",
    "def dictify(state):\n",
    "    \"\"\"Turns a state into a valid dict key\"\"\"\n",
    "    if state == FINAL_STATE:\n",
    "        return state\n",
    "    else:\n",
    "        return tuple([tuple(item) for item in state])\n",
    "\n",
    "def define_states(n):\n",
    "    \"\"\"Recursively define all the possible states of an n-disk Hanoi tower\"\"\"\n",
    "    def aux(n):\n",
    "        if n == 1:\n",
    "            return [\n",
    "                    [[1],[],[]],\n",
    "                    [[],[1],[]],\n",
    "                    [[],[],[1]]\n",
    "                    ]\n",
    "        else:\n",
    "            partial = aux(n-1)\n",
    "            final = []\n",
    "            for state in partial:\n",
    "                a, b, c = state\n",
    "                final.append([[n]+a, b, c])\n",
    "                final.append([a, [n]+b, c])\n",
    "                final.append([a, b, [n]+c])\n",
    "            return final\n",
    "\n",
    "    return [FINAL_STATE] + aux(n)\n",
    "\n",
    "def game_is_done(state):\n",
    "    \"\"\"Return if the Hanoi Tower was solved;\n",
    "        Assume we always start with all disks on the left\"\"\"\n",
    "    return (len(state[0]) == len(state[1]) == 0 and \\\n",
    "                sorted(state[2], reverse=True) == state[2]) or \\\n",
    "            (len(state[0]) == len(state[2]) == 0 and \\\n",
    "                sorted(state[1], reverse=True) == state[1])\n",
    "\n",
    "def transition(state, action):\n",
    "    \"\"\"Given a <state> and an <action>, return the new state\n",
    "        and the reward we got.\n",
    "    The actions are of the form L|C|R + L|C|R,\n",
    "        where the first character says from where we remove (Left,Centre,Right)\n",
    "        the second character says where we are inserting (Left,Centre,Right)\n",
    "        OR\n",
    "        COMPLETED to transition into the final state when the game is done\"\"\"\n",
    "    R_illegal = -3      # reward if the action was an illegal move\n",
    "    R_final = 5         # reward if we end the game\n",
    "    R_default = 0       # default reward\n",
    "\n",
    "    # deal with the action COMPLETED separately\n",
    "    if action == COMPLETED:\n",
    "        if game_is_done(state):\n",
    "            return FINAL_STATE, R_final\n",
    "        else:\n",
    "            return state, R_illegal\n",
    "\n",
    "    state_ = deepcopy(state)\n",
    "    # disassemble the state and the action\n",
    "    d = {'L': 0, 'C': 1, 'R': 2}\n",
    "    i = d[action[0]]    # remove from this pile\n",
    "    j = d[action[1]]    # insert into this pile\n",
    "    if not state_[i]:   # can we remove?\n",
    "        return state, R_illegal\n",
    "    moving = state_[i].pop()\n",
    "    if (state_[j] and moving > state_[j][-1]):\n",
    "        # illegal move found\n",
    "        return state, R_illegal\n",
    "    else:\n",
    "        state_[j].append(moving)\n",
    "        return state_, R_default"
   ]
  },
  {
   "cell_type": "markdown",
   "metadata": {},
   "source": [
    "### Visualizing a game session\n",
    "<a id=\"visualization\"></a>\n",
    "\n",
    "The function `print_game_sequence` defined below gets as input a list with game states and prints a frame for each state, for us to visualize the game progression.\n",
    "\n",
    "This function uses `matplotlib.pyplot` so make sure you have that installed to use this \"feature\"."
   ]
  },
  {
   "cell_type": "code",
   "execution_count": 7,
   "metadata": {
    "collapsed": false
   },
   "outputs": [],
   "source": [
    "import matplotlib.pyplot as mp\n",
    "\n",
    "def print_game_sequence(game):\n",
    "    \"\"\"Given a Tower of Hanoi game sequence,\n",
    "        print a sequence of images representing the game\"\"\"\n",
    "    if not game:\n",
    "        return\n",
    "    \n",
    "    default_colours = [\"b\",\"g\",\"r\",\"c\",\"m\",\"y\"] # default colours\n",
    "    N = sum(map(len, game[0]))\n",
    "    if N <= len(default_colours):\n",
    "        colours = default_colours[:N]\n",
    "    else:\n",
    "        colours = [[i/N]*3 for i in range(N)] # use a scale of grays\n",
    "    \n",
    "    values = [i for i in range(N,0,-1)]\n",
    "    for frame in game:\n",
    "        # start with 3 tiny bars to represent the poles\n",
    "        xs = [2,4,6]\n",
    "        hs = [N]*3\n",
    "        ws = [0.1]*3\n",
    "        cs = [[0]*3]*3\n",
    "        for bar in frame:\n",
    "            # the disks in this bar all have the same x\n",
    "            xs += [2*(1+frame.index(bar))]*len(bar)\n",
    "            for idx in range(len(bar)-1,-1,-1):\n",
    "                # work from the top down\n",
    "                # to draw in the correct order\n",
    "                hs.append(idx+1)\n",
    "                w = 0.2 + 1.6*(bar[idx]/N)\n",
    "                ws.append(w)\n",
    "                cs.append(colours[bar[idx]-1])\n",
    "        # add three \"bars\" that together make the base\n",
    "        xs += [2,4,6]\n",
    "        hs += [0.1]*3\n",
    "        ws += [2]*3\n",
    "        cs += [[0.2, 0.8, 0.66]]*3\n",
    "        mp.bar(xs, hs, ws, color = cs)\n",
    "        mp.axis(\"off\")\n",
    "        mp.ylim(0, N)\n",
    "        mp.show()"
   ]
  },
  {
   "cell_type": "code",
   "execution_count": 8,
   "metadata": {
    "collapsed": false
   },
   "outputs": [
    {
     "data": {
      "image/png": "[encoded data removed]",
      "text/plain": [
       "<matplotlib.figure.Figure at 0x4e40c18>"
      ]
     },
     "metadata": {},
     "output_type": "display_data"
    },
    {
     "data": {
      "image/png": "[encoded data removed]",
      "text/plain": [
       "<matplotlib.figure.Figure at 0x82cca90>"
      ]
     },
     "metadata": {},
     "output_type": "display_data"
    },
    {
     "data": {
      "image/png": "[encoded data removed]",
      "text/plain": [
       "<matplotlib.figure.Figure at 0x838a8d0>"
      ]
     },
     "metadata": {},
     "output_type": "display_data"
    },
    {
     "data": {
      "image/png": "[encoded data removed]",
      "text/plain": [
       "<matplotlib.figure.Figure at 0x842acf8>"
      ]
     },
     "metadata": {},
     "output_type": "display_data"
    }
   ],
   "source": [
    "# example usage of print_game_sequence with a game of 2 disks played optimally\n",
    "game = []\n",
    "game.append([[2,1],[],[]])\n",
    "game.append([[2],[1],[]])\n",
    "game.append([[],[1],[2]])\n",
    "game.append([[],[],[2,1]])\n",
    "print_game_sequence(game)\n",
    "del(game)"
   ]
  },
  {
   "cell_type": "markdown",
   "metadata": {},
   "source": [
    "<a id=\"algorithms\"></a>\n",
    "Algorithms\n",
    "-----------\n",
    "\n",
    "Given a Markov decision process we are usually interested in finding a function called _policy_, commonly referred to as $\\pi$, which is a function $\\pi: S \\to A$ that defines the strategy we will follow when inside the mdp. Usually our point is to maximize the quantity\n",
    "\n",
    "$$E[R] = \\sum_{t=0}^\\infty \\gamma^t r_t$$\n",
    "\n",
    "which is the expected reward we get when in the mdp. From a rather intuitive point of view, the mdp can be thought of a game and the rewards can be thought of points. When we play, we want to get as many points as possible! For that, we must know what are the moves to make (the actions) at each point of the \"game\" (the states).\n",
    "\n",
    "What the algorithms of RL give us is a way to find what the best policy is, so that we can use it in our environments. In this example of the Tower of Hanoi, the policy $\\pi$ is a function that, given a board state, tells us what the best move to make is!"
   ]
  },
  {
   "cell_type": "markdown",
   "metadata": {},
   "source": [
    "<a id=\"value_iteration\"></a>\n",
    "### Value iteration\n",
    "\n",
    "[Value iteration](https://en.wikipedia.org/wiki/Markov_decision_process#Value_iteration) is a great place to start learning about RL algorithms! To understand value iteration, think of this:\n",
    "\n",
    "What if we tried to attribute a value to each state? For each state $s$, let us look for a value $V(s)$ that reflects how good it is for me to be in state $s$. If you had something like that, then we would know how to act! Whenever we have to take an action, just choose the action that will take us to the state with best value!\n",
    "\n",
    "A good candidate for the value $V(s)$ of the state $s$ would be the expected reward we would get from $s$ onwards. If we are following the optimal policy $\\pi^*$ and if we write $a = \\pi^*(s)$ (i.e. if the action $a$ is the optimal action to take when in state $s$) then the following equality holds:\n",
    "\n",
    "$$V(s) = \\sum_{s' \\in S} P_a(s,s')\\left(R_a(s,s') + \\gamma V(s')\\right) $$\n",
    "\n",
    "which is a recursive definition of $V$ and that is related to the [Bellman equation](https://en.wikipedia.org/wiki/Bellman_equation), an equation that you will find frequently when learning about RL. Having found this equality, one could pretty much invent the algorithm all by itself! The algorithm has two steps:\n",
    "\n",
    " - Define initial values $V_0(s)$ for each state, representing your initial guesses of the values of each state\n",
    " \n",
    " - Repeatedly update the values of $V$ with the relation\n",
    " \n",
    " $$V_{n+1}(s) = \\max_a \\{ \\sum_{s' \\in S} P_a(s,s')\\left(R_a(s,s') + \\gamma V_n(s')\\right) \\}$$\n",
    " \n",
    "Notice that, because we don't know what the optimal policy is, we can't set $a = \\pi^*(s)$ and then update $V$ according to that action... Because of that, we have to estimate what the best action would be, and we do that by assuming the optimal action is the one that _maximizes_ the future expected reward.\n",
    "\n",
    "Of course that just by this explanation we have no idea if this would work or not, but it can be shown that this iterative process converges, and thus it makes sense to use it.\n",
    "\n",
    "### TL;DR\n",
    "\n",
    "We define $V(s) = 0$ for every state in $S$ and then iteratively update the values, for each state re-assigning the value of $V(s)$ as\n",
    "\n",
    "$$V(s) = \\max_a \\{ \\sum_{s' \\in S} P_a(s,s')\\left(R_a(s,s') + \\gamma V_n(s')\\right) \\}$$\n",
    "\n",
    "until the values of $V$ don't change from one iteration to the next one. After that process has been completed, the optimal policy $\\pi^*$ is\n",
    "\n",
    "$$\\pi^*(s) = arg\\,max_a \\{ \\sum_{s' \\in S} P_a(s,s')\\left(R_a(s,s') + \\gamma V_n(s')\\right) \\}$$\n",
    "\n",
    "and now... the code!"
   ]
  },
  {
   "cell_type": "markdown",
   "metadata": {},
   "source": [
    "Below you can find the part of the code that does the actual value iteration and updates the values of $V$ until the changes are bareably noticeable (that is, the changes are below a certain threshold).\n",
    "\n",
    "We start by defining the number of disks and the discount factor $\\gamma$. After that we define all the possible states and initialize $V$ at $0$, except for the value of the terminal state, which we initialize with a very high value. Later when we are updating the values of all the states, we skip that terminal state. If we didn't want to initialize the terminal state differently, then we would have to treat the terminal state differently in the value iteration (you will see what I mean when we get to the Q-learning algorithm).\n",
    "\n",
    "The main loop is just the value iteration as I described earlier."
   ]
  },
  {
   "cell_type": "code",
   "execution_count": 9,
   "metadata": {
    "collapsed": false
   },
   "outputs": [],
   "source": [
    "N = 5 # number of disks\n",
    "\n",
    "gamma = 0.9\n",
    "\n",
    "all_states = define_states(N)\n",
    "\n",
    "# initialize V\n",
    "V = {dictify(state): 0 for state in all_states[1:]}\n",
    "V[FINAL_STATE] = 99999  # infinite value\n",
    "max_change = 1  # error tolerance\n",
    "i = 0\n",
    "max_iters = pow(10, N)\n",
    "while max_change > 0.001 and i < max_iters:\n",
    "    max_change = 0\n",
    "    # skip the terminal state, that one has infinite value\n",
    "    for state in all_states[1:]:\n",
    "        m = -10000\n",
    "        for action in actions:\n",
    "            go_to, reward = transition(state, action)\n",
    "            temp = reward + gamma*V[dictify(go_to)]\n",
    "            if temp > m:\n",
    "                m = temp\n",
    "        max_change = max(max_change, abs(m - V[dictify(state)]))\n",
    "        V[dictify(state)] = m\n",
    "    i += 1\n",
    "if i == max_iters:\n",
    "    print(\"NO CONVERGENCE GUARANTEED\")"
   ]
  },
  {
   "cell_type": "markdown",
   "metadata": {},
   "source": [
    "After the value iteration is completed, we can then extract the policy and apply it to our game!\n",
    "\n",
    "Notice that my `create_policy` function returns a function, and uses a really nice trick called _memoization_ to spare us some work! We just compute the $\\pi(s)$ values we end up needing, not all of them! For these values of $N$ this isn't really meaningful, but it is a good excuse to train a different technique."
   ]
  },
  {
   "cell_type": "code",
   "execution_count": 14,
   "metadata": {
    "collapsed": false
   },
   "outputs": [
    {
     "name": "stdout",
     "output_type": "stream",
     "text": [
      "0: [[5, 4, 3, 2, 1], [], []]\n",
      "1: [[5, 4, 3, 2], [1], []]\n",
      "2: [[5, 4, 3], [1], [2]]\n",
      "3: [[5, 4, 3], [], [2, 1]]\n",
      "4: [[5, 4], [3], [2, 1]]\n",
      "5: [[5, 4, 1], [3], [2]]\n",
      "6: [[5, 4, 1], [3, 2], []]\n",
      "7: [[5, 4], [3, 2, 1], []]\n",
      "8: [[5], [3, 2, 1], [4]]\n",
      "9: [[5], [3, 2], [4, 1]]\n",
      "10: [[5, 2], [3], [4, 1]]\n",
      "11: [[5, 2, 1], [3], [4]]\n",
      "12: [[5, 2, 1], [], [4, 3]]\n",
      "13: [[5, 2], [1], [4, 3]]\n",
      "14: [[5], [1], [4, 3, 2]]\n",
      "15: [[5], [], [4, 3, 2, 1]]\n",
      "16: [[], [5], [4, 3, 2, 1]]\n",
      "17: [[1], [5], [4, 3, 2]]\n",
      "18: [[1], [5, 2], [4, 3]]\n",
      "19: [[], [5, 2, 1], [4, 3]]\n",
      "20: [[3], [5, 2, 1], [4]]\n",
      "21: [[3], [5, 2], [4, 1]]\n",
      "22: [[3, 2], [5], [4, 1]]\n",
      "23: [[3, 2, 1], [5], [4]]\n",
      "24: [[3, 2, 1], [5, 4], []]\n",
      "25: [[3, 2], [5, 4, 1], []]\n",
      "26: [[3], [5, 4, 1], [2]]\n",
      "27: [[3], [5, 4], [2, 1]]\n",
      "28: [[], [5, 4, 3], [2, 1]]\n",
      "29: [[1], [5, 4, 3], [2]]\n",
      "30: [[1], [5, 4, 3, 2], []]\n",
      "31: [[], [5, 4, 3, 2, 1], []]\n"
     ]
    }
   ],
   "source": [
    "\n",
    "def create_policy(V):\n",
    "    \"\"\"Given the final dict of state values, creates the policy\"\"\"\n",
    "    known_values = dict()   # store already computed values\n",
    "    def policy(state):\n",
    "        # if we have computed this action, use it\n",
    "        t = dictify(state)\n",
    "        if t in known_values.keys():\n",
    "            return known_values[t]\n",
    "        else:   # we still need to find what is the action that maximizes\n",
    "            best_action = None\n",
    "            best_value = -1000000\n",
    "            for action in actions:\n",
    "                go_to, _ = transition(state, action)\n",
    "                value = V[dictify(go_to)]\n",
    "                if value > best_value:\n",
    "                    best_value = value\n",
    "                    best_action = action\n",
    "            known_values[t] = best_action\n",
    "            return best_action\n",
    "    return policy\n",
    "\n",
    "# solve the Tower of Hanoi\n",
    "state = [[i for i in range(N, 0, -1)],[],[]]\n",
    "pi = create_policy(V)\n",
    "stop_at = pow(2, N+1)\n",
    "iter = 0\n",
    "game = [state]\n",
    "while state != FINAL_STATE and iter < stop_at:\n",
    "    print(\"{}: {}\".format(iter, state))\n",
    "    state, _ = transition(state, pi(state))\n",
    "    game.append(state)\n",
    "    iter += 1\n",
    "game = game[:-1] # remove the terminal state that isn't printable by print_game_sequence"
   ]
  },
  {
   "cell_type": "code",
   "execution_count": 15,
   "metadata": {
    "collapsed": false
   },
   "outputs": [
    {
     "data": {
      "image/png": "[encoded data removed]",
      "text/plain": [
       "<matplotlib.figure.Figure at 0x8457278>"
      ]
     },
     "metadata": {},
     "output_type": "display_data"
    },
    {
     "data": {
      "image/png": "[encoded data removed]",
      "text/plain": [
       "<matplotlib.figure.Figure at 0x98f3b38>"
      ]
     },
     "metadata": {},
     "output_type": "display_data"
    },
    {
     "data": {
      "image/png": "[encoded data removed]",
      "text/plain": [
       "<matplotlib.figure.Figure at 0x80ffc50>"
      ]
     },
     "metadata": {},
     "output_type": "display_data"
    },
    {
     "data": {
      "image/png": "[encoded data removed]",
      "text/plain": [
       "<matplotlib.figure.Figure at 0x86cf390>"
      ]
     },
     "metadata": {},
     "output_type": "display_data"
    },
    {
     "data": {
      "image/png": "[encoded data removed]",
      "text/plain": [
       "<matplotlib.figure.Figure at 0x85be438>"
      ]
     },
     "metadata": {},
     "output_type": "display_data"
    },
    {
     "data": {
      "image/png": "[encoded data removed]",
      "text/plain": [
       "<matplotlib.figure.Figure at 0x85551d0>"
      ]
     },
     "metadata": {},
     "output_type": "display_data"
    },
    {
     "data": {
      "image/png": "[encoded data removed]",
      "text/plain": [
       "<matplotlib.figure.Figure at 0x99c9748>"
      ]
     },
     "metadata": {},
     "output_type": "display_data"
    },
    {
     "data": {
      "image/png": "[encoded data removed]",
      "text/plain": [
       "<matplotlib.figure.Figure at 0x8621dd8>"
      ]
     },
     "metadata": {},
     "output_type": "display_data"
    },
    {
     "data": {
      "image/png": "[encoded data removed]",
      "text/plain": [
       "<matplotlib.figure.Figure at 0x4dcd9b0>"
      ]
     },
     "metadata": {},
     "output_type": "display_data"
    },
    {
     "data": {
      "image/png": "[encoded data removed]",
      "text/plain": [
       "<matplotlib.figure.Figure at 0x83e5f60>"
      ]
     },
     "metadata": {},
     "output_type": "display_data"
    },
    {
     "data": {
      "image/png": "[encoded data removed]",
      "text/plain": [
       "<matplotlib.figure.Figure at 0x862db00>"
      ]
     },
     "metadata": {},
     "output_type": "display_data"
    },
    {
     "data": {
      "image/png": "[encoded data removed]",
      "text/plain": [
       "<matplotlib.figure.Figure at 0x99e5a20>"
      ]
     },
     "metadata": {},
     "output_type": "display_data"
    },
    {
     "data": {
      "image/png": "[encoded data removed]",
      "text/plain": [
       "<matplotlib.figure.Figure at 0x86b3b38>"
      ]
     },
     "metadata": {},
     "output_type": "display_data"
    },
    {
     "data": {
      "image/png": "[encoded data removed]",
      "text/plain": [
       "<matplotlib.figure.Figure at 0x83a0160>"
      ]
     },
     "metadata": {},
     "output_type": "display_data"
    },
    {
     "data": {
      "image/png": "[encoded data removed]",
      "text/plain": [
       "<matplotlib.figure.Figure at 0x8742748>"
      ]
     },
     "metadata": {},
     "output_type": "display_data"
    },
    {
     "data": {
      "image/png": "[encoded data removed]",
      "text/plain": [
       "<matplotlib.figure.Figure at 0x9861a20>"
      ]
     },
     "metadata": {},
     "output_type": "display_data"
    },
    {
     "data": {
      "image/png": "[encoded data removed]",
      "text/plain": [
       "<matplotlib.figure.Figure at 0x991d358>"
      ]
     },
     "metadata": {},
     "output_type": "display_data"
    },
    {
     "data": {
      "image/png": "[encoded data removed]",
      "text/plain": [
       "<matplotlib.figure.Figure at 0x9987c50>"
      ]
     },
     "metadata": {},
     "output_type": "display_data"
    },
    {
     "data": {
      "image/png": "[encoded data removed]",
      "text/plain": [
       "<matplotlib.figure.Figure at 0x991dcc0>"
      ]
     },
     "metadata": {},
     "output_type": "display_data"
    },
    {
     "data": {
      "image/png": "[encoded data removed]",
      "text/plain": [
       "<matplotlib.figure.Figure at 0x98cc208>"
      ]
     },
     "metadata": {},
     "output_type": "display_data"
    },
    {
     "data": {
      "image/png": "[encoded data removed]",
      "text/plain": [
       "<matplotlib.figure.Figure at 0x84af0b8>"
      ]
     },
     "metadata": {},
     "output_type": "display_data"
    },
    {
     "data": {
      "image/png": "[encoded data removed]",
      "text/plain": [
       "<matplotlib.figure.Figure at 0x8400f98>"
      ]
     },
     "metadata": {},
     "output_type": "display_data"
    },
    {
     "data": {
      "image/png": "[encoded data removed]",
      "text/plain": [
       "<matplotlib.figure.Figure at 0x8403cf8>"
      ]
     },
     "metadata": {},
     "output_type": "display_data"
    },
    {
     "data": {
      "image/png": "[encoded data removed]",
      "text/plain": [
       "<matplotlib.figure.Figure at 0x837e6a0>"
      ]
     },
     "metadata": {},
     "output_type": "display_data"
    },
    {
     "data": {
      "image/png": "[encoded data removed]",
      "text/plain": [
       "<matplotlib.figure.Figure at 0x8355f98>"
      ]
     },
     "metadata": {},
     "output_type": "display_data"
    },
    {
     "data": {
      "image/png": "[encoded data removed]",
      "text/plain": [
       "<matplotlib.figure.Figure at 0x83ece48>"
      ]
     },
     "metadata": {},
     "output_type": "display_data"
    },
    {
     "data": {
      "image/png": "[encoded data removed]",
      "text/plain": [
       "<matplotlib.figure.Figure at 0x853deb8>"
      ]
     },
     "metadata": {},
     "output_type": "display_data"
    },
    {
     "data": {
      "image/png": "[encoded data removed]",
      "text/plain": [
       "<matplotlib.figure.Figure at 0x85ce240>"
      ]
     },
     "metadata": {},
     "output_type": "display_data"
    },
    {
     "data": {
      "image/png": "[encoded data removed]",
      "text/plain": [
       "<matplotlib.figure.Figure at 0x99d0d68>"
      ]
     },
     "metadata": {},
     "output_type": "display_data"
    },
    {
     "data": {
      "image/png": "[encoded data removed]",
      "text/plain": [
       "<matplotlib.figure.Figure at 0x86bdac8>"
      ]
     },
     "metadata": {},
     "output_type": "display_data"
    },
    {
     "data": {
      "image/png": "[encoded data removed]",
      "text/plain": [
       "<matplotlib.figure.Figure at 0x85929e8>"
      ]
     },
     "metadata": {},
     "output_type": "display_data"
    },
    {
     "data": {
      "image/png": "[encoded data removed]",
      "text/plain": [
       "<matplotlib.figure.Figure at 0x4dcd320>"
      ]
     },
     "metadata": {},
     "output_type": "display_data"
    }
   ],
   "source": [
    "print_game_sequence(game)"
   ]
  },
  {
   "cell_type": "markdown",
   "metadata": {},
   "source": [
    "### Side note on memoization\n",
    "\n",
    "The technique of memoization can be used to speed up the computation of some functions (at the cost of some memory, of course). A classical example is that of the Fibonacci function! The $n$-th Fibonacci number is defined as\n",
    "\n",
    "$$F_n = F_{n-1} + F_{n-2}$$\n",
    "\n",
    "with $F_0 = F_1 = 1$. The expression above is trivially translated into code, giving the function `fibonacci` below:"
   ]
  },
  {
   "cell_type": "code",
   "execution_count": 17,
   "metadata": {
    "collapsed": true
   },
   "outputs": [],
   "source": [
    "def fibonacci(n):\n",
    "    if n == 0 or n == 1:\n",
    "        return 1\n",
    "    else:\n",
    "        return fibonacci(n-1) + fibonacci(n-2)"
   ]
  },
  {
   "cell_type": "code",
   "execution_count": 25,
   "metadata": {
    "collapsed": false
   },
   "outputs": [
    {
     "name": "stdout",
     "output_type": "stream",
     "text": [
      "Wall time: 2.92 s\n"
     ]
    },
    {
     "data": {
      "text/plain": [
       "5702887"
      ]
     },
     "execution_count": 25,
     "metadata": {},
     "output_type": "execute_result"
    }
   ],
   "source": [
    "%%time\n",
    "fibonacci(33)"
   ]
  },
  {
   "cell_type": "markdown",
   "metadata": {},
   "source": [
    "Notice that computing $F_{33}$ already takes close to $3$ seconds! But if we reimplement the recursive Fibonacci function with the memoization as below, we get really significant speed-ups!\n",
    "\n",
    "(of course one can implement the Fibonacci function iteratively thus dealing with this problem _without_ resorting to memoization)"
   ]
  },
  {
   "cell_type": "code",
   "execution_count": 57,
   "metadata": {
    "collapsed": false
   },
   "outputs": [
    {
     "name": "stdout",
     "output_type": "stream",
     "text": [
      "Wall time: 0 ns\n"
     ]
    },
    {
     "data": {
      "text/plain": [
       "14913169640232740127827512057302148063648650711209401966150219926546779697987984279570098768737999681"
      ]
     },
     "execution_count": 57,
     "metadata": {},
     "output_type": "execute_result"
    }
   ],
   "source": [
    "del fib # delete the function so that the stored values don't linger around\n",
    "\n",
    "def memoization_wrapper(f):\n",
    "    d = dict()\n",
    "    def function(inp):\n",
    "        if inp not in d.keys():\n",
    "            d[inp] = f(inp)\n",
    "        return d[inp]\n",
    "    return function\n",
    "\n",
    "@memoization_wrapper\n",
    "def fib(n):\n",
    "    if n == 0 or n == 1:\n",
    "        return 1\n",
    "    else:\n",
    "        return fib(n-1) + fib(n-2)\n",
    "    \n",
    "%time fib(480)"
   ]
  },
  {
   "cell_type": "markdown",
   "metadata": {},
   "source": [
    "<a id=\"policy_iteration\"></a>\n",
    "### Policy iteration"
   ]
  },
  {
   "cell_type": "markdown",
   "metadata": {},
   "source": [
    "<a id=\"q_learning\"></a>\n",
    "### Q-learning"
   ]
  },
  {
   "cell_type": "markdown",
   "metadata": {},
   "source": [
    "<a id=\"doubleq_learning\"></a>\n",
    "### Double Q-learning"
   ]
  },
  {
   "cell_type": "code",
   "execution_count": null,
   "metadata": {
    "collapsed": true
   },
   "outputs": [],
   "source": []
  }
 ],
 "metadata": {
  "kernelspec": {
   "display_name": "Python 3",
   "language": "python",
   "name": "python3"
  },
  "language_info": {
   "codemirror_mode": {
    "name": "ipython",
    "version": 3
   },
   "file_extension": ".py",
   "mimetype": "text/x-python",
   "name": "python",
   "nbconvert_exporter": "python",
   "pygments_lexer": "ipython3",
   "version": "3.6.0"
  }
 },
 "nbformat": 4,
 "nbformat_minor": 2
}
