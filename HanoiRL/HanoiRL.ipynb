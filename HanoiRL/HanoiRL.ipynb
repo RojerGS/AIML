{
 "cells": [
  {
   "cell_type": "markdown",
   "metadata": {},
   "source": [
    "Reinforcement Learning for the Tower of Hanoi\n",
    "========================\n",
    "\n",
    "The purpose of this notebook is to be a self-contained explanation of the RL algorithms used in [my GitHub repo](https://github.com/RojerGS/AIML/tree/master/HanoiRL) where I try to solve the Tower of Hanoi.\n",
    "\n",
    "I will try to be as clear as possible in everything I do, as I will also be taking parts of this notebook (as I write them) and publish them in my [maths and programming blog](https://mathspp.blogspot.com).\n",
    "\n",
    "Contents of this notebook\n",
    "---------------------------\n",
    " * [The problem](#theproblem)\n",
    "   - [Encoding the Tower of Hanoi as a markov decision process](#encoding)\n",
    "   - [Visualizing a game session](#visualization)\n",
    " * [Algorithms](#algorithms)\n",
    "   - [Value iteration](#value_iteration)\n",
    "   - [Policy iteration](#policy_iteration)\n",
    "   - [Q-learning](#q_learning)\n",
    "     - [Exploration vs. Exploitation](#exploration_exploitation)\n",
    "   - [Double Q-learning](#doubleq_learning)"
   ]
  },
  {
   "cell_type": "markdown",
   "metadata": {},
   "source": [
    "<a id=\"theproblem\"></a>\n",
    "The problem\n",
    "------------\n",
    "\n",
    "The Tower of Hanoi is a puzzle in the form of a simple toy:\n",
    "\n",
    "![A Tower of Hanoi toy](https://4.bp.blogspot.com/-RQ2qBzhT4uQ/W7OoofQs0QI/AAAAAAAABDc/Dw5qg_55sGYXEFZ9bIzhUj6TMtVipAvSQCLcBGAs/s1600/frame08.png \"Tower of Hanoi\")\n",
    "\n",
    "composed of three poles and a set of different-sized disks (4 in the image above). The disks start all in the left pole, with the biggest disk on the bottom, all the way up to the smallest disk on top. The goal of the puzzle is to move *all* disks to a different pole than the starting one by moving one disk at a time. There is only one simple restriction: a disk can never be on top of a smaller disk!"
   ]
  },
  {
   "cell_type": "markdown",
   "metadata": {},
   "source": [
    "<a id=\"encoding\"></a>\n",
    "### Encoding the Tower of Hanoi as a Markov decision process\n",
    "\n",
    "The first thing to do is to encode the puzzle of the Tower of Hanoi as a Markov decision process. Recall that an [mdp](https://mathspp.blogspot.com/2018/09/markov-decision-processes-basics.html) needs five ingredients to be well-defined, a quintuple $(S, A, P_a, R_a, \\gamma)$ with the states, the actions, the transition probabilities, the rewards and the discount factor $\\gamma$. The discount factor will be left undefined for now and we will fiddle with it when we implement the different algorithms.\n",
    "\n",
    "For this explanation assume the number of disks $N$ is fixed. We will define $3^N + 1$ states: $3^N$ are all the ways in which the disks can be distributed legally among the three poles. The $+1$ is for the terminal state we want to reach when the algorithm thinks the puzzle has been completed.\n",
    "\n",
    "For the regular game states we will use a list of three lists, where each sublist will have the numbers corresponding to the disks in that pole; for example, the list\n",
    "\n",
    "```\n",
    "[\n",
    "[],\n",
    "[3,2,1],\n",
    "[4]\n",
    "]\n",
    "```\n",
    "\n",
<<<<<<< HEAD
    "corresponds to the setting of the above image. Notice that bigger numbers correspond to bigger disks and that the bottom of the pole corresponds to the beginning of the list, hence the list above can be further identified with the image above if we rotate the image $90^\\circ$ clockwise; the terminal state will be represented by a constant.\n",
=======
    "corresponds to the setting of the above image. Notice that bigger numbers correspond to bigger disks and that the bottom of the pole corresponds to the beginning of the list, hence the list above can be further identified with the image above if we rotate the image $90^\\circ$ clockwise; the terminal state will be represented by a constanst.\n",
>>>>>>> bb09613026ca583d82e5dcb13937dd00cb550de9
    "\n",
    "We can thus define the following `define_states` function:"
   ]
  },
  {
   "cell_type": "code",
   "execution_count": 1,
   "metadata": {
    "collapsed": true
   },
   "outputs": [],
   "source": [
    "FINAL_STATE = \"DONE\"    # special state for when the Hanoi Tower was solved\n",
    "\n",
    "def define_states(n):\n",
    "    \"\"\"Recursively define all the possible states of an n-disk Hanoi tower\"\"\"\n",
    "    def aux(n):\n",
    "        if n == 1:\n",
    "            return [\n",
    "                    [[1],[],[]],\n",
    "                    [[],[1],[]],\n",
    "                    [[],[],[1]]\n",
    "                    ]\n",
    "        else:\n",
    "            partial = aux(n-1)\n",
    "            final = []\n",
    "            for state in partial:\n",
    "                a, b, c = state\n",
    "                final.append([[n]+a, b, c])\n",
    "                final.append([a, [n]+b, c])\n",
    "                final.append([a, b, [n]+c])\n",
    "            return final\n",
    "\n",
    "    return [FINAL_STATE] + aux(n)"
   ]
  },
  {
   "cell_type": "markdown",
   "metadata": {},
   "source": [
    "After defining the states we now define the actions. We will define $7$ actions: $6$ of them will be the states corresponding to moving disks from one of the poles to any of the other two poles; those will be written as 2-character strings. The first character of the string represents the pole from which we removed and the second character represents the pole in which we want to insert.\n",
    "\n",
    "The seventh action is for when the algorithm thinks it has completed the puzzle and hence \"claims\" the puzzle has been finished. For this action we use another constant."
   ]
  },
  {
   "cell_type": "code",
   "execution_count": 2,
   "metadata": {
    "collapsed": true
   },
   "outputs": [],
   "source": [
    "COMPLETED = \"COMPLETED\" # special action when the MDP thinks we are done\n",
    "actions = [COMPLETED, \"LC\", \"LR\", \"CL\", \"CR\", \"RL\", \"RC\"]"
   ]
  },
  {
   "cell_type": "markdown",
   "metadata": {},
   "source": [
    "After having defined states and actions we are now in position to define transition probabilities and rewards. We will assume all actions are available in all game states (_except_ for the terminal state where no action is available) but the restrictions imposed by the rules will be reflected in the transitions.\n",
    "\n",
    "Whenever a move is illegal (goes against the rules), whenever the move tries to remove a disk from an empty pole or the algorithm claims the puzzle is complete but isn't, we incurr in a penalty and we transition to the exact same state.\n",
    "\n",
    "Whenever the action represents a move and is legal, the state transition occurs as per the puzzle rules and there is no reward (i.e. the reward is $0$).\n",
    "\n",
    "Whenever we claim the puzzle is complete from one of the two final positions and thus enter the terminal state, we get a positive reward.\n",
    "\n",
    "This information is all encoded in the function `transition` which also makes use of the helper function `game_is_done`, used to check if the puzzle has indeed been done."
   ]
  },
  {
   "cell_type": "code",
   "execution_count": 3,
   "metadata": {
    "collapsed": true
   },
   "outputs": [],
   "source": [
    "from copy import deepcopy\n",
    "\n",
    "def game_is_done(state):\n",
    "    \"\"\"Return if the Hanoi Tower was solved;\n",
    "        Assume we always start with all disks on the left\"\"\"\n",
    "    return (len(state[0]) == len(state[1]) == 0 and \\\n",
    "                sorted(state[2], reverse=True) == state[2]) or \\\n",
    "            (len(state[0]) == len(state[2]) == 0 and \\\n",
    "                sorted(state[1], reverse=True) == state[1])\n",
    "\n",
    "def transition(state, action):\n",
    "    \"\"\"Given a <state> and an <action>, return the new state\n",
    "        and the reward we got.\n",
    "    The actions are of the form L|C|R + L|C|R,\n",
    "        where the first character says from where we remove (Left,Centre,Right)\n",
    "        the second character says where we are inserting (Left,Centre,Right)\n",
    "        OR\n",
    "        COMPLETED to transition into the final state when the game is done\"\"\"\n",
    "    R_illegal = -3      # reward if the action was an illegal move\n",
    "    R_final = 5         # reward if we end the game\n",
    "    R_default = 0       # default reward\n",
    "\n",
    "    # deal with the action COMPLETED separately\n",
    "    if action == COMPLETED:\n",
    "        if game_is_done(state):\n",
    "            return FINAL_STATE, R_final\n",
    "        else:\n",
    "            return state, R_illegal\n",
    "\n",
    "    state_ = deepcopy(state)\n",
    "    # disassemble the state and the action\n",
    "    d = {'L': 0, 'C': 1, 'R': 2}\n",
    "    i = d[action[0]]    # remove from this pile\n",
    "    j = d[action[1]]    # insert into this pile\n",
    "    if not state_[i]:   # can we remove?\n",
    "        return state, R_illegal\n",
    "    moving = state_[i].pop()\n",
    "    if (state_[j] and moving > state_[j][-1]):\n",
    "        # illegal move found\n",
    "        return state, R_illegal\n",
    "    else:\n",
    "        state_[j].append(moving)\n",
    "        return state_, R_default"
   ]
  },
  {
   "cell_type": "markdown",
   "metadata": {},
   "source": [
    "We also define an auxiliary function `dictify` that turns a game state into something that can be used as a dictionary key (because lists can't). I didn't know this would be useful from the start, but turns out that when we use the algorithms it kind of helps, so lets just take that out of the way."
   ]
  },
  {
   "cell_type": "code",
   "execution_count": 4,
   "metadata": {
    "collapsed": true
   },
   "outputs": [],
   "source": [
    "def dictify(state):\n",
    "    \"\"\"Turns a state into a valid dict key\"\"\"\n",
    "    if state == FINAL_STATE:\n",
    "        return state\n",
    "    else:\n",
    "        return tuple([tuple(item) for item in state])"
   ]
  },
  {
   "cell_type": "markdown",
   "metadata": {},
   "source": [
    "To sum up, we recursively defined all the states in `define_states(N)` and implemented a transition function `transition(state, action)` that handles the transitions and the rewards. We also implemented two helper functions, `game_is_done)state)` to recognize if a state corresponds to one where the game is done and `dictify(state)` that will come in handy when we deal with dictionaries. We also defined all the available actions.\n",
    "\n",
    "Below I present all the code as I have it in my `hanoi_mdp.py` file, available [in my GitHub](https://github.com/RojerGS/AIML/tree/master/HanoiRL)."
   ]
  },
  {
   "cell_type": "code",
   "execution_count": 5,
   "metadata": {
    "collapsed": true
   },
   "outputs": [],
   "source": [
    "# contents of hanoi_mdp.py, available at https://github.com/RojerGS/AIML/tree/master/HanoiRL\n",
    "from copy import deepcopy\n",
    "\n",
    "COMPLETED = \"COMPLETED\" # special action when the MDP thinks we are done\n",
    "FINAL_STATE = \"DONE\"    # special state for when the Hanoi Tower was solved\n",
    "actions = [COMPLETED, \"LC\", \"LR\", \"CL\", \"CR\", \"RL\", \"RC\"]\n",
    "\n",
    "def dictify(state):\n",
    "    \"\"\"Turns a state into a valid dict key\"\"\"\n",
    "    if state == FINAL_STATE:\n",
    "        return state\n",
    "    else:\n",
    "        return tuple([tuple(item) for item in state])\n",
    "\n",
    "def define_states(n):\n",
    "    \"\"\"Recursively define all the possible states of an n-disk Hanoi tower\"\"\"\n",
    "    def aux(n):\n",
    "        if n == 1:\n",
    "            return [\n",
    "                    [[1],[],[]],\n",
    "                    [[],[1],[]],\n",
    "                    [[],[],[1]]\n",
    "                    ]\n",
    "        else:\n",
    "            partial = aux(n-1)\n",
    "            final = []\n",
    "            for state in partial:\n",
    "                a, b, c = state\n",
    "                final.append([[n]+a, b, c])\n",
    "                final.append([a, [n]+b, c])\n",
    "                final.append([a, b, [n]+c])\n",
    "            return final\n",
    "\n",
    "    return [FINAL_STATE] + aux(n)\n",
    "\n",
    "def game_is_done(state):\n",
    "    \"\"\"Return if the Hanoi Tower was solved;\n",
    "        Assume we always start with all disks on the left\"\"\"\n",
    "    return (len(state[0]) == len(state[1]) == 0 and \\\n",
    "                sorted(state[2], reverse=True) == state[2]) or \\\n",
    "            (len(state[0]) == len(state[2]) == 0 and \\\n",
    "                sorted(state[1], reverse=True) == state[1])\n",
    "\n",
    "def transition(state, action):\n",
    "    \"\"\"Given a <state> and an <action>, return the new state\n",
    "        and the reward we got.\n",
    "    The actions are of the form L|C|R + L|C|R,\n",
    "        where the first character says from where we remove (Left,Centre,Right)\n",
    "        the second character says where we are inserting (Left,Centre,Right)\n",
    "        OR\n",
    "        COMPLETED to transition into the final state when the game is done\"\"\"\n",
    "    R_illegal = -3      # reward if the action was an illegal move\n",
    "    R_final = 5         # reward if we end the game\n",
    "    R_default = 0       # default reward\n",
    "\n",
    "    # deal with the action COMPLETED separately\n",
    "    if action == COMPLETED:\n",
    "        if game_is_done(state):\n",
    "            return FINAL_STATE, R_final\n",
    "        else:\n",
    "            return state, R_illegal\n",
    "\n",
    "    state_ = deepcopy(state)\n",
    "    # disassemble the state and the action\n",
    "    d = {'L': 0, 'C': 1, 'R': 2}\n",
    "    i = d[action[0]]    # remove from this pile\n",
    "    j = d[action[1]]    # insert into this pile\n",
    "    if not state_[i]:   # can we remove?\n",
    "        return state, R_illegal\n",
    "    moving = state_[i].pop()\n",
    "    if (state_[j] and moving > state_[j][-1]):\n",
    "        # illegal move found\n",
    "        return state, R_illegal\n",
    "    else:\n",
    "        state_[j].append(moving)\n",
    "        return state_, R_default"
   ]
  },
  {
   "cell_type": "markdown",
   "metadata": {},
   "source": [
    "### Visualizing a game session\n",
    "<a id=\"visualization\"></a>\n",
    "\n",
    "The function `print_game_sequence` defined below gets as input a list with game states and prints a frame for each state, for us to visualize the game progression.\n",
    "\n",
    "This function uses `matplotlib.pyplot` so make sure you have that installed to use this \"feature\"."
   ]
  },
  {
   "cell_type": "code",
   "execution_count": 6,
   "metadata": {
    "collapsed": false
   },
   "outputs": [],
   "source": [
    "import matplotlib.pyplot as mp\n",
    "\n",
    "def print_game_sequence(game):\n",
    "    \"\"\"Given a Tower of Hanoi game sequence,\n",
    "        print a sequence of images representing the game\"\"\"\n",
    "    if not game:\n",
    "        return\n",
    "    \n",
    "    default_colours = [\"b\",\"g\",\"r\",\"c\",\"m\",\"y\"] # default colours\n",
    "    N = sum(map(len, game[0]))\n",
    "    if N <= len(default_colours):\n",
    "        colours = default_colours[:N]\n",
    "    else:\n",
    "        colours = [[i/N]*3 for i in range(N)] # use a scale of grays\n",
    "    \n",
    "    values = [i for i in range(N,0,-1)]\n",
    "    for frame in game:\n",
    "        # start with 3 tiny bars to represent the poles\n",
    "        xs = [2,4,6]\n",
    "        hs = [N]*3\n",
    "        ws = [0.1]*3\n",
    "        cs = [[0]*3]*3\n",
    "        for bar in frame:\n",
    "            # the disks in this bar all have the same x\n",
    "            xs += [2*(1+frame.index(bar))]*len(bar)\n",
    "            for idx in range(len(bar)-1,-1,-1):\n",
    "                # work from the top down\n",
    "                # to draw in the correct order\n",
    "                hs.append(idx+1)\n",
    "                w = 0.2 + 1.6*(bar[idx]/N)\n",
    "                ws.append(w)\n",
    "                cs.append(colours[bar[idx]-1])\n",
    "        # add three \"bars\" that together make the base\n",
    "        xs += [2,4,6]\n",
    "        hs += [0.1]*3\n",
    "        ws += [2]*3\n",
    "        cs += [[0.2, 0.8, 0.66]]*3\n",
    "        mp.bar(xs, hs, ws, color = cs)\n",
    "        mp.axis(\"off\")\n",
    "        mp.ylim(0, N)\n",
    "        mp.show()"
   ]
  },
  {
   "cell_type": "code",
   "execution_count": 7,
   "metadata": {
    "collapsed": false
   },
   "outputs": [
    {
     "data": {
      "image/png": "iVBORw0KGgoAAAANSUhEUgAAAX4AAAD8CAYAAABw1c+bAAAABHNCSVQICAgIfAhkiAAAAAlwSFlz\nAAALEgAACxIB0t1+/AAAA/NJREFUeJzt3MFNw0AQQNEsoiPohXIQ5dAL1DQ0YKEcQjb4v9dAZjPW\n117sNTMXADqedg8AwH0JP0CM8APECD9AjPADxAg/QIzwA8QIP0CM8APEPO8e4D9a63Ka151nLmv3\nDI9urXW475nx3210tBc7uY4bP0CM8APECD9AjPADxAg/QIzwA8QIP0CM8APECD9AjPADxAg/QIzw\nA8QIP0CM8APECD9AjPADxAg/QIzwA8QIP0CM8APECD9AjPADxAg/QIzwA8QIP0CM8APECD9AjPAD\nxAg/QIzwA8QIP0CM8APECD9AjPADxAg/QIzwA8QIP0CM8APECD9AjPADxAg/QIzwA8QIP0CM8APE\nCD9AjPADxAg/QIzwA8QIP0CM8APECD9AjPADxAg/QIzwA8QIP0CM8APECD9AjPADxAg/QIzwA8QI\nP0CM8APECD9AjPADxAg/QIzwA8QIP0CM8APECD9AjPADxAg/QIzwA8QIP0CM8APECD9AjPADxAg/\nQIzwA8QIP0CM8APECD9AjPADxAg/QIzwA8QIP0CM8APECD9AjPADxAg/QIzwA8QIP0CM8APECD9A\njPADxAg/QIzwA8QIP0CM8APECD9AjPADxAg/QIzwA8QIP0CM8APECD9AjPADxAg/QIzwA8Ssmdk9\nw59bH+v8h3wQ8z5r9wy3ttbx8zNzvrP+J0d7sZPruPEDxAg/QIzwA8QIP0CM8APECD9AjPADxAg/\nQIzwA8QIP0CM8APECD9AjPADxAg/QIzwA8QIP0CM8APECD9AjPADxAg/QIzwA8QIP0CM8APECD9A\njPADxAg/QIzwA8QIP0CM8APECD9AjPADxAg/QIzwA8QIP0CM8APECD9AjPADxAg/QIzwA8QIP0CM\n8APECD9AjPADxAg/QIzwA8QIP0CM8APECD9AjPADxAg/QIzwA8QIP0CM8APECD9AjPADxAg/QIzw\nA8QIP0CM8APECD9AjPADxAg/QIzwA8QIP0CM8APECD9AjPADxAg/QIzwA8QIP0CM8APECD9AjPAD\nxAg/QIzwA8QIP0CM8APECD9AjPADxAg/QIzwA8QIP0CM8APECD9AjPADxAg/QIzwA8QIP0CM8APE\nCD9AjPADxAg/QIzwA8QIP0CM8APECD9AjPADxKyZ2T3DTb1+f57rQEDG18vbusfvuPEDxAg/QIzw\nA8QIP0CM8APECD9AjPADxAg/QIzwA8QIP0DM6T7ZAMDv3PgBYoQfIEb4AWKEHyBG+AFihB8gRvgB\nYoQfIEb4AWKEHyBG+AFihB8gRvgBYoQfIEb4AWKEHyBG+AFihB8gRvgBYoQfIEb4AWKEHyBG+AFi\nfgBfsCjrH9XMRAAAAABJRU5ErkJggg==\n",
      "text/plain": [
       "<matplotlib.figure.Figure at 0x4e79b70>"
      ]
     },
     "metadata": {},
     "output_type": "display_data"
    },
    {
     "data": {
      "image/png": "iVBORw0KGgoAAAANSUhEUgAAAX4AAAD8CAYAAABw1c+bAAAABHNCSVQICAgIfAhkiAAAAAlwSFlz\nAAALEgAACxIB0t1+/AAAA/NJREFUeJzt3MFNxDAUANEY0RH0QjmIcugFavocOKFFHBCsIfNeA/mJ\n45EvyZqZA4COm90DAHBdwg8QI/wAMcIPECP8ADHCDxAj/AAxwg8QI/wAMbe7B+CjtdbFp9Qzs3bM\nwrvP1uQ4rMtu9sr3OfEDxAg/QIzwA8QIP0CM8APECD9AjPADxAg/QIzwA8QIP0CM8APECD9AjPAD\nxAg/QIzwA8QIP0CM8APECD9AjPADxAg/QIzwA8QIP0CM8APECD9AjPADxAg/QIzwA8QIP0CM8APE\nCD9AjPADxAg/QIzwA8QIP0CM8APECD9AjPADxAg/QIzwA8QIP0CM8APECD9AjPADxAg/QIzwA8QI\nP0CM8APECD9AjPADxAg/QIzwA8QIP0CM8APECD9AjPADxAg/QIzwA8QIP0CM8APECD9AjPADxAg/\nQIzwA8QIP0CM8APECD9AjPADxAg/QIzwA8QIP0CM8APECD9AjPADxAg/QIzwA8QIP0CM8APECD9A\njPADxAg/QIzwA8QIP0CM8APECD9AjPADxAg/QIzwA8QIP0CM8APECD9AjPADxAg/QIzwA8QIP0CM\n8APECD9AjPADxAg/QIzwA8QIP0CM8APECD9AjPADxAg/QIzwA8QIP0CM8APECD9AzJqZ3TP8uvW0\nzn+Tf8Q8ztp17bWOU6zzzLHtGf4na13u65l9799/4sQPECP8ADHCDxAj/AAxwg8QI/wAMcIPECP8\nADHCDxAj/AAxwg8QI/wAMcIPECP8ADHCDxAj/AAxwg8QI/wAMcIPECP8ADHCDxAj/AAxwg8QI/wA\nMcIPECP8ADHCDxAj/AAxwg8QI/wAMcIPECP8ADHCDxAj/AAxwg8QI/wAMcIPECP8ADHCDxAj/AAx\nwg8QI/wAMcIPECP8ADHCDxAj/AAxwg8QI/wAMcIPECP8ADHCDxAj/AAxwg8QI/wAMcIPECP8ADHC\nDxAj/AAxwg8QI/wAMcIPECP8ADHCDxAj/AAxwg8QI/wAMcIPECP8ADHCDxAj/AAxwg8QI/wAMcIP\nECP8ADHCDxAj/AAxwg8QI/wAMcIPECP8ADHCDxAj/AAxwg8QI/wAMcIPECP8ADHCDxAj/AAxwg8Q\nI/wAMcIPECP8ADHCDxAj/AAxwg8QI/wAMcIPELNmZvcMP+r+9flcNwRkvNw9rGtcx4kfIEb4AWKE\nHyBG+AFihB8gRvgBYoQfIEb4AWKEHyBG+AFiTvfLBgC+5sQPECP8ADHCDxAj/AAxwg8QI/wAMcIP\nECP8ADHCDxAj/AAxwg8QI/wAMcIPECP8ADHCDxAj/AAxwg8QI/wAMcIPECP8ADHCDxAj/AAxwg8Q\n8wYm5yjrqC2ExQAAAABJRU5ErkJggg==\n",
      "text/plain": [
       "<matplotlib.figure.Figure at 0x8218a58>"
      ]
     },
     "metadata": {},
     "output_type": "display_data"
    },
    {
     "data": {
      "image/png": "iVBORw0KGgoAAAANSUhEUgAAAX4AAAD8CAYAAABw1c+bAAAABHNCSVQICAgIfAhkiAAAAAlwSFlz\nAAALEgAACxIB0t1+/AAAA/FJREFUeJzt3MFNxDAUANEY0RH0QjmIcugFavocuIAWcUCwFpn3GsiP\nbI98SdbMHAB03OweAIDrEn6AGOEHiBF+gBjhB4gRfoAY4QeIEX6AGOEHiLndPQCfrbUuPqWembVj\nFt59tSbHYV12c1Z+zo0fIEb4AWKEHyBG+AFihB8gRvgBYoQfIEb4AWKEHyBG+AFihB8gRvgBYoQf\nIEb4AWKEHyBG+AFihB8gRvgBYoQfIEb4AWKEHyBG+AFihB8gRvgBYoQfIEb4AWKEHyBG+AFihB8g\nRvgBYoQfIEb4AWKEHyBG+AFihB8gRvgBYoQfIEb4AWKEHyBG+AFihB8gRvgBYoQfIEb4AWKEHyBG\n+AFihB8gRvgBYoQfIEb4AWKEHyBG+AFihB8gRvgBYoQfIEb4AWKEHyBG+AFihB8gRvgBYoQfIEb4\nAWKEHyBG+AFihB8gRvgBYoQfIEb4AWKEHyBG+AFihB8gRvgBYoQfIEb4AWKEHyBG+AFihB8gRvgB\nYoQfIEb4AWKEHyBG+AFihB8gRvgBYoQfIEb4AWKEHyBG+AFihB8gRvgBYoQfIEb4AWKEHyBG+AFi\nhB8gRvgBYoQfIEb4AWKEHyBG+AFihB8gRvgBYoQfIEb4AWKEHyBG+AFihB8gRvgBYtbM7J6BD9Za\nFwsyM2vHLP/NWscpNvPMsW2919Pl/uNvzOO+c+3GDxAj/AAxwg8QI/wAMcIPECP8ADHCDxAj/AAx\nwg8QI/wAMcIPECP8ADHCDxAj/AAxwg8QI/wAMcIPECP8ADHCDxAj/AAxwg8QI/wAMcIPECP8ADHC\nDxAj/AAxwg8QI/wAMcIPECP8ADHCDxAj/AAxwg8QI/wAMcIPECP8ADHCDxAj/AAxwg8QI/wAMcIP\nECP8ADHCDxAj/AAxwg8QI/wAMcIPECP8ADHCDxAj/AAxwg8QI/wAMcIPECP8ADHCDxAj/AAxwg8Q\nI/wAMcIPECP8ADHCDxAj/AAxwg8QI/wAMcIPECP8ADHCDxAj/AAxwg8QI/wAMcIPECP8ADHCDxAj\n/AAxwg8QI/wAMcIPECP8ADHCDxAj/AAxwg8QI/wAMcIPECP8ADHCDxAj/AAxwg8QI/wAMcIPECP8\nADHCDxAj/AAxwg8QI/wAMcIPECP8ADHCDxCzZmb3DL/q/vX5XC8EZLzcPaxrPMeNHyBG+AFihB8g\nRvgBYoQfIEb4AWKEHyBG+AFihB8gRvgBYk73ywYAvufGDxAj/AAxwg8QI/wAMcIPECP8ADHCDxAj\n/AAxwg8QI/wAMcIPECP8ADHCDxAj/AAxwg8QI/wAMcIPECP8ADHCDxAj/AAxwg8QI/wAMcIPEPMG\nJuco671DrF8AAAAASUVORK5CYII=\n",
      "text/plain": [
       "<matplotlib.figure.Figure at 0x82d8898>"
      ]
     },
     "metadata": {},
     "output_type": "display_data"
    },
    {
     "data": {
      "image/png": "iVBORw0KGgoAAAANSUhEUgAAAX4AAAD8CAYAAABw1c+bAAAABHNCSVQICAgIfAhkiAAAAAlwSFlz\nAAALEgAACxIB0t1+/AAAA/VJREFUeJzt3MFJBEEQQNFuMSPNxXDEcMxFYyoPXpRdxMOyA/PfS2Cq\nqeHTl5k9MwuAjoejBwDgvoQfIEb4AWKEHyBG+AFihB8gRvgBYoQfIEb4AWIejx6A3/beF59Sz8w+\nYha+XdvJWvbyH3uv0/waYGadZt9u/AAxwg8QI/wAMcIPECP8ADHCDxAj/AAxwg8QI/wAMcIPECP8\nADHCDxAj/AAxwg8QI/wAMcIPECP8ADHCDxAj/AAxwg8QI/wAMcIPECP8ADHCDxAj/AAxwg8QI/wA\nMcIPECP8ADHCDxAj/AAxwg8QI/wAMcIPECP8ADHCDxAj/AAxwg8QI/wAMcIPECP8ADHCDxAj/AAx\nwg8QI/wAMcIPECP8ADHCDxAj/AAxwg8QI/wAMcIPECP8ADHCDxAj/AAxwg8QI/wAMcIPECP8ADHC\nDxAj/AAxwg8QI/wAMcIPECP8ADHCDxAj/AAxwg8QI/wAMcIPECP8ADHCDxAj/AAxwg8QI/wAMcIP\nECP8ADHCDxAj/AAxwg8QI/wAMcIPECP8ADHCDxAj/AAxwg8QI/wAMcIPECP8ADHCDxAj/AAxwg8Q\nI/wAMcIPECP8ADHCDxAj/AAxwg8QI/wAMcIPECP8ADHCDxAj/AAxwg8QI/wAMcIPECP8ADHCDxCz\nZ+boGfhh732xkJnZR8zCt2s7Weuce9lv18/K7c3rce+PGz9AjPADxAg/QIzwA8QIP0CM8APECD9A\njPADxAg/QIzwA8QIP0CM8APECD9AjPADxAg/QIzwA8QIP0CM8APECD9AjPADxAg/QIzwA8QIP0CM\n8APECD9AjPADxAg/QIzwA8QIP0CM8APECD9AjPADxAg/QIzwA8QIP0CM8APECD9AjPADxAg/QIzw\nA8QIP0CM8APECD9AjPADxAg/QIzwA8QIP0CM8APECD9AjPADxAg/QIzwA8QIP0CM8APECD9AjPAD\nxAg/QIzwA8QIP0CM8APECD9AjPADxAg/QIzwA8QIP0CM8APECD9AjPADxAg/QIzwA8QIP0CM8APE\nCD9AjPADxAg/QIzwA8QIP0CM8APECD9AjPADxAg/QIzwA8QIP0CM8APECD9AjPADxAg/QIzwA8QI\nP0CM8APECD9AjPADxAg/QIzwA8QIP0CM8APECD9AzJ6Zo2e4qefP93MdCMj4eHrZ93iOGz9AjPAD\nxAg/QIzwA8QIP0CM8APECD9AjPADxAg/QIzwA8Sc7pcNAPzNjR8gRvgBYoQfIEb4AWKEHyBG+AFi\nhB8gRvgBYoQfIEb4AWKEHyBG+AFihB8gRvgBYoQfIEb4AWKEHyBG+AFihB8gRvgBYoQfIEb4AWKE\nHyDmC4vdKOspj9XCAAAAAElFTkSuQmCC\n",
      "text/plain": [
       "<matplotlib.figure.Figure at 0x823cd30>"
      ]
     },
     "metadata": {},
     "output_type": "display_data"
    }
   ],
   "source": [
    "# example usage of print_game_sequence with a game of 2 disks played optimally\n",
    "game = []\n",
    "game.append([[2,1],[],[]])\n",
    "game.append([[2],[1],[]])\n",
    "game.append([[],[1],[2]])\n",
    "game.append([[],[],[2,1]])\n",
    "print_game_sequence(game)\n",
    "del(game)"
   ]
  },
  {
   "cell_type": "markdown",
   "metadata": {},
   "source": [
    "<a id=\"algorithms\"></a>\n",
    "Algorithms\n",
    "-----------\n",
    "\n",
    "Given a Markov decision process we are usually interested in finding a function called _policy_, commonly referred to as $\\pi$, which is a function $\\pi: S \\to A$ that defines the strategy we will follow when inside the mdp. Usually our point is to maximize the quantity\n",
    "\n",
    "$$E[R] = \\sum_{t=0}^\\infty \\gamma^t r_t$$\n",
    "\n",
    "which is the expected reward we get when in the mdp. From a rather intuitive point of view, the mdp can be thought of a game and the rewards can be thought of points. When we play, we want to get as many points as possible! For that, we must know what are the moves to make (the actions) at each point of the \"game\" (the states).\n",
    "\n",
    "What the algorithms of RL give us is a way to find what the best policy is, so that we can use it in our environments. In this example of the Tower of Hanoi, the policy $\\pi$ is a function that, given a board state, tells us what the best move to make is!"
   ]
  },
  {
   "cell_type": "markdown",
   "metadata": {},
   "source": [
    "<a id=\"value_iteration\"></a>\n",
    "### Value iteration\n",
    "\n",
    "[Value iteration](https://en.wikipedia.org/wiki/Markov_decision_process#Value_iteration) is a great place to start learning about RL algorithms! To understand value iteration, think of this:\n",
    "\n",
    "What if we tried to attribute a value to each state? For each state $s$, let us look for a value $V(s)$ that reflects how good it is for me to be in state $s$. If you had something like that, then we would know how to act! Whenever we have to take an action, just choose the action that will take us to the state with best value!\n",
    "\n",
    "A good candidate for the value $V(s)$ of the state $s$ would be the expected reward we would get from $s$ onwards. If we are following the optimal policy $\\pi^*$ and if we write $a = \\pi^*(s)$ (i.e. if the action $a$ is the optimal action to take when in state $s$) then the following equality holds:\n",
    "\n",
    "$$V(s) = \\sum_{s' \\in S} P_a(s,s')\\left(R_a(s,s') + \\gamma V(s')\\right) $$\n",
    "\n",
    "which is a recursive definition of $V$ and that is related to the [Bellman equation](https://en.wikipedia.org/wiki/Bellman_equation), an equation that you will find frequently when learning about RL. Having found this equality, one could pretty much invent the algorithm all by itself! The algorithm has two steps:\n",
    "\n",
    " - Define initial values $V_0(s)$ for each state, representing your initial guesses of the values of each state\n",
    " \n",
    " - Repeatedly update the values of $V$ with the relation\n",
    " \n",
    " $$V_{n+1}(s) = \\max_a \\{ \\sum_{s' \\in S} P_a(s,s')\\left(R_a(s,s') + \\gamma V_n(s')\\right) \\}$$\n",
    " \n",
    "Notice that, because we don't know what the optimal policy is, we can't set $a = \\pi^*(s)$ and then update $V$ according to that action... Because of that, we have to estimate what the best action would be, and we do that by assuming the optimal action is the one that _maximizes_ the future expected reward.\n",
    "\n",
    "Of course that just by this explanation we have no idea if this would work or not, but it can be shown that this iterative process converges, and thus it makes sense to use it.\n",
    "\n",
    "### TL;DR\n",
    "\n",
    "We define $V(s) = 0$ for every state in $S$ and then iteratively update the values, for each state re-assigning the value of $V(s)$ as\n",
    "\n",
    "$$V_{n+1}(s) = \\max_a \\{ \\sum_{s' \\in S} P_a(s,s')\\left(R_a(s,s') + \\gamma V_n(s')\\right) \\}$$\n",
    "\n",
    "until the values of $V$ don't change from one iteration to the next one. After that process has been completed, the optimal policy $\\pi^*$ is\n",
    "\n",
    "$$\\pi^*(s) = arg\\,max_a \\{ \\sum_{s' \\in S} P_a(s,s')\\left(R_a(s,s') + \\gamma V(s')\\right) \\}$$\n",
    "\n",
    "and now... the code!"
   ]
  },
  {
   "cell_type": "markdown",
   "metadata": {},
   "source": [
    "Below you can find the part of the code that does the actual value iteration and updates the values of $V$ until the changes are bareably noticeable (that is, the changes are below a certain threshold).\n",
    "\n",
    "We start by defining the number of disks and the discount factor $\\gamma$. After that we define all the possible states and initialize $V$ at $0$, except for the value of the terminal state, which we initialize with a very high value. This is just a quick hack so that I don't have to treat the terminal state differently when inside the algorithm.\n",
    "\n",
    "The main loop is just the value iteration as I described earlier."
   ]
  },
  {
   "cell_type": "code",
   "execution_count": 8,
   "metadata": {
    "collapsed": false
   },
   "outputs": [],
   "source": [
    "N = 5 # number of disks\n",
    "\n",
    "gamma = 0.9\n",
    "\n",
    "all_states = define_states(N)\n",
    "\n",
    "# initialize V\n",
    "V = {dictify(state): 0 for state in all_states[1:]}\n",
    "V[FINAL_STATE] = 99999  # infinite value\n",
    "max_change = 1  # error tolerance\n",
    "i = 0\n",
    "max_iters = pow(10, N)\n",
    "while max_change > 0.001 and i < max_iters:\n",
    "    max_change = 0\n",
    "    # skip the terminal state, that one has infinite value\n",
    "    for state in all_states[1:]:\n",
    "        m = -10000\n",
    "        for action in actions:\n",
    "            go_to, reward = transition(state, action)\n",
    "            temp = reward + gamma*V[dictify(go_to)]\n",
    "            if temp > m:\n",
    "                m = temp\n",
    "        max_change = max(max_change, abs(m - V[dictify(state)]))\n",
    "        V[dictify(state)] = m\n",
    "    i += 1\n",
    "if i == max_iters:\n",
    "    print(\"NO CONVERGENCE GUARANTEED\")"
   ]
  },
  {
   "cell_type": "markdown",
   "metadata": {},
   "source": [
    "After the value iteration is completed, we can then extract the policy and apply it to our game!\n",
    "\n",
    "Notice that my `create_policy` function returns a function, and uses a really nice trick called _memoization_ to spare us some work! We just compute the $\\pi(s)$ values we end up needing, not all of them! For these values of $N$ this isn't really meaningful, but it is a good excuse to train a different technique."
   ]
  },
  {
   "cell_type": "code",
   "execution_count": 9,
   "metadata": {
    "collapsed": false
   },
   "outputs": [
    {
     "name": "stdout",
     "output_type": "stream",
     "text": [
      "0: [[5, 4, 3, 2, 1], [], []]\n",
      "1: [[5, 4, 3, 2], [1], []]\n",
      "2: [[5, 4, 3], [1], [2]]\n",
      "3: [[5, 4, 3], [], [2, 1]]\n",
      "4: [[5, 4], [3], [2, 1]]\n",
      "5: [[5, 4, 1], [3], [2]]\n",
      "6: [[5, 4, 1], [3, 2], []]\n",
      "7: [[5, 4], [3, 2, 1], []]\n",
      "8: [[5], [3, 2, 1], [4]]\n",
      "9: [[5], [3, 2], [4, 1]]\n",
      "10: [[5, 2], [3], [4, 1]]\n",
      "11: [[5, 2, 1], [3], [4]]\n",
      "12: [[5, 2, 1], [], [4, 3]]\n",
      "13: [[5, 2], [1], [4, 3]]\n",
      "14: [[5], [1], [4, 3, 2]]\n",
      "15: [[5], [], [4, 3, 2, 1]]\n",
      "16: [[], [5], [4, 3, 2, 1]]\n",
      "17: [[1], [5], [4, 3, 2]]\n",
      "18: [[1], [5, 2], [4, 3]]\n",
      "19: [[], [5, 2, 1], [4, 3]]\n",
      "20: [[3], [5, 2, 1], [4]]\n",
      "21: [[3], [5, 2], [4, 1]]\n",
      "22: [[3, 2], [5], [4, 1]]\n",
      "23: [[3, 2, 1], [5], [4]]\n",
      "24: [[3, 2, 1], [5, 4], []]\n",
      "25: [[3, 2], [5, 4, 1], []]\n",
      "26: [[3], [5, 4, 1], [2]]\n",
      "27: [[3], [5, 4], [2, 1]]\n",
      "28: [[], [5, 4, 3], [2, 1]]\n",
      "29: [[1], [5, 4, 3], [2]]\n",
      "30: [[1], [5, 4, 3, 2], []]\n",
      "31: [[], [5, 4, 3, 2, 1], []]\n"
     ]
    }
   ],
   "source": [
    "def create_policy(V):\n",
    "    \"\"\"Given the final dict of state values, creates the policy\"\"\"\n",
    "    known_values = dict()   # store already computed values\n",
    "    def policy(state):\n",
    "        # if we have computed this action, use it\n",
    "        t = dictify(state)\n",
    "        if t in known_values.keys():\n",
    "            return known_values[t]\n",
    "        else:   # we still need to find what is the action that maximizes\n",
    "            best_action = None\n",
    "            best_value = -1000000\n",
    "            for action in actions:\n",
    "                go_to, _ = transition(state, action)\n",
    "                value = V[dictify(go_to)]\n",
    "                if value > best_value:\n",
    "                    best_value = value\n",
    "                    best_action = action\n",
    "            known_values[t] = best_action\n",
    "            return best_action\n",
    "    return policy\n",
    "\n",
    "# solve the Tower of Hanoi\n",
    "state = [[i for i in range(N, 0, -1)],[],[]]\n",
    "pi = create_policy(V)\n",
    "stop_at = pow(2, N+1)\n",
    "iter = 0\n",
    "game = [state]\n",
    "while state != FINAL_STATE and iter < stop_at:\n",
    "    print(\"{}: {}\".format(iter, state))\n",
    "    state, _ = transition(state, pi(state))\n",
    "    game.append(state)\n",
    "    iter += 1\n",
    "game = game[:-1] # remove the terminal state that isn't printable by print_game_sequence"
   ]
  },
  {
   "cell_type": "code",
   "execution_count": 10,
   "metadata": {
    "collapsed": false
   },
   "outputs": [
    {
     "data": {
      "image/png": "iVBORw0KGgoAAAANSUhEUgAAAW4AAAD8CAYAAABXe05zAAAABHNCSVQICAgIfAhkiAAAAAlwSFlz\nAAALEgAACxIB0t1+/AAABE5JREFUeJzt29GN01AQQNEdREdQQLqgHEQ5dJECoKbhhx8kA0FAnLs5\npwGP31hXT4oyu/sCQMebswcA4M8IN0CMcAPECDdAjHADxAg3QIxwA8QIN0CMcAPEvD17gIKZl7v9\nvXT3Ze71rGcxM4f7211nfaKjvdjJbdy4AWKEGyBGuAFihBsgRrgBYoQbIEa4AWKEGyBGuAFihBsg\nRrgBYoQbIEa4AWKEGyBGuAFihBsgRrgBYoQbIEa4AWKEGyBGuAFihBsgRrgBYoQbIEa4AWKEGyBG\nuAFihBsgRrgBYoQbIEa4AWKEGyBGuAFihBsgRrgBYoQbIEa4AWKEGyBGuAFihBsgRrgBYoQbIEa4\nAWJmd8+e4XTzaTKHsB93zp6hZuZ4v7vO8kxHe7GT27hxA8QIN0CMcAPECDdAjHADxAg3QIxwA8QI\nN0CMcAPECDdAjHADxAg3QIxwA8QIN0CMcAPECDdAjHADxAg3QIxwA8QIN0CMcAPECDdAjHADxAg3\nQIxwA8QIN0CMcAPECDdAjHADxAg3QIxwA8QIN0CMcAPECDdAjHADxAg3QIxwA8QIN0CMcAPECDdA\njHADxAg3QMzs7tkz/H8zT/CS3+3O2SM8mvnJ/tdZnepoL3ZyGzdugBjhBogRboAY4QaIEW6AGOEG\niBFugBjhBogRboAY4QaIEW6AGOEGiBFugBjhBogRboAY4QaIEW6AGOEGiBFugBjhBogRboAY4QaI\nEW6AGOEGiBFugBjhBogRboAY4QaIEW6AGOEGiBFugBjhBogRboAY4QaIEW6AGOEGiBFugBjhBogR\nboAY4QaIEW6AGOEGiBFugJjZ3bNn+GtzvfZf4k72cpmzZ7i3mTn8Pnb36c7ikRztxU5u48YNECPc\nADHCDRAj3AAxwg0QI9wAMcINECPcADHCDRAj3AAxwg0QI9wAMcINECPcADHCDRAj3AAxwg0QI9wA\nMcINECPcADHCDRAj3AAxwg0QI9wAMcINECPcADHCDRAj3AAxwg0QI9wAMcINECPcADHCDRAj3AAx\nwg0QI9wAMcINECPcADHCDRAj3AAxwg0QI9wAMbO7Z8/wW9e5Pv6Qr8RlL3P2DP/azBx+P7v76t61\n5GgvdnIbN26AGOEGiBFugBjhBogRboAY4QaIEW6AGOEGiBFugBjhBogRboAY4QaIEW6AGOEGiBFu\ngBjhBogRboAY4QaIEW6AGOEGiBFugBjhBogRboAY4QaIEW6AGOEGiBFugBjhBogRboAY4QaIEW6A\nGOEGiBFugBjhBogRboAY4QaIEW6AGOEGiJndPXuGH7z/+vmxBgK40Zd3H+Yez3HjBogRboAY4QaI\nEW6AmIf7cRKAX3PjBogRboAY4QaIEW6AGOEGiBFugBjhBogRboAY4QaIEW6AGOEGiBFugBjhBogR\nboAY4QaIEW6AGOEGiBFugBjhBogRboAY4QaIEW6AGOEGiPkGP8JU3/qf8EAAAAAASUVORK5CYII=\n",
      "text/plain": [
       "<matplotlib.figure.Figure at 0x4e798d0>"
      ]
     },
     "metadata": {},
     "output_type": "display_data"
    },
    {
     "data": {
      "image/png": "iVBORw0KGgoAAAANSUhEUgAAAW4AAAD8CAYAAABXe05zAAAABHNCSVQICAgIfAhkiAAAAAlwSFlz\nAAALEgAACxIB0t1+/AAABE5JREFUeJzt29FtU0EQQFEPoiMoIF1QDqIcukgBUNPwAT8oBgyIrC85\npwHP23m+Wsny7O4FgI5XpwcA4PcIN0CMcAPECDdAjHADxAg3QIxwA8QIN0CMcAPEvD49wP9mZp78\nFXV358QsfHVtJ5eLvZzmu/Ln3LgBYoQbIEa4AWKEGyBGuAFihBsgRrgBYoQbIEa4AWKEGyBGuAFi\nhBsgRrgBYoQbIEa4AWKEGyBGuAFihBsgRrgBYoQbIEa4AWKEGyBGuAFihBsgRrgBYoQbIEa4AWKE\nGyBGuAFihBsgRrgBYoQbIEa4AWKEGyBGuAFihBsgRrgBYoQbIEa4AWKEGyBGuAFihBsgRrgBYmZ3\nT89w3HyYzCHs+53TM9TMXN/vrrM86dpe7OQ2btwAMcINECPcADHCDRAj3AAxwg0QI9wAMcINECPc\nADHCDRAj3AAxwg0QI9wAMcINECPcADHCDRAj3AAxwg0QI9wAMcINECPcADHCDRAj3AAxwg0QI9wA\nMcINECPcADHCDRAj3AAxwg0QI9wAMcINECPcADHCDRAj3AAxwg0QI9wAMcINECPcADHCDRAj3AAx\nwg0QM7t7eoZ/b+YFPOQ3u3N6hHszP9j/Oqujru3FTm7jxg0QI9wAMcINECPcADHCDRAj3AAxwg0Q\nI9wAMcINECPcADHCDRAj3AAxwg0QI9wAMcINECPcADHCDRAj3AAxwg0QI9wAMcINECPcADHCDRAj\n3AAxwg0QI9wAMcINECPcADHCDRAj3AAxwg0QI9wAMcINECPcADHCDRAj3AAxwg0QI9wAMcINECPc\nADHCDRAj3AAxwg0QM7t7eoa/No+P/Yd4JvvwMKdneG4zc/X92N0Xdxb35Npe7OQ2btwAMcINECPc\nADHCDRAj3AAxwg0QI9wAMcINECPcADHCDRAj3AAxwg0QI9wAMcINECPcADHCDRAj3AAxwg0QI9wA\nMcINECPcADHCDRAj3AAxwg0QI9wAMcINECPcADHCDRAj3AAxwg0QI9wAMcINECPcADHCDRAj3AAx\nwg0QI9wAMcINECPcADHCDRAj3AAxwg0QM7t7eoZfepzH+x/yP/GwD3N6hlvNXJ7lvdi9ZM6kZGae\n7G93nfUN3LgBYoQbIEa4AWKEGyBGuAFihBsgRrgBYoQbIEa4AWKEGyBGuAFihBsgRrgBYoQbIEa4\nAWKEGyBGuAFihBsgRrgBYoQbIEa4AWKEGyBGuAFihBsgRrgBYoQbIEa4AWKEGyBGuAFihBsgRrgB\nYoQbIEa4AWKEGyBGuAFihBsgRrgBYoQbIGZ29/QM33n7+eN9DQRwo09v3s1zfI4bN0CMcAPECDdA\njHADxNzdj5MA/JwbN0CMcAPECDdAjHADxAg3QIxwA8QIN0CMcAPECDdAjHADxAg3QIxwA8QIN0CM\ncAPECDdAjHADxAg3QIxwA8QIN0CMcAPECDdAjHADxAg3QMwX1CFU3+6NJuQAAAAASUVORK5CYII=\n",
      "text/plain": [
       "<matplotlib.figure.Figure at 0x84cb2e8>"
      ]
     },
     "metadata": {},
     "output_type": "display_data"
    },
    {
     "data": {
      "image/png": "iVBORw0KGgoAAAANSUhEUgAAAW4AAAD8CAYAAABXe05zAAAABHNCSVQICAgIfAhkiAAAAAlwSFlz\nAAALEgAACxIB0t1+/AAABC1JREFUeJzt28GNE0EQQFEX2owgAGdBOIhwyMIBQEzFgRPCAgNixn95\nL4EuT3u+SrI8u3sBoOPN2QMA8HuEGyBGuAFihBsgRrgBYoQbIEa4AWKEGyBGuAFiXs4e4LWZmR/+\nirq7c8YsfHPvTi4X93I278qfs3EDxAg3QIxwA8QIN0CMcAPECDdAjHADxAg3QIxwA8QIN0CMcAPE\nCDdAjHADxAg3QIxwA8QIN0CMcAPECDdAjHADxAg3QIxwA8QIN0CMcAPECDdAjHADxAg3QIxwA8QI\nN0CMcAPECDdAjHADxAg3QIxwA8QIN0CMcAPECDdAjHADxAg3QIxwA8QIN0CMcAPECDdAjHADxAg3\nQIxwA8QIN0CMcAPECDdAjHADxAg3QIxwA8QIN0CMcAPECDdAjHADxAg3QIxwA8QIN0CMcAPECDdA\njHADxAg3QIxwA8QIN0CMcAPECDdAjHADxAg3QIxwA8QIN0CMcAPECDdAjHADxAg3QIxwA8QIN0CM\ncAPECDdAjHADxAg3QIxwA8QIN0CMcAPECDdAjHADxAg3QMzL2QMcYmaPOuruQQeef9mdw84CTmHj\nBogRboAY4QaIEW6AGOEGiBFugBjhBogRboAY4QaIEW6AGOEGiBFugBjhBogRboAY4QaIEW6AGOEG\niBFugBjhBogRboAY4QaIEW6AGOEGiBFugBjhBogRboAY4QaIEW6AGOEGiBFugBjhBogRboAY4QaI\nEW6AGOEGiBFugBjhBogRboAY4QaIEW6AGOEGiBFugBjhBoiZ3T17hr82t1v/Qxxkr9c5e4ajzczd\n78fu/nfP4pncuxd38hgbN0CMcAPECDdAjHADxAg3QIxwA8QIN0CMcAPECDdAjHADxAg3QIxwA8QI\nN0CMcAPECDdAjHADxAg3QIxwA8QIN0CMcAPECDdAjHADxAg3QIxwA8QIN0CMcAPECDdAjHADxAg3\nQIxwA8QIN0CMcAPECDdAjHADxAg3QIxwA8QIN0CMcAPECDdAjHADxAg3QIxwA8TM7p49wy/d5vb8\nQ74S173O2TM8auZyyPdi95J5Jv/afJzMu7gf9tXem40bIEa4AWKEGyBGuAFihBsgRrgBYoQbIEa4\nAWKEGyBGuAFihBsgRrgBYoQbIEa4AWKEGyBGuAFihBsgRrgBYoQbIEa4AWKEGyBGuAFihBsgRrgB\nYoQbIEa4AWKEGyBGuAFihBsgRrgBYoQbIEa4AWKEGyBGuAFihBsgRrgBYoQbIEa4AWJmd8+e4Tvv\nvnx6roEAHvT57fs54hwbN0CMcAPECDdAjHADxDzdj5MA/JyNGyBGuAFihBsgRrgBYoQbIEa4AWKE\nGyBGuAFihBsgRrgBYoQbIEa4AWKEGyBGuAFihBsgRrgBYoQbIEa4AWKEGyBGuAFihBsgRrgBYoQb\nIOYrQ5Y86cKlG6cAAAAASUVORK5CYII=\n",
      "text/plain": [
       "<matplotlib.figure.Figure at 0x85c5080>"
      ]
     },
     "metadata": {},
     "output_type": "display_data"
    },
    {
     "data": {
      "image/png": "iVBORw0KGgoAAAANSUhEUgAAAW4AAAD8CAYAAABXe05zAAAABHNCSVQICAgIfAhkiAAAAAlwSFlz\nAAALEgAACxIB0t1+/AAABDJJREFUeJzt29uN1EAQQNEptBlBAJMF4SDCIYsJAGIqPvhCjHivvXf2\nnAS67LavWrI8u3sBoOPN2QMA8GeEGyBGuAFihBsgRrgBYoQbIEa4AWKEGyBGuAFins4e4NHMzA+/\nou7unDEL39zbk8vFvpzNu/L3nLgBYoQbIEa4AWKEGyBGuAFihBsgRrgBYoQbIEa4AWKEGyBGuAFi\nhBsgRrgBYoQbIEa4AWKEGyBGuAFihBsgRrgBYoQbIEa4AWKEGyBGuAFihBsgRrgBYoQbIEa4AWKE\nGyBGuAFihBsgRrgBYoQbIEa4AWKEGyBGuAFihBsgRrgBYoQbIEa4AWKEGyBGuAFihBsgRrgBYoQb\nIEa4AWKEGyBGuAFihBsgRrgBYoQbIEa4AWKEGyBGuAFihBsgRrgBYoQbIEa4AWKEGyBGuAFihBsg\nRrgBYoQbIEa4AWKEGyBGuAFihBsgRrgBYoQbIEa4AWKEGyBGuAFihBsgRrgBYoQbIEa4AWKEGyBG\nuAFihBsgRrgBYoQbIEa4AWKEGyBGuAFihBsgRrgBYoQbIObp7AEOMbNHLXV3oQPXv+zOYWsBp3Di\nBogRboAY4QaIEW6AGOEGiBFugBjhBogRboAY4QaIEW6AGOEGiBFugBjhBogRboAY4QaIEW6AGOEG\niBFugBjhBogRboAY4QaIEW6AGOEGiBFugBjhBogRboAY4QaIEW6AGOEGiBFugBjhBogRboAY4QaI\nEW6AGOEGiBFugBjhBogRboAY4QaIEW6AGOEGiBFugBjhBoiZ3T17hn82t1v/Ig6y1+ucPcPRZubu\n87G7r+5ePLeZy2Hv4u7l1e6fEzdAjHADxAg3QIxwA8QIN0CMcAPECDdAjHADxAg3QIxwA8QIN0CM\ncAPECDdAjHADxAg3QIxwA8QIN0CMcAPECDdAjHADxAg3QIxwA8QIN0CMcAPECDdAjHADxAg3QIxw\nA8QIN0CMcAPECDdAjHADxAg3QIxwA8QIN0CMcAPECDdAjHADxAg3QIxwA8QIN0CMcAPEzO6ePcMv\n3eb28od8ENe9ztkz/G8zc/f52d2Hu9bnNh/v38uXaD887v46cQPECDdAjHADxAg3QIxwA8QIN0CM\ncAPECDdAjHADxAg3QIxwA8QIN0CMcAPECDdAjHADxAg3QIxwA8QIN0CMcAPECDdAjHADxAg3QIxw\nA8QIN0CMcAPECDdAjHADxAg3QIxwA8QIN0CMcAPECDdAjHADxAg3QIxwA8QIN0CMcAPECDdAzOzu\n2TN8592XTy9rIIDf9Pnt+zliHSdugBjhBogRboAY4QaIeXEfJwH4OSdugBjhBogRboAY4QaIEW6A\nGOEGiBFugBjhBogRboAY4QaIEW6AGOEGiBFugBjhBogRboAY4QaIEW6AGOEGiBFugBjhBogRboAY\n4QaIEW6AmK+yRzzpc3oHKwAAAABJRU5ErkJggg==\n",
      "text/plain": [
       "<matplotlib.figure.Figure at 0x8667e80>"
      ]
     },
     "metadata": {},
     "output_type": "display_data"
    },
    {
     "data": {
      "image/png": "iVBORw0KGgoAAAANSUhEUgAAAW4AAAD8CAYAAABXe05zAAAABHNCSVQICAgIfAhkiAAAAAlwSFlz\nAAALEgAACxIB0t1+/AAABB1JREFUeJzt29uNE0EQQFEXIiMIwFkQDiIcsnAAEFPtB1/Aiqd2Zq99\nTgJT7vZclWR5dvcCQMebswcA4O8IN0CMcAPECDdAjHADxAg3QIxwA8QIN0CMcAPEvD17gHszMz/9\nFXV354xZ+Oa5O7lc3MvZvCv/zsYNECPcADHCDRAj3AAxwg0QI9wAMcINECPcADHCDRAj3AAxwg0Q\nI9wAMcINECPcADHCDRAj3AAxwg0QI9wAMcINECPcADHCDRAj3AAxwg0QI9wAMcINECPcADHCDRAj\n3AAxwg0QI9wAMcINECPcADHCDRAj3AAxwg0QI9wAMcINECPcADHCDRAj3AAxwg0QI9wAMcINECPc\nADHCDRAj3AAxwg0QI9wAMcINECPcADHCDRAj3AAxwg0QI9wAMcINECPcADHCDRAj3AAxwg0QI9wA\nMcINECPcADHCDRAj3AAxwg0QI9wAMcINECPcADHCDRAj3AAxwg0QI9wAMcINECPcADHCDRAj3AAx\nwg0QI9wAMcINECPcADHCDRAj3AAxwg0QI9wAMcINECPcADHCDRAj3AAxwg0QI9wAMcINECPcADHC\nDRAj3AAxwg0QI9wAMcINECPcADHCDRAj3AAxwg0QI9wAMcINECPcADHCDRAj3AAxwg0QI9wAMcIN\nECPcADHCDRAj3AAxwg0QI9wAMcINECPcADHCDRAj3AAxwg0QI9wAMcINECPcADHCDRAj3AAxwg0Q\nI9wAMcINECPcADHCDRAj3AAxs7tnz/Df5nbrf4iD7PU6Z89wtJl59vuxuw93Fi9t5nLYu7h7edj7\ns3EDxAg3QIxwA8QIN0CMcAPECDdAjHADxAg3QIxwA8QIN0CMcAPECDdAjHADxAg3QIxwA8QIN0CM\ncAPECDdAjHADxAg3QIxwA8QIN0CMcAPECDdAjHADxAg3QIxwA8QIN0CMcAPECDdAjHADxAg3QIxw\nA8QIN0CMcAPECDdAjHADxAg3QIxwA8QIN0CMcAPECDdAzOzu2TP81m1ur3/IO3Hd6xz2sJnHuNfd\n4870hc2nzp3tx/s59x/ZuAFihBsgRrgBYoQbIEa4AWKEGyBGuAFihBsgRrgBYoQbIEa4AWKEGyBG\nuAFihBsgRrgBYoQbIEa4AWKEGyBGuAFihBsgRrgBYoQbIEa4AWKEGyBGuAFihBsgRrgBYoQbIEa4\nAWKEGyBGuAFihBsgRrgBYoQbIEa4AWKEGyBGuAFihBsgZnb37Bm+8/7r59c1EMAf+vLuwxzxHBs3\nQIxwA8QIN0CMcAPEvLofJwH4NRs3QIxwA8QIN0CMcAPECDdAjHADxAg3QIxwA8QIN0CMcAPECDdA\njHADxAg3QIxwA8QIN0CMcAPECDdAjHADxAg3QIxwA8QIN0CMcAPECDdAzBNRlzbnngH0lAAAAABJ\nRU5ErkJggg==\n",
      "text/plain": [
       "<matplotlib.figure.Figure at 0x8728080>"
      ]
     },
     "metadata": {},
     "output_type": "display_data"
    },
    {
     "data": {
      "image/png": "iVBORw0KGgoAAAANSUhEUgAAAW4AAAD8CAYAAABXe05zAAAABHNCSVQICAgIfAhkiAAAAAlwSFlz\nAAALEgAACxIB0t1+/AAABC5JREFUeJzt29GNUlEUQFGOmY60ALqwHGM5dkEBWtPxwy+diTIaeexh\nre9H7uFe2LkJYXb3BEDHu6MHAOB1hBsgRrgBYoQbIEa4AWKEGyBGuAFihBsgRrgBYp6OHuCtmZln\nf0Xd3TliFn546UxOJ+dyNN+Vv+fGDRAj3AAxwg0QI9wAMcINECPcADHCDRAj3AAxwg0QI9wAMcIN\nECPcADHCDRAj3AAxwg0QI9wAMcINECPcADHCDRAj3AAxwg0QI9wAMcINECPcADHCDRAj3AAxwg0Q\nI9wAMcINECPcADHCDRAj3AAxwg0QI9wAMcINECPcADHCDRAj3AAxwg0QI9wAMcINECPcADHCDRAj\n3AAxwg0QI9wAMcINECPcADHCDRAj3AAxwg0QI9wAMcINECPcADHCDRAj3AAxwg0QI9wAMcINECPc\nADHCDRAj3AAxwg0QI9wAMcINECPcADHCDRAj3AAxwg0QI9wAMcINECPcADHCDRAj3AAxwg0QI9wA\nMcINECPcADHCDRAj3AAxwg0QI9wAMcINECPcADHCDRAj3AAxT0cPUDBz2uuffv7oa16/e5rr1wIe\nkRs3QIxwA8QIN0CMcAPECDdAjHADxAg3QIxwA8QIN0CMcAPECDdAjHADxAg3QIxwA8QIN0CMcAPE\nCDdAjHADxAg3QIxwA8QIN0CMcAPECDdAjHADxAg3QIxwA8QIN0CMcAPECDdAjHADxAg3QIxwA8QI\nN0CMcAPECDdAjHADxAg3QIxwA8QIN0CMcAPECDdAjHADxAg3QMzs7tEz/LO5XPpv4kb2fJ6jZ7i1\nmXnx87G7D7cX9+Slc3Em13HjBogRboAY4QaIEW6AGOEGiBFugBjhBogRboAY4QaIEW6AGOEGiBFu\ngBjhBogRboAY4QaIEW6AGOEGiBFugBjhBogRboAY4QaIEW6AGOEGiBFugBjhBogRboAY4QaIEW6A\nGOEGiBFugBjhBogRboAY4QaIEW6AGOEGiBFugBjhBogRboAY4QaIEW6AGOEGiBFugJjZ3aNn+KPL\nXO5/yDfivOe52WIzj3Guu7fb0/9sPnfObD+9nX3/lRs3QIxwA8QIN0CMcAPECDdAjHADxAg3QIxw\nA8QIN0CMcAPECDdAjHADxAg3QIxwA8QIN0CMcAPECDdAjHADxAg3QIxwA8QIN0CMcAPECDdAjHAD\nxAg3QIxwA8QIN0CMcAPECDdAjHADxAg3QIxwA8QIN0CMcAPECDdAjHADxAg3QIxwA8TM7h49w08+\nfPtyXwMBXOnr+49zi3XcuAFihBsgRrgBYoQbIObufpwE4PfcuAFihBsgRrgBYoQbIEa4AWKEGyBG\nuAFihBsgRrgBYoQbIEa4AWKEGyBGuAFihBsgRrgBYoQbIEa4AWKEGyBGuAFihBsgRrgBYoQbIEa4\nAWK+A0GaPOnOaGodAAAAAElFTkSuQmCC\n",
      "text/plain": [
       "<matplotlib.figure.Figure at 0x9799c50>"
      ]
     },
     "metadata": {},
     "output_type": "display_data"
    },
    {
     "data": {
      "image/png": "iVBORw0KGgoAAAANSUhEUgAAAW4AAAD8CAYAAABXe05zAAAABHNCSVQICAgIfAhkiAAAAAlwSFlz\nAAALEgAACxIB0t1+/AAABCtJREFUeJzt28GNE0EQQFEX2owgAGdBOIhwyMIBQEzFgRPaFcyC5PHf\nfe88Vpe7NV8tWZ7dvQDQ8eHsAQB4HeEGiBFugBjhBogRboAY4QaIEW6AGOEGiBFugJinswd4a2bm\n2V9Rd3fOmIVfXjqTy8W5nM278u/cuAFihBsgRrgBYoQbIEa4AWKEGyBGuAFihBsgRrgBYoQbIEa4\nAWKEGyBGuAFihBsgRrgBYoQbIEa4AWKEGyBGuAFihBsgRrgBYoQbIEa4AWKEGyBGuAFihBsgRrgB\nYoQbIEa4AWKEGyBGuAFihBsgRrgBYoQbIEa4AWKEGyBGuAFihBsgRrgBYoQbIEa4AWKEGyBGuAFi\nhBsgRrgBYoQbIEa4AWKEGyBGuAFihBsgRrgBYoQbIEa4AWKEGyBGuAFihBsgRrgBYoQbIEa4AWKE\nGyBGuAFihBsgRrgBYoQbIEa4AWKEGyBGuAFihBsgRrgBYoQbIEa4AWKEGyBGuAFihBsgRrgBYoQb\nIEa4AWKEGyBGuAFihBsgRrgBYoQbIEa4AWKEGyBGuAFihBsg5unsAQpmLnv86eePvubzu5c5vhbw\nHrlxA8QIN0CMcAPECDdAjHADxAg3QIxwA8QIN0CMcAPECDdAjHADxAg3QIxwA8QIN0CMcAPECDdA\njHADxAg3QIxwA8QIN0CMcAPECDdAjHADxAg3QIxwA8QIN0CMcAPECDdAjHADxAg3QIxwA8QIN0CM\ncAPECDdAjHADxAg3QIxwA8QIN0CMcAPECDdAjHADxAg3QIxwA8TM7p49w3+b263/Je5kr9c5e4aj\n5uskznW/bGZPH8nM8/PdtZdHuHEDxAg3QIxwA8QIN0CMcAPECDdAjHADxAg3QIxwA8QIN0CMcAPE\nCDdAjHADxAg3QIxwA8QIN0CMcAPECDdAjHADxAg3QIxwA8QIN0CMcAPECDdAjHADxAg3QIxwA8QI\nN0CMcAPECDdAjHADxAg3QIxwA8QIN0CMcAPECDdAjHADxAg3QIxwA8QIN0CMcAPECDdAzOzu2TP8\n1W1ujz/kG3Hd69xtsZn3ca6799vTkHnh/NdeHeLGDRAj3AAxwg0QI9wAMcINECPcADHCDRAj3AAx\nwg0QI9wAMcINECPcADHCDRAj3AAxwg0QI9wAMcINECPcADHCDRAj3AAxwg0QI9wAMcINECPcADHC\nDRAj3AAxwg0QI9wAMcINECPcADHCDRAj3AAxwg0QI9wAMcINECPcADHCDRAj3AAxs7tnz/CbTz++\nPdZAAAd9//h57rGOGzdAjHADxAg3QIxwA8Q83I+TAPyZGzdAjHADxAg3QIxwA8QIN0CMcAPECDdA\njHADxAg3QIxwA8QIN0CMcAPECDdAjHADxAg3QIxwA8QIN0CMcAPECDdAjHADxAg3QIxwA8QIN0DM\nT0eKPOmpywUxAAAAAElFTkSuQmCC\n",
      "text/plain": [
       "<matplotlib.figure.Figure at 0x854f710>"
      ]
     },
     "metadata": {},
     "output_type": "display_data"
    },
    {
     "data": {
      "image/png": "iVBORw0KGgoAAAANSUhEUgAAAW4AAAD8CAYAAABXe05zAAAABHNCSVQICAgIfAhkiAAAAAlwSFlz\nAAALEgAACxIB0t1+/AAABCtJREFUeJzt28FtU1EQQFEPSkdQgLugHEQ5dOECoKbJghVKBJ8g+fuG\nc9a2/viNfPUky7O7FwA6Ppw9AAB/R7gBYoQbIEa4AWKEGyBGuAFihBsgRrgBYoQbIObp7AHem5l5\n8VfU3Z0zZuGn13ZyudjL2XxX3s6NGyBGuAFihBsgRrgBYoQbIEa4AWKEGyBGuAFihBsgRrgBYoQb\nIEa4AWKEGyBGuAFihBsgRrgBYoQbIEa4AWKEGyBGuAFihBsgRrgBYoQbIEa4AWKEGyBGuAFihBsg\nRrgBYoQbIEa4AWKEGyBGuAFihBsgRrgBYoQbIEa4AWKEGyBGuAFihBsgRrgBYoQbIEa4AWKEGyBG\nuAFihBsgRrgBYoQbIEa4AWKEGyBGuAFihBsgRrgBYoQbIEa4AWKEGyBGuAFihBsgRrgBYoQbIEa4\nAWKEGyBGuAFihBsgRrgBYoQbIEa4AWKEGyBGuAFihBsgRrgBYoQbIEa4AWKEGyBGuAFihBsgRrgB\nYoQbIEa4AWKEGyBGuAFihBsgRrgBYoQbIEa4AWKEGyBGuAFins4eAN5q5rLHXvn6y46+f/cyh4eC\nO3DjBogRboAY4QaIEW6AGOEGiBFugBjhBogRboAY4QaIEW6AGOEGiBFugBjhBogRboAY4QaIEW6A\nGOEGiBFugBjhBogRboAY4QaIEW6AGOEGiBFugBjhBogRboAY4QaIEW6AGOEGiBFugBjhBogRboAY\n4QaIEW6AGOEGiBFugBjhBogRboAY4QaIEW6AGOEGiBFugBjhBoiZ3T17hn82t1v/Q9zJXq9z9gxH\nzddJ7HW/bOZMH8nMy/3uOssj3LgBYoQbIEa4AWKEGyBGuAFihBsgRrgBYoQbIEa4AWKEGyBGuAFi\nhBsgRrgBYoQbIEa4AWKEGyBGuAFihBsgRrgBYoQbIEa4AWKEGyBGuAFihBsgRrgBYoQbIEa4AWKE\nGyBGuAFihBsgRrgBYoQbIEa4AWKEGyBGuAFihBsgRrgBYoQbIEa4AWKEGyBGuAFihBsgZnb37Bn+\n6Da3xx/ynbjude72sJn/Y6+79zvTkHll/+usDnHjBogRboAY4QaIEW6AGOEGiBFugBjhBogRboAY\n4QaIEW6AGOEGiBFugBjhBogRboAY4QaIEW6AGOEGiBFugBjhBogRboAY4QaIEW6AGOEGiBFugBjh\nBogRboAY4QaIEW6AGOEGiBFugBjhBogRboAY4QaIEW6AGOEGiBFugBjhBogRboCY2d2zZ/jFpx/f\nHmsggIO+f/w893iOGzdAjHADxAg3QIxwA8Q83I+TAPyeGzdAjHADxAg3QIxwA8QIN0CMcAPECDdA\njHADxAg3QIxwA8QIN0CMcAPECDdAjHADxAg3QIxwA8QIN0CMcAPECDdAjHADxAg3QIxwA8QIN0DM\nM1sKPOl28KGSAAAAAElFTkSuQmCC\n",
      "text/plain": [
       "<matplotlib.figure.Figure at 0x979fb38>"
      ]
     },
     "metadata": {},
     "output_type": "display_data"
    },
    {
     "data": {
      "image/png": "iVBORw0KGgoAAAANSUhEUgAAAW4AAAD8CAYAAABXe05zAAAABHNCSVQICAgIfAhkiAAAAAlwSFlz\nAAALEgAACxIB0t1+/AAABChJREFUeJzt28GNE0EQQFEX2owggM2CcBDhkIUDgJiKAyfkFev1weNv\n3juPNaVu9VdLI8/ungDo+HT0AAB8jHADxAg3QIxwA8QIN0CMcAPECDdAjHADxAg3QMzL0QM8m5m5\n+Cvq7s4Rs/DHW3tyOtmXozkrt3PjBogRboAY4QaIEW6AGOEGiBFugBjhBogRboAY4QaIEW6AGOEG\niBFugBjhBogRboAY4QaIEW6AGOEGiBFugBjhBogRboAY4QaIEW6AGOEGiBFugBjhBogRboAY4QaI\nEW6AGOEGiBFugBjhBogRboAY4QaIEW6AGOEGiBFugBjhBogRboAY4QaIEW6AGOEGiBFugBjhBogR\nboAY4QaIEW6AGOEGiBFugBjhBogRboAY4QaIEW6AGOEGiBFugBjhBogRboAY4QaIEW6AGOEGiBFu\ngBjhBogRboAY4QaIEW6AGOEGiBFugBjhBogRboAY4QaIEW6AGOEGiBFugBjhBogRboAY4QaIEW6A\nGOEGiBFugBjhBogRboAY4QaIEW6AGOEGiBFugBjhBogRboCYl6MHgFvNnPa6J99+7Nrf757m6qHg\nDty4AWKEGyBGuAFihBsgRrgBYoQbIEa4AWKEGyBGuAFihBsgRrgBYoQbIEa4AWKEGyBGuAFihBsg\nRrgBYoQbIEa4AWKEGyBGuAFihBsgRrgBYoQbIEa4AWKEGyBGuAFihBsgRrgBYoQbIEa4AWKEGyBG\nuAFihBsgRrgBYoQbIEa4AWKEGyBGuAFihBsgRrgBYoQbIEa4AWJmd4+e4anMzMWC7u4cMUvdfL9c\ny0e03+zvLZyV27lxA8QIN0CMcAPECDdAjHADxAg3QIxwA8QIN0CMcAPECDdAjHADxAg3QIxwA8QI\nN0CMcAPECDdAjHADxAg3QIxwA8QIN0CMcAPECDdAjHADxAg3QIxwA8QIN0CMcAPECDdAjHADxAg3\nQIxwA8QIN0CMcAPECDdAjHADxAg3QIxwA8QIN0CMcAPECDdAjHADxAg3QMzs7tEzvOs858cf8km8\n7uvc7WUz/8e+7t5vTd8xZ2fpWvt6x7PwQW7cADHCDRAj3AAxwg0QI9wAMcINECPcADHCDRAj3AAx\nwg0QI9wAMcINECPcADHCDRAj3AAxwg0QI9wAMcINECPcADHCDRAj3AAxwg0QI9wAMcINECPcADHC\nDRAj3AAxwg0QI9wAMcINECPcADHCDRAj3AAxwg0QI9wAMcINECPcADHCDRAzu3v0DH/58uvHYw0E\ncKWfn7/OPd7jxg0QI9wAMcINECPcADEP93ESgH9z4waIEW6AGOEGiBFugBjhBogRboAY4QaIEW6A\nGOEGiBFugBjhBogRboAY4QaIEW6AGOEGiBFugBjhBogRboAY4QaIEW6AGOEGiBFugBjhBoj5DVsK\nPOlW/vyvAAAAAElFTkSuQmCC\n",
      "text/plain": [
       "<matplotlib.figure.Figure at 0x83c4a90>"
      ]
     },
     "metadata": {},
     "output_type": "display_data"
    },
    {
     "data": {
      "image/png": "iVBORw0KGgoAAAANSUhEUgAAAW4AAAD8CAYAAABXe05zAAAABHNCSVQICAgIfAhkiAAAAAlwSFlz\nAAALEgAACxIB0t1+/AAABBpJREFUeJzt28FtU1EQQFEPSkdQgLugnIhy6MIFQE2TBWKBjEjCwt/X\nOaeBP3pP72oky7O7JwA6Ph09AADvI9wAMcINECPcADHCDRAj3AAxwg0QI9wAMcINEPN09ACPZmau\n/oq6u3PELPzytzs5ndzL0byV/2fjBogRboAY4QaIEW6AGOEGiBFugBjhBogRboAY4QaIEW6AGOEG\niBFugBjhBogRboAY4QaIEW6AGOEGiBFugBjhBogRboAY4QaIEW6AGOEGiBFugBjhBogRboAY4QaI\nEW6AGOEGiBFugBjhBogRboAY4QaIEW6AGOEGiBFugBjhBogRboAY4QaIEW6AGOEGiBFugBjhBogR\nboAY4QaIEW6AGOEGiBFugBjhBogRboAY4QaIEW6AGOEGiBFugBjhBogRboAY4QaIEW6AGOEGiBFu\ngBjhBogRboAY4QaIEW6AGOEGiBFugBjhBogRboAY4QaIEW6AGOEGiBFugBjhBogRboAY4QaIEW6A\nGOEGiBFugBjhBogRboAY4QaIEW6AGOEGiBFugBjhBogRboAY4QaIEW6AGOEGiBFugBjhBogRboAY\n4QaIEW6AGOEGiBFugBjhBogRboAY4QaIEW6AGOEGiBFugBjhBogRboAY4QaIEW6AGOEGiBFugBjh\nBogRboAY4QaIEW6AGOEGiBFugBjhBogRboAY4QaIEW6AGOEGiBFugBjhBogRboAY4QaIEW6AGOEG\niBFugBjhBogRboAY4QaIEW6AmNndo2d4KDNzdaC7O0fMUjffrs/yHu2z+/1t5nSzO9s9fdhzt3ED\nxAg3QIxwA8QIN0CMcAPECDdAjHADxAg3QIxwA8QIN0CMcAPECDdAjHADxAg3QIxwA8QIN0CMcAPE\nCDdAjHADxAg3QIxwA8QIN0CMcAPECDdAjHADxAg3QIxwA8QIN0CMcAPECDdAjHADxAg3QIxwA8QI\nN0CMcAPECDdAjHADxAg3QIxwA8QIN0CMcAPECDdAzOzu0TO86jKX+x/yQZz3PDf72MzHuNfd253p\nK+biLb3Vnm/4Ft7Jxg0QI9wAMcINECPcADHCDRAj3AAxwg0QI9wAMcINECPcADHCDRAj3AAxwg0Q\nI9wAMcINECPcADHCDRAj3AAxwg0QI9wAMcINECPcADHCDRAj3AAxwg0QI9wAMcINECPcADHCDRAj\n3AAxwg0QI9wAMcINECPcADHCDRAj3AAxwg0QI9wAMbO7R8/why8/v9/XQABv9OPz17nFd2zcADHC\nDRAj3AAxwg0Qc3c/TgLwbzZugBjhBogRboAY4QaIEW6AGOEGiBFugBjhBogRboAY4QaIEW6AGOEG\niBFugBjhBogRboAY4QaIEW6AGOEGiBFugBjhBogRboAY4QaIEW6AmBdXhzbnBJKN4AAAAABJRU5E\nrkJggg==\n",
      "text/plain": [
       "<matplotlib.figure.Figure at 0x8350c50>"
      ]
     },
     "metadata": {},
     "output_type": "display_data"
    },
    {
     "data": {
      "image/png": "iVBORw0KGgoAAAANSUhEUgAAAW4AAAD8CAYAAABXe05zAAAABHNCSVQICAgIfAhkiAAAAAlwSFlz\nAAALEgAACxIB0t1+/AAABBlJREFUeJzt29FtU0EQQFEPSkdQgLugnIhy6MIFQE2TD74QEUkQes83\nOaeBN9rVXo1keXb3AkDHp7MHAOBthBsgRrgBYoQbIEa4AWKEGyBGuAFihBsgRrgBYh7OHuC9mZk/\n/oq6u3PGLPzy3J1cLu7lbN7Kv7NxA8QIN0CMcAPECDdAjHADxAg3QIxwA8QIN0CMcAPECDdAjHAD\nxAg3QIxwA8QIN0CMcAPECDdAjHADxAg3QIxwA8QIN0CMcAPECDdAjHADxAg3QIxwA8QIN0CMcAPE\nCDdAjHADxAg3QIxwA8QIN0CMcAPECDdAjHADxAg3QIxwA8QIN0CMcAPECDdAjHADxAg3QIxwA8QI\nN0CMcAPECDdAjHADxAg3QIxwA8QIN0CMcAPECDdAjHADxAg3QIxwA8QIN0CMcAPECDdAjHADxAg3\nQIxwA8QIN0CMcAPECDdAjHADxAg3QIxwA8QIN0CMcAPECDdAjHADxAg3QIxwA8QIN0CMcAPECDdA\njHADxAg3QIxwA8QIN0CMcAPECDdAjHADxAg3QIxwA8QIN0CMcAPECDdAjHADxAg3QIxwA8QIN0CM\ncAPECDdAjHADxAg3QIxwA8QIN0CMcAPECDdAjHADxAg3QIxwA8QIN0CMcAPECDdAjHADxAg3QIxw\nA8QIN0CMcAPECDdAjHADxAg3QIxwA8QIN0CMcAPECDdAjHADxAg3QIxwA8QIN0CMcAPECDdAjHAD\nxAg3QIxwA8QIN0CMcAPECDdAzOzu2TOcbr5N5hD2cefsGWpmnr/fXWf5v81cDntLu5cPe382boAY\n4QaIEW6AGOEGiBFugBjhBogRboAY4QaIEW6AGOEGiBFugBjhBogRboAY4QaIEW6AGOEGiBFugBjh\nBogRboAY4QaIEW6AGOEGiBFugBjhBogRboAY4QaIEW6AGOEGiBFugBjhBogRboAY4QaIEW6AGOEG\niBFugBjhBogRboAY4QaIEW6AGOEGiBFugBjhBoiZ3T17hhfd5nb/Q74T173OYR+b+Rj3unvcmb5g\nbt7Sa+31wLfwRjZugBjhBogRboAY4QaIEW6AGOEGiBFugBjhBogRboAY4QaIEW6AGOEGiBFugBjh\nBogRboAY4QaIEW6AGOEGiBFugBjhBogRboAY4QaIEW6AGOEGiBFugBjhBogRboAY4QaIEW6AGOEG\niBFugBjhBogRboAY4QaIEW6AGOEGiBFugBjhBoiZ3T17ht98+fn9vgYCeKUfn7/OEd+xcQPECDdA\njHADxAg3QMzd/TgJwN/ZuAFihBsgRrgBYoQbIEa4AWKEGyBGuAFihBsgRrgBYoQbIEa4AWKEGyBG\nuAFihBsgRrgBYoQbIEa4AWKEGyBGuAFihBsgRrgBYoQbIEa4AWKeAFGXNucuEAzmAAAAAElFTkSu\nQmCC\n",
      "text/plain": [
       "<matplotlib.figure.Figure at 0x98617f0>"
      ]
     },
     "metadata": {},
     "output_type": "display_data"
    },
    {
     "data": {
      "image/png": "iVBORw0KGgoAAAANSUhEUgAAAW4AAAD8CAYAAABXe05zAAAABHNCSVQICAgIfAhkiAAAAAlwSFlz\nAAALEgAACxIB0t1+/AAABChJREFUeJzt28GNE0EQQFEX2owgAGdBOIhwyMIBQEzFgRNai7U5ePx3\n3zuP1aVp9VdLI8/ungDo+HT0AADcR7gBYoQbIEa4AWKEGyBGuAFihBsgRrgBYoQbIObl6AHem5l5\n9VfU3Z0jZuGPa3tyOtmXozkr/8+NGyBGuAFihBsgRrgBYoQbIEa4AWKEGyBGuAFihBsgRrgBYoQb\nIEa4AWKEGyBGuAFihBsgRrgBYoQbIEa4AWKEGyBGuAFihBsgRrgBYoQbIEa4AWKEGyBGuAFihBsg\nRrgBYoQbIEa4AWKEGyBGuAFihBsgRrgBYoQbIEa4AWKEGyBGuAFihBsgRrgBYoQbIEa4AWKEGyBG\nuAFihBsgRrgBYoQbIEa4AWKEGyBGuAFihBsgRrgBYoQbIEa4AWKEGyBGuAFihBsgRrgBYoQbIEa4\nAWKEGyBGuAFihBsgRrgBYoQbIEa4AWKEGyBGuAFihBsgRrgBYoQbIEa4AWKEGyBGuAFihBsgRrgB\nYoQbIEa4AWKEGyBGuAFihBsgRrgBYoQbIEa4AWKEGyBGuAFiXo4eoGDmtLc//frRe36/e5rb1wI+\nIjdugBjhBogRboAY4QaIEW6AGOEGiBFugBjhBogRboAY4QaIEW6AGOEGiBFugBjhBogRboAY4QaI\nEW6AGOEGiBFugBjhBogRboAY4QaIEW6AGOEGiBFugBjhBogRboAY4QaIEW6AGOEGiBFugBjhBogR\nboAY4QaIEW6AGOEGiBFugBjhBogRboAY4QaIEW6AGOEGiBFugJjZ3aNnONx8n8xL2G87R89QM3N9\nf3e9yyNd2xd7chs3boAY4QaIEW6AGOEGiBFugBjhBogRboAY4QaIEW6AGOEGiBFugBjhBogRboAY\n4QaIEW6AGOEGiBFugBjhBogRboAY4QaIEW6AGOEGiBFugBjhBogRboAY4QaIEW6AGOEGiBFugBjh\nBogRboAY4QaIEW6AGOEGiBFugBjhBogRboAY4QaIEW6AGOEGiBFugBjhBoiZ3T16hjdd5vL8Q74T\n5z3Pwxab+Rj7uvu4d/qGuThLt9rzA8/Cndy4AWKEGyBGuAFihBsgRrgBYoQbIEa4AWKEGyBGuAFi\nhBsgRrgBYoQbIEa4AWKEGyBGuAFihBsgRrgBYoQbIEa4AWKEGyBGuAFihBsgRrgBYoQbIEa4AWKE\nGyBGuAFihBsgRrgBYoQbIEa4AWKEGyBGuAFihBsgRrgBYoQbIEa4AWKEGyBmdvfoGf7y5deP5xoI\n4EY/P3+dR6zjxg0QI9wAMcINECPcADFP93ESgH9z4waIEW6AGOEGiBFugBjhBogRboAY4QaIEW6A\nGOEGiBFugBjhBogRboAY4QaIEW6AGOEGiBFugBjhBogRboAY4QaIEW6AGOEGiBFugBjhBoj5DUGa\nPOkyon8vAAAAAElFTkSuQmCC\n",
      "text/plain": [
       "<matplotlib.figure.Figure at 0x836afd0>"
      ]
     },
     "metadata": {},
     "output_type": "display_data"
    },
    {
     "data": {
      "image/png": "iVBORw0KGgoAAAANSUhEUgAAAW4AAAD8CAYAAABXe05zAAAABHNCSVQICAgIfAhkiAAAAAlwSFlz\nAAALEgAACxIB0t1+/AAABCpJREFUeJzt28GNE0EQQFEX2owgAGdBOIhwyMIBQEzFgROyYb0IMf7m\nvfNYU56e/mrJ8uzuCYCOd0cPAMDbCDdAjHADxAg3QIxwA8QIN0CMcAPECDdAjHADxLwcPcCzmZmr\nv6Lu7hwxCz/cWpPTyboczV75c07cADHCDRAj3AAxwg0QI9wAMcINECPcADHCDRAj3AAxwg0QI9wA\nMcINECPcADHCDRAj3AAxwg0QI9wAMcINECPcADHCDRAj3AAxwg0QI9wAMcINECPcADHCDRAj3AAx\nwg0QI9wAMcINECPcADHCDRAj3AAxwg0QI9wAMcINECPcADHCDRAj3AAxwg0QI9wAMcINECPcADHC\nDRAj3AAxwg0QI9wAMcINECPcADHCDRAj3AAxwg0QI9wAMcINECPcADHCDRAj3AAxwg0QI9wAMcIN\nECPcADHCDRAj3AAxwg0QI9wAMcINECPcADHCDRAj3AAxwg0QI9wAMcINECPcADHCDRAj3AAxwg0Q\nI9wAMcINECPcADHCDRAj3AAxwg0QI9wAMcINECPcADHCDRDzcvQABTOnvf/q60vf8vnd09x/L+B/\n5MQNECPcADHCDRAj3AAxwg0QI9wAMcINECPcADHCDRAj3AAxwg0QI9wAMcINECPcADHCDRAj3AAx\nwg0QI9wAMcINECPcADHCDRAj3AAxwg0QI9wAMcINECPcADHCDRAj3AAxwg0QI9wAMcINECPcADHC\nDRAj3AAxwg0QI9wAMcINECPcADHCDRAj3AAxwg0QI9wAMcINEDO7e/QMh5vPk3kI+2nn6BlqZm6v\n765neeUXz+ophdffiRsgRrgBYoQbIEa4AWKEGyBGuAFihBsgRrgBYoQbIEa4AWKEGyBGuAFihBsg\nRrgBYoQbIEa4AWKEGyBGuAFihBsgRrgBYoQbIEa4AWKEGyBGuAFihBsgRrgBYoQbIEa4AWKEGyBG\nuAFihBsgRrgBYoQbIEa4AWKEGyBGuAFihBsgRrgBYoQbIEa4AWKEGyBGuAFiZnePnuFVl7k8/pBP\n4rznOXqGv21mbr4/u/t03/U1c7GX7rXnx90LTtwAMcINECPcADHCDRAj3AAxwg0QI9wAMcINECPc\nADHCDRAj3AAxwg0QI9wAMcINECPcADHCDRAj3AAxwg0QI9wAMcINECPcADHCDRAj3AAxwg0QI9wA\nMcINECPcADHCDRAj3AAxwg0QI9wAMcINECPcADHCDRAj3AAxwg0QI9wAMcINEDO7e/QMP/nw7ctj\nDQRwp6/vP86/uI8TN0CMcAPECDdAjHADxDzcj5MA/J4TN0CMcAPECDdAjHADxAg3QIxwA8QIN0CM\ncAPECDdAjHADxAg3QIxwA8QIN0CMcAPECDdAjHADxAg3QIxwA8QIN0CMcAPECDdAjHADxAg3QMx3\nsEs86U59bRIAAAAASUVORK5CYII=\n",
      "text/plain": [
       "<matplotlib.figure.Figure at 0x817d828>"
      ]
     },
     "metadata": {},
     "output_type": "display_data"
    },
    {
     "data": {
      "image/png": "iVBORw0KGgoAAAANSUhEUgAAAW4AAAD8CAYAAABXe05zAAAABHNCSVQICAgIfAhkiAAAAAlwSFlz\nAAALEgAACxIB0t1+/AAABBZJREFUeJzt28FtU1EQQNE/KB1BAe6CchDl0IULgJomC1YoCTEs8n2t\ncxrw6D2/q5Esz+4eAHR8OnsAAP6NcAPECDdAjHADxAg3QIxwA8QIN0CMcAPECDdAzNPZAzyamXnx\nV9TdnTNm4bfX7uQ43MvZvJX/Z+MGiBFugBjhBogRboAY4QaIEW6AGOEGiBFugBjhBogRboAY4QaI\nEW6AGOEGiBFugBjhBogRboAY4QaIEW6AGOEGiBFugBjhBogRboAY4QaIEW6AGOEGiBFugBjhBogR\nboAY4QaIEW6AGOEGiBFugBjhBogRboAY4QaIEW6AGOEGiBFugBjhBogRboAY4QaIEW6AGOEGiBFu\ngBjhBogRboAY4QaIEW6AGOEGiBFugBjhBogRboAY4QaIEW6AGOEGiBFugBjhBogRboAY4QaIEW6A\nGOEGiBFugBjhBogRboAY4QaIEW6AGOEGiBFugBjhBogRboAY4QaIEW6AGOEGiBFugBjhBogRboAY\n4QaIEW6AGOEGiBFugBjhBogRboAY4QaIEW6AGOEGiBFugBjhBogRboAY4QaIEW6AGOEGiBFugBjh\nBogRboAY4QaIEW6AGOEGiBFugBjhBogRboAY4QaIEW6AGOEGiBFugBjhBogRboAY4QaIEW6AGOEG\niBFugBjhBogRboAY4QaIEW6AGOEGiBFugBjhBogRboAY4QaIEW6AGOEGiBFugBjhBogRboAY4QaI\nEW6AGOEGiBFugBjhBogRboCY2d2zZzjdfJ/MIey3nbNnqJl5/X53neULb5zVQwrfv40bIEa4AWKE\nGyBGuAFihBsgRrgBYoQbIEa4AWKEGyBGuAFihBsgRrgBYoQbIEa4AWKEGyBGuAFihBsgRrgBYoQb\nIEa4AWKEGyBGuAFihBsgRrgBYoQbIEa4AWKEGyBGuAFihBsgRrgBYoQbIEa4AWKEGyBGuAFihBsg\nRrgBYoQbIEa4AWKEGyBGuAFihBsgRrgBYmZ3z57hXde53v+QD+Kylzl7hlvNHB/yvdg9Mmfynrl6\nS7fay/2+BRs3QIxwA8QIN0CMcAPECDdAjHADxAg3QIxwA8QIN0CMcAPECDdAjHADxAg3QIxwA8QI\nN0CMcAPECDdAjHADxAg3QIxwA8QIN0CMcAPECDdAjHADxAg3QIxwA8QIN0CMcAPECDdAjHADxAg3\nQIxwA8QIN0CMcAPECDdAjHADxAg3QIxwA8TM7p49wx++/PpxXwMB3Ojn56/zEZ9j4waIEW6AGOEG\niBFugJi7+3ESgL+zcQPECDdAjHADxAg3QIxwA8QIN0CMcAPECDdAjHADxAg3QIxwA8QIN0CMcAPE\nCDdAjHADxAg3QIxwA8QIN0CMcAPECDdAjHADxAg3QIxwA8Q8A1GXNuecccNzAAAAAElFTkSuQmCC\n",
      "text/plain": [
       "<matplotlib.figure.Figure at 0x85fbf98>"
      ]
     },
     "metadata": {},
     "output_type": "display_data"
    },
    {
     "data": {
      "image/png": "iVBORw0KGgoAAAANSUhEUgAAAW4AAAD8CAYAAABXe05zAAAABHNCSVQICAgIfAhkiAAAAAlwSFlz\nAAALEgAACxIB0t1+/AAABDNJREFUeJzt28FtU1EQQNE/iI6ggHRBOYhy6CIFQE2ThVfIhoQs8n2t\ncxrw6I3f1ZMsz+4eAHR8OnsAAP6PcAPECDdAjHADxAg3QIxwA8QIN0CMcAPECDdAzOezB3g0M3P1\nV9TdnTNm4eLWTo7DXs7mrryfFzdAjHADxAg3QIxwA8QIN0CMcAPECDdAjHADxAg3QIxwA8QIN0CM\ncAPECDdAjHADxAg3QIxwA8QIN0CMcAPECDdAjHADxAg3QIxwA8QIN0CMcAPECDdAjHADxAg3QIxw\nA8QIN0CMcAPECDdAjHADxAg3QIxwA8QIN0CMcAPECDdAjHADxAg3QIxwA8QIN0CMcAPECDdAjHAD\nxAg3QIxwA8QIN0CMcAPECDdAjHADxAg3QIxwA8QIN0CMcAPECDdAjHADxAg3QIxwA8QIN0CMcAPE\nCDdAjHADxAg3QIxwA8QIN0CMcAPECDdAjHADxAg3QIxwA8QIN0CMcAPECDdAjHADxAg3QIxwA8QI\nN0CMcAPECDdAjHADxAg3QIxwA8QIN0CMcAPECDdAjHADxMzunj3DQ5mZqwPd3TljFi5u7eQ47OU9\n5sfts7xH+/1x9+vFDRAj3AAxwg0QI9wAMcINECPcADHCDRAj3AAxwg0QI9wAMcINECPcADHCDRAj\n3AAxwg0QI9wAMcINECPcADHCDRAj3AAxwg0QI9wAMcINECPcADHCDRAj3AAxwg0QI9wAMcINECPc\nADHCDRAj3AAxwg0QI9wAMcINECPcADHCDRAj3AAxwg0QI9wAMcINECPcADHCDRAzu3v2DA9lZq4O\ndHfnjFm4uLWT47CXm/5yVg8pvH8vboAY4QaIEW6AGOEGiBFugBjhBogRboAY4QaIEW6AGOEGiBFu\ngBjhBogRboAY4QaIEW6AGOEGiBFugBjhBogRboAY4QaIEW6AGOEGiBFugBjhBogRboAY4QaIEW6A\nGOEGiBFugBjhBogRboAY4QaIEW6AGOEGiBFugBjhBogRboAY4QaIEW6AGOEGiBFugBjhBoiZ3T17\nhlc9z/P9D/kgnvZpzp7hrWaOD/le7B6ZM3nNPLtLb7VP93sXvLgBYoQbIEa4AWKEGyBGuAFihBsg\nRrgBYoQbIEa4AWKEGyBGuAFihBsgRrgBYoQbIEa4AWKEGyBGuAFihBsgRrgBYoQbIEa4AWKEGyBG\nuAFihBsgRrgBYoQbIEa4AWKEGyBGuAFihBsgRrgBYoQbIEa4AWKEGyBGuAFihBsgRrgBYoQbIGZ2\n9+wZ/vD198/7GgjgjX59+TYf8Tle3AAxwg0QI9wAMcINEHN3P04C8G9e3AAxwg0QI9wAMcINECPc\nADHCDRAj3AAxwg0QI9wAMcINECPcADHCDRAj3AAxwg0QI9wAMcINECPcADHCDRAj3AAxwg0QI9wA\nMcINECPcADEvB/ZF478jlkUAAAAASUVORK5CYII=\n",
      "text/plain": [
       "<matplotlib.figure.Figure at 0x86b2cc0>"
      ]
     },
     "metadata": {},
     "output_type": "display_data"
    },
    {
     "data": {
      "image/png": "iVBORw0KGgoAAAANSUhEUgAAAW4AAAD8CAYAAABXe05zAAAABHNCSVQICAgIfAhkiAAAAAlwSFlz\nAAALEgAACxIB0t1+/AAABElJREFUeJzt29FtE1EQQNEdlI6ggHRBOYhy6CIFQE3DR75QDEkQYn1X\n53zb2vGO9+pJlmd3DwA6Ppw9AADvI9wAMcINECPcADHCDRAj3AAxwg0QI9wAMcINEPNw9gBXMzMv\n/oq6u3PGLDy7tZPjsJezeVb+nhM3QIxwA8QIN0CMcAPECDdAjHADxAg3QIxwA8QIN0CMcAPECDdA\njHADxAg3QIxwA8QIN0CMcAPECDdAjHADxAg3QIxwA8QIN0CMcAPECDdAjHADxAg3QIxwA8QIN0CM\ncAPECDdAjHADxAg3QIxwA8QIN0CMcAPECDdAjHADxAg3QIxwA8QIN0CMcAPECDdAjHADxAg3QMzD\n2QMA1zFz7Ntf/fKl73n/7jFvv9a1OHEDxAg3QIxwA8QIN0CMcAPECDdAjHADxAg3QIxwA8QIN0CM\ncAPECDdAjHADxAg3QIxwA8QIN0CMcAPECDdAjHADxAg3QIxwA8QIN0CMcAPECDdAjHADxAg3QIxw\nA8QIN0CMcAPECDdAjHADxAg3QIxwA8QIN0CMcAPECDdAjHADxAg3QIxwA8QIN0CMcAPECDdAzOzu\n2TNcysy8uKG7O2fMwrNbOzkOe/kb8/X2vbxH++W6+3XiBogRboAY4QaIEW6AGOEGiBFugBjhBogR\nboAY4QaIEW6AGOEGiBFugBjhBogRboAY4QaIEW6AGOEGiBFugBjhBogRboAY4QaIEW6AGOEGiBFu\ngBjhBogRboAY4QaIEW6AGOEGiBFugBjhBogRboAY4QaIEW6AGOEGiBFugBjhBogRboAY4QaIEW6A\nGOEGiBFugBjhBoiZ3T17hkuZmRc3dHfnjFl4dmsnx2EvN/3mXl1SeP9O3AAxwg0QI9wAMcINECPc\nADHCDRAj3AAxwg0QI9wAMcINECPcADHCDRAj3AAxwg0QI9wAMcINECPcADHCDRAj3AAxwg0QI9wA\nMcINECPcADHCDRAj3AAxwg0QI9wAMcINECPcADHCDRAj3AAxwg0QI9wAMcINECPcADHCDRAj3AAx\nwg0QI9wAMcINECPcADHCDRAzu3v2DK96mqf7H/IiHvdxzp7hX5uZm9+f3b3cZ33NPHmW3mof7/dZ\ncOIGiBFugBjhBogRboAY4QaIEW6AGOEGiBFugBjhBogRboAY4QaIEW6AGOEGiBFugBjhBogRboAY\n4QaIEW6AGOEGiBFugBjhBogRboAY4QaIEW6AGOEGiBFugBjhBogRboAY4QaIEW6AGOEGiBFugBjh\nBogRboAY4QaIEW6AGOEGiBFugJjZ3bNn+MWnH9/uayCAN/r+8fP8j+s4cQPECDdAjHADxAg3QMzd\n/TgJwJ85cQPECDdAjHADxAg3QIxwA8QIN0CMcAPECDdAjHADxAg3QIxwA8QIN0CMcAPECDdAjHAD\nxAg3QIxwA8QIN0CMcAPECDdAjHADxAg3QIxwA8T8BB0fS+XPGOmMAAAAAElFTkSuQmCC\n",
      "text/plain": [
       "<matplotlib.figure.Figure at 0x8513ac8>"
      ]
     },
     "metadata": {},
     "output_type": "display_data"
    },
    {
     "data": {
      "image/png": "iVBORw0KGgoAAAANSUhEUgAAAW4AAAD8CAYAAABXe05zAAAABHNCSVQICAgIfAhkiAAAAAlwSFlz\nAAALEgAACxIB0t1+/AAABEhJREFUeJzt28FtU1EQQNE/KB1BAemCchDl0EUKgJqGRVbIBjlRws+1\nzlnb8ujN99WTLM/uHgB0fDp7AABeRrgBYoQbIEa4AWKEGyBGuAFihBsgRrgBYoQbIObh7AHuzcxc\n/BV1d+eMWXh2bSfHYS9n8115PTdugBjhBogRboAY4QaIEW6AGOEGiBFugBjhBogRboAY4QaIEW6A\nGOEGiBFugBjhBogRboAY4QaIEW6AGOEGiBFugBjhBogRboAY4QaIEW6AGOEGiBFugBjhBogRboAY\n4QaIEW6AGOEGiBFugBjhBogRboAY4QaIEW6AGOEGiBFugBjhBogRboAY4QaIEW6AGOEGiBFugJiH\nswcA7sfMsbe/+vKlL3n/7jG3f9Z9ceMGiBFugBjhBogRboAY4QaIEW6AGOEGiBFugBjhBogRboAY\n4QaIEW6AGOEGiBFugBjhBogRboAY4QaIEW6AGOEGiBFugBjhBogRboAY4QaIEW6AGOEGiBFugBjh\nBogRboAY4QaIEW6AGOEGiBFugBjhBogRboAY4QaIEW6AGOEGiBFugBjhBogRboAY4QaIEW6AmNnd\ns2e4KzNzcaC7O2fMwrNrOzkOe3mN+X79LD+i/Xa/+3XjBogRboAY4QaIEW6AGOEGiBFugBjhBogR\nboAY4QaIEW6AGOEGiBFugBjhBogRboAY4QaIEW6AGOEGiBFugBjhBogRboAY4QaIEW6AGOEGiBFu\ngBjhBogRboAY4QaIEW6AGOEGiBFugBjhBogRboAY4QaIEW6AGOEGiBFugBjhBogRboAY4QaIEW6A\nGOEGiBFugBjhBoiZ3T17hrsyMxcHurtzxiw8u7aT47CXq/5yVncpvH83boAY4QaIEW6AGOEGiBFu\ngBjhBogRboAY4QaIEW6AGOEGiBFugBjhBogRboAY4QaIEW6AGOEGiBFugBjhBogRboAY4QaIEW6A\nGOEGiBFugBjhBogRboAY4QaIEW6AGOEGiBFugBjhBogRboAY4QaIEW6AGOEGiBFugBjhBogRboAY\n4QaIEW6AGOEGiBFugBjhBoiZ3T17hrsyMxcHurtzxizv6WmePDj/0eM+vskzNE/2dqt9fJszfw9u\n3AAxwg0QI9wAMcINECPcADHCDRAj3AAxwg0QI9wAMcINECPcADHCDRAj3AAxwg0QI9wAMcINECPc\nADHCDRAj3AAxwg0QI9wAMcINECPcADHCDRAj3AAxwg0QI9wAMcINECPcADHCDRAj3AAxwg0QI9wA\nMcINECPcADHCDRAj3AAxwg0QM7t79gx/+PLrx8caCOBGPz9/nf/xOW7cADHCDRAj3AAxwg0Q8+F+\nnATg39y4AWKEGyBGuAFihBsgRrgBYoQbIEa4AWKEGyBGuAFihBsgRrgBYoQbIEa4AWKEGyBGuAFi\nhBsgRrgBYoQbIEa4AWKEGyBGuAFihBsgRrgBYn4DIxdL5aSjlRwAAAAASUVORK5CYII=\n",
      "text/plain": [
       "<matplotlib.figure.Figure at 0x84b1eb8>"
      ]
     },
     "metadata": {},
     "output_type": "display_data"
    },
    {
     "data": {
      "image/png": "iVBORw0KGgoAAAANSUhEUgAAAW4AAAD8CAYAAABXe05zAAAABHNCSVQICAgIfAhkiAAAAAlwSFlz\nAAALEgAACxIB0t1+/AAABDRJREFUeJzt29FtE1EQQNEdREdQQLqgHEQ5dJECoKbJR75QDAoheH2t\ncxrY0Zv11ZNWnt09AOj4cPYAAPwd4QaIEW6AGOEGiBFugBjhBogRboAY4QaIEW6AmI9nD3BvZubF\nX1F3d86YhWeXdnIc9nI2v5W3c+MGiBFugBjhBogRboAY4QaIEW6AGOEGiBFugBjhBogRboAY4QaI\nEW6AGOEGiBFugBjhBogRboAY4QaIEW6AGOEGiBFugBjhBogRboAY4QaIEW6AGOEGiBFugBjhBogR\nboAY4QaIEW6AGOEGiBFugBjhBogRboAY4QaIEW6AGOEGiBFugBjhBogRboAY4QaIEW6AGOEGiBFu\ngBjhBogRboAY4QaIEW6AGOEGiBFugBjhBogRboAY4QaIEW6AGOEGiBFugBjhBogRboAY4QaIEW6A\nGOEGiBFugBjhBogRboAY4QaIEW6AGOEGiBFugBjhBogRboAY4QaIEW6AGOEGiBFugBjhBogRboAY\n4QaIEW6AGOEGiBFugBjhBogRboAY4QaIEW6AGOEGiBFugJjZ3bNnuCsz8+JAd3fOmIVnl3ZyHPby\nFvPt8lneov16v/t14waIEW6AGOEGiBFugBjhBogRboAY4QaIEW6AGOEGiBFugBjhBogRboAY4QaI\nEW6AGOEGiBFugBjhBogRboAY4QaIEW6AGOEGiBFugBjhBogRboAY4QaIEW6AGOEGiBFugBjhBogR\nboAY4QaIEW6AGOEGiBFugBjhBogRboAY4QaIEW6AGOEGiBFugBjhBogRboAY4QaImd09e4a7MjMv\nDnR354xZeHZpJ8dhLxf95qzuUnj/btwAMcINECPcADHCDRAj3AAxwg0QI9wAMcINECPcADHCDRAj\n3AAxwg0QI9wAMcINECPcADHCDRAj3AAxwg0QI9wAMcINECPcADHCDRAj3AAxwg0QI9wAMcINECPc\nADHCDRAj3AAxwg0QI9wAMcINECPcADHCDRAj3AAxwg0QI9wAMcINECPcADHCDRAj3AAxwg0QM7t7\n9gw3b+a42iHtHnOtZ/2Lx3n04lzRwz68y3sxj/b2WvvwPmf+P7hxA8QIN0CMcAPECDdAjHADxAg3\nQIxwA8QIN0CMcAPECDdAjHADxAg3QIxwA8QIN0CMcAPECDdAjHADxAg3QIxwA8QIN0CMcAPECDdA\njHADxAg3QIxwA8QIN0CMcAPECDdAjHADxAg3QIxwA8QIN0CMcAPECDdAjHADxAg3QIxwA8QIN0DM\n7O7ZM/zi88/vtzUQwCv9+PRlrvEcN26AGOEGiBFugBjhBoi5uY+TAPyZGzdAjHADxAg3QIxwA8QI\nN0CMcAPECDdAjHADxAg3QIxwA8QIN0CMcAPECDdAjHADxAg3QIxwA8QIN0CMcAPECDdAjHADxAg3\nQIxwA8QIN0DME3HcReNb0kUOAAAAAElFTkSuQmCC\n",
      "text/plain": [
       "<matplotlib.figure.Figure at 0x9912ef0>"
      ]
     },
     "metadata": {},
     "output_type": "display_data"
    },
    {
     "data": {
      "image/png": "iVBORw0KGgoAAAANSUhEUgAAAW4AAAD8CAYAAABXe05zAAAABHNCSVQICAgIfAhkiAAAAAlwSFlz\nAAALEgAACxIB0t1+/AAABBhJREFUeJzt29GN00AUQFE/REdQQLqgHEQ5dJECoKbHB18oK7TAEudG\n5zTgp5nx1UiWZ3cPADrenT0AAH9GuAFihBsgRrgBYoQbIEa4AWKEGyBGuAFihBsg5v3ZAzybmbn5\nFXV354xZ+OmlPTkO+3I278rfc+MGiBFugBjhBogRboAY4QaIEW6AGOEGiBFugBjhBogRboAY4QaI\nEW6AGOEGiBFugBjhBogRboAY4QaIEW6AGOEGiBFugBjhBogRboAY4QaIEW6AGOEGiBFugBjhBogR\nboAY4QaIEW6AGOEGiBFugBjhBogRboAY4QaIEW6AGOEGiBFugBjhBogRboAY4QaIEW6AGOEGiBFu\ngBjhBogRboAY4QaIEW6AGOEGiBFugBjhBogRboAY4QaIEW6AGOEGiBFugBjhBogRboAY4QaIEW6A\nGOEGiBFugBjhBogRboAY4QaIEW6AGOEGiBFugBjhBogRboAY4QaIEW6AGOEGiBFugBjhBogRboAY\n4QaIEW6AGOEGiBFugBjhBogRboAY4QaIEW6AGOEGiBFugBjhBogRboAY4QaIEW6AGOEGiBFugBjh\nBogRboAY4QaIEW6AGOEGiBFugBjhBogRboAY4QaIEW6AGOEGiBFugBjhBogRboAY4QaIEW6AGOEG\niBFugBjhBogRboAY4QaIEW6AGOEGiBFugBjhBogRboAY4QaIEW6AGOEGiBFugBjhBogRboAY4QaI\nEW6AGOEGiBFugBjhBogRboCY2d2zZ3gqM3OzoLs7Z8xSN19u1/IR7ecn2t8Xzu/TCr+XbtwAMcIN\nECPcADHCDRAj3AAxwg0QI9wAMcINECPcADHCDRAj3AAxwg0QI9wAMcINECPcADHCDRAj3AAxwg0Q\nI9wAMcINECPcADHCDRAj3AAxwg0QI9wAMcINECPcADHCDRAj3AAxwg0QI9wAMcINECPcADHCDRAj\n3AAxwg0QI9wAMcINECPcADHCDRAj3AAxwg0QM7t79gwPb+a42yLtHnOvZ/2L61wdnDu67OVNzsVc\n7dtr7eVt1vx/cOMGiBFugBjhBogRboAY4QaIEW6AGOEGiBFugBjhBogRboAY4QaIEW6AGOEGiBFu\ngBjhBogRboAY4QaIEW6AGOEGiBFugBjhBogRboAY4QaIEW6AGOEGiBFugBjhBogRboAY4QaIEW6A\nGOEGiBFugBjhBogRboAY4QaIEW6AGOEGiBFugJjZ3bNn+MXH718fayCAV/r24dPc4zlu3AAxwg0Q\nI9wAMcINEPNwHycB+D03boAY4QaIEW6AGOEGiBFugBjhBogRboAY4QaIEW6AGOEGiBFugBjhBogR\nboAY4QaIEW6AGOEGiBFugBjhBogRboAY4QaIEW6AGOEGiBFugJgfwW02546ZJucAAAAASUVORK5C\nYII=\n",
      "text/plain": [
       "<matplotlib.figure.Figure at 0x849d5c0>"
      ]
     },
     "metadata": {},
     "output_type": "display_data"
    },
    {
     "data": {
      "image/png": "iVBORw0KGgoAAAANSUhEUgAAAW4AAAD8CAYAAABXe05zAAAABHNCSVQICAgIfAhkiAAAAAlwSFlz\nAAALEgAACxIB0t1+/AAABCxJREFUeJzt28GNE0EQQFEX2owggM2CcBDhkIUDgJiKAydkC5nVrsff\neu88lkvdPV8tWZ7dPQHQ8enoAQD4P8INECPcADHCDRAj3AAxwg0QI9wAMcINECPcADEvRw/wbGbm\n4q+ouztHzMIf1/bkdLIvR/OuvJ0bN0CMcAPECDdAjHADxAg3QIxwA8QIN0CMcAPECDdAjHADxAg3\nQIxwA8QIN0CMcAPECDdAjHADxAg3QIxwA8QIN0CMcAPECDdAjHADxAg3QIxwA8QIN0CMcAPECDdA\njHADxAg3QIxwA8QIN0CMcAPECDdAjHADxAg3QIxwA8QIN0CMcAPECDdAjHADxAg3QIxwA8QIN0CM\ncAPECDdAjHADxAg3QIxwA8QIN0CMcAPECDdAjHADxAg3QIxwA8QIN0CMcAPECDdAjHADxAg3QIxw\nA8QIN0CMcAPECDdAjHADxAg3QIxwA8QIN0CMcAPECDdAjHADxAg3QIxwA8QIN0CMcAPECDdAjHAD\nxAg3QIxwA8QIN0CMcAPECDdAjHADxAg3QIxwA8QIN0CMcAPEvBw9ALzVzGlve/L6Y7d+fvc0Nw8F\nd+DGDRAj3AAxwg0QI9wAMcINECPcADHCDRAj3AAxwg0QI9wAMcINECPcADHCDRAj3AAxwg0QI9wA\nMcINECPcADHCDRAj3AAxwg0QI9wAMcINECPcADHCDRAj3AAxwg0QI9wAMcINECPcADHCDRAj3AAx\nwg0QI9wAMcINECPcADHCDRAj3AAxwg0QI9wAMcINECPcADHCDRAzu3v0DE9lZi4WdHfniFnq5vvl\nWj6i/fZE+3vl/D6t8Hvpxg0QI9wAMcINECPcADHCDRAj3AAxwg0QI9wAMcINECPcADHCDRAj3AAx\nwg0QI9wAMcINECPcADHCDRAj3AAxwg0QI9wAMcINECPcADHCDRAj3AAxwg0QI9wAMcINECPcADHC\nDRAj3AAxwg0QI9wAMcINECPcADHCDRAj3AAxwg0QI9wAMcINECPcADHCDRAj3AAxs7tHz/BUZuZi\nQXd3jpjlI53n7ODc0eu+vssZmrN9u9W+vs+afwQ3boAY4QaIEW6AGOEGiBFugBjhBogRboAY4QaI\nEW6AGOEGiBFugBjhBogRboAY4QaIEW6AGOEGiBFugBjhBogRboAY4QaIEW6AGOEGiBFugBjhBogR\nboAY4QaIEW6AGOEGiBFugBjhBogRboAY4QaIEW6AGOEGiBFugBjhBogRboAY4QaImd09eoa/fPn1\n47EGArjRz89f5x7f48YNECPcADHCDRAj3AAxD/fjJAD/5sYNECPcADHCDRAj3AAxwg0QI9wAMcIN\nECPcADHCDRAj3AAxwg0QI9wAMcINECPcADHCDRAj3AAxwg0QI9wAMcINECPcADHCDRAj3AAxwg0Q\n8xvPszzpuraUbwAAAABJRU5ErkJggg==\n",
      "text/plain": [
       "<matplotlib.figure.Figure at 0x83dc7f0>"
      ]
     },
     "metadata": {},
     "output_type": "display_data"
    },
    {
     "data": {
      "image/png": "iVBORw0KGgoAAAANSUhEUgAAAW4AAAD8CAYAAABXe05zAAAABHNCSVQICAgIfAhkiAAAAAlwSFlz\nAAALEgAACxIB0t1+/AAABCpJREFUeJzt29FtE1EQQFEPSkdQgLugHEQ5dJECoKbJB/ygRMhYidc3\nOed7rR2/p7160mpnd08AdHw6egAA/o9wA8QIN0CMcAPECDdAjHADxAg3QIxwA8QIN0DMw9EDvDcz\n8+xT1N2dI2bht5f25HSyL0fzrFzPiRsgRrgBYoQbIEa4AWKEGyBGuAFihBsgRrgBYoQbIEa4AWKE\nGyBGuAFihBsgRrgBYoQbIEa4AWKEGyBGuAFihBsgRrgBYoQbIEa4AWKEGyBGuAFihBsgRrgBYoQb\nIEa4AWKEGyBGuAFihBsgRrgBYoQbIEa4AWKEGyBGuAFihBsgRrgBYoQbIEa4AWKEGyBGuAFihBsg\nRrgBYoQbIEa4AWKEGyBGuAFihBsgRrgBYoQbIEa4AWKEGyBGuAFihBsgRrgBYoQbIEa4AWKEGyBG\nuAFihBsgRrgBYoQbIEa4AWKEGyBGuAFihBsgRrgBYoQbIEa4AWKEGyBGuAFihBsgRrgBYoQbIEa4\nAWKEGyBGuAFihBsgRrgBYoQbIEa4AWKEGyBGuAFihBsgRrgBYh6OHgCuNXPay658+bJLf797mouH\nghtw4gaIEW6AGOEGiBFugBjhBogRboAY4QaIEW6AGOEGiBFugBjhBogRboAY4QaIEW6AGOEGiBFu\ngBjhBogRboAY4QaIEW6AGOEGiBFugBjhBogRboAY4QaIEW6AGOEGiBFugBjhBogRboAY4QaIEW6A\nGOEGiBFugBjhBogRboAY4QaIEW6AGOEGiBFugBjhBogRboAY4QaImd09eoZ3ZWaeLejuzhGz1M33\n52t5j/ab/b2GZ+V6TtwAMcINECPcADHCDRAj3AAxwg0QI9wAMcINECPcADHCDRAj3AAxwg0QI9wA\nMcINECPcADHCDRAj3AAxwg0QI9wAMcINECPcADHCDRAj3AAxwg0QI9wAMcINECPcADHCDRAj3AAx\nwg0QI9wAMcINECPcADHCDRAj3AAxwg0QI9wAMcINECPcADHCDRAj3AAxwg0QM7t79Axvb+YD/Mk/\nducWt3mcx4+zpnfgvOdX2dd5tG+X2vPrrPlbcOIGiBFugBjhBogRboAY4QaIEW6AGOEGiBFugBjh\nBogRboAY4QaIEW6AGOEGiBFugBjhBogRboAY4QaIEW6AGOEGiBFugBjhBogRboAY4QaIEW6AGOEG\niBFugBjhBogRboAY4QaIEW6AGOEGiBFugBjhBogRboAY4QaIEW6AGOEGiBFugJjZ3aNn+MuXXz/u\nayCAC/38/HVucR8nboAY4QaIEW6AGOEGiLm7l5MA/JsTN0CMcAPECDdAjHADxAg3QIxwA8QIN0CM\ncAPECDdAjHADxAg3QIxwA8QIN0CMcAPECDdAjHADxAg3QIxwA8QIN0CMcAPECDdAjHADxAg3QMwT\nxPA86ROTmv4AAAAASUVORK5CYII=\n",
      "text/plain": [
       "<matplotlib.figure.Figure at 0x83feeb8>"
      ]
     },
     "metadata": {},
     "output_type": "display_data"
    },
    {
     "data": {
      "image/png": "iVBORw0KGgoAAAANSUhEUgAAAW4AAAD8CAYAAABXe05zAAAABHNCSVQICAgIfAhkiAAAAAlwSFlz\nAAALEgAACxIB0t1+/AAABBtJREFUeJzt29FtE1EQQFEPoiMowF1QDqIcunABUNPkA/hARiigxOsb\nn9PAjt9or55k7ezuCYCOd0cPAMC/EW6AGOEGiBFugBjhBogRboAY4QaIEW6AGOEGiHl/9ABvzcxc\nfYq6u3PELPzwp52cTvZyNO/K/3PjBogRboAY4QaIEW6AGOEGiBFugBjhBogRboAY4QaIEW6AGOEG\niBFugBjhBogRboAY4QaIEW6AGOEGiBFugBjhBogRboAY4QaIEW6AGOEGiBFugBjhBogRboAY4QaI\nEW6AGOEGiBFugBjhBogRboAY4QaIEW6AGOEGiBFugBjhBogRboAY4QaIEW6AGOEGiBFugBjhBogR\nboAY4QaIEW6AGOEGiBFugBjhBogRboAY4QaIEW6AGOEGiBFugBjhBogRboAY4QaIEW6AGOEGiBFu\ngBjhBogRboAY4QaIEW6AGOEGiBFugBjhBogRboAY4QaIEW6AGOEGiBFugBjhBogRboAY4QaIEW6A\nGOEGiBFugBjhBogRboAY4QaIEW6AGOEGiBFugBjhBogRboAY4QaIEW6AGOEGiBFugBjhBogRboAY\n4QaIEW6AGOEGiBFugBjhBogRboAY4QaIEW6AGOEGiBFugBjhBogRboAY4QaIEW6AGOEGiBFugBjh\nBogRboAY4QaIEW6AGOEGiBFugBjhBogRboAY4QaIEW6AGOEGiBFugBjhBogRboAY4QaIEW6AGOEG\niBFugBjhBogRboAY4QaIEW6AmNndo2d4U2bm6kB3d46YpW6+XJ/lPdrP9vvLzOlmO9s9Pey5u3ED\nxAg3QIxwA8QIN0CMcAPECDdAjHADxAg3QIxwA8QIN0CMcAPECDdAjHADxAg3QIxwA8QIN0CMcAPE\nCDdAjHADxAg3QIxwA8QIN0CMcAPECDdAjHADxAg3QIxwA8QIN0CMcAPECDdAjHADxAg3QIxwA8QI\nN0CMcAPECDdAjHADxAg3QIxwA8QIN0CMcAPECDdAzOzu0TO8vpkH+JE/7c4tHnOZy+Oc6R047/lF\n9joXe3uuPb/Mmb8GN26AGOEGiBFugBjhBogRboAY4QaIEW6AGOEGiBFugBjhBogRboAY4QaIEW6A\nGOEGiBFugBjhBogRboAY4QaIEW6AGOEGiBFugBjhBogRboAY4QaIEW6AGOEGiBFugBjhBogRboAY\n4QaIEW6AGOEGiBFugBjhBogRboAY4QaIEW6AGOEGiJndPXqG33z8/vW+BgJ4pm8fPs0tnuPGDRAj\n3AAxwg0QI9wAMXf35yQAf+fGDRAj3AAxwg0QI9wAMcINECPcADHCDRAj3AAxwg0QI9wAMcINECPc\nADHCDRAj3AAxwg0QI9wAMcINECPcADHCDRAj3AAxwg0QI9wAMcINEPMEwW025xIuS0cAAAAASUVO\nRK5CYII=\n",
      "text/plain": [
       "<matplotlib.figure.Figure at 0x8439828>"
      ]
     },
     "metadata": {},
     "output_type": "display_data"
    },
    {
     "data": {
      "image/png": "iVBORw0KGgoAAAANSUhEUgAAAW4AAAD8CAYAAABXe05zAAAABHNCSVQICAgIfAhkiAAAAAlwSFlz\nAAALEgAACxIB0t1+/AAABBlJREFUeJzt29FtE1EQQFEPSkdQgLugnIhy6MIFQE2TD/hBRCggx+uL\nz2lgZ99or55keXb3BEDHh6MHAODvCDdAjHADxAg3QIxwA8QIN0CMcAPECDdAjHADxDwdPcD/ZmZ+\n+yvq7s4Rs/DDazs5nezlaL6Vf+fGDRAj3AAxwg0QI9wAMcINECPcADHCDRAj3AAxwg0QI9wAMcIN\nECPcADHCDRAj3AAxwg0QI9wAMcINECPcADHCDRAj3AAxwg0QI9wAMcINECPcADHCDRAj3AAxwg0Q\nI9wAMcINECPcADHCDRAj3AAxwg0QI9wAMcINECPcADHCDRAj3AAxwg0QI9wAMcINECPcADHCDRAj\n3AAxwg0QI9wAMcINECPcADHCDRAj3AAxwg0QI9wAMcINECPcADHCDRAj3AAxwg0QI9wAMcINECPc\nADHCDRAj3AAxwg0QI9wAMcINECPcADHCDRAj3AAxwg0QI9wAMcINECPcADHCDRAj3AAxwg0QI9wA\nMcINECPcADHCDRAj3AAxwg0QI9wAMcINECPcADHCDRAj3AAxwg0QI9wAMcINECPcADHCDRAj3AAx\nwg0QI9wAMcINECPcADHCDRAj3AAxwg0QI9wAMcINECPcADHCDRAj3AAxwg0QI9wAMcINECPcADHC\nDRAj3AAxwg0QI9wAMcINECPcADHCDRAj3AAxwg0QI9wAMcINECPcADHCDRAj3AAxwg0QI9wAMcIN\nECPcADHCDRAj3AAxwg0QI9wAMbO7R89wuPkymUPY552jZ6iZeX2/u87y2mZON/uWdk8Puz83boAY\n4QaIEW6AGOEGiBFugBjhBogRboAY4QaIEW6AGOEGiBFugBjhBogRboAY4QaIEW6AGOEGiBFugBjh\nBogRboAY4QaIEW6AGOEGiBFugBjhBogRboAY4QaIEW6AGOEGiBFugBjhBogRboAY4QaIEW6AGOEG\niBFugBjhBogRboAY4QaIEW6AGOEGiBFugBjhBoiZ3T16hvc38wAv+dPu3OIxl7k8zpnegfOer7LX\nudjbW+35Omf+Hty4AWKEGyBGuAFihBsgRrgBYoQbIEa4AWKEGyBGuAFihBsgRrgBYoQbIEa4AWKE\nGyBGuAFihBsgRrgBYoQbIEa4AWKEGyBGuAFihBsgRrgBYoQbIEa4AWKEGyBGuAFihBsgRrgBYoQb\nIEa4AWKEGyBGuAFihBsgRrgBYoQbIEa4AWKEGyBmdvfoGX7x6fvX+xoI4I2+ffw8t3iOGzdAjHAD\nxAg3QIxwA8Tc3Y+TAPyZGzdAjHADxAg3QIxwA8QIN0CMcAPECDdAjHADxAg3QIxwA8QIN0CMcAPE\nCDdAjHADxAg3QIxwA8QIN0CMcAPECDdAjHADxAg3QIxwA8QIN0DMC7t9NucaiRJcAAAAAElFTkSu\nQmCC\n",
      "text/plain": [
       "<matplotlib.figure.Figure at 0x8185ba8>"
      ]
     },
     "metadata": {},
     "output_type": "display_data"
    },
    {
     "data": {
      "image/png": "iVBORw0KGgoAAAANSUhEUgAAAW4AAAD8CAYAAABXe05zAAAABHNCSVQICAgIfAhkiAAAAAlwSFlz\nAAALEgAACxIB0t1+/AAABClJREFUeJzt28FtU1EQQFEPSkdQgLugHEQ5dOECoKZhARsUCzkoyffF\n56xt/fEb+epJlmd3TwB0fDh6AABeRrgBYoQbIEa4AWKEGyBGuAFihBsgRrgBYoQbIObp6AH+NzPz\n7K+ouztHzMIv13ZyOtnL0XxX/p0bN0CMcAPECDdAjHADxAg3QIxwA8QIN0CMcAPECDdAjHADxAg3\nQIxwA8QIN0CMcAPECDdAjHADxAg3QIxwA8QIN0CMcAPECDdAjHADxAg3QIxwA8QIN0CMcAPECDdA\njHADxAg3QIxwA8QIN0CMcAPECDdAjHADxAg3QIxwA8QIN0CMcAPECDdAjHADxAg3QIxwA8QIN0CM\ncAPECDdAjHADxAg3QIxwA8QIN0CMcAPECDdAjHADxAg3QIxwA8QIN0CMcAPECDdAjHADxAg3QIxw\nA8QIN0CMcAPECDdAjHADxAg3QIxwA8QIN0CMcAPECDdAjHADxAg3QIxwA8QIN0CMcAPECDdAjHAD\nxAg3QIxwA8QIN0CMcAPECDdAjHADxAg3QIxwA8QIN0CMcAPEPB09QMHMaW9/9fOXvuT9u6e5/VnA\nI3LjBogRboAY4QaIEW6AGOEGiBFugBjhBogRboAY4QaIEW6AGOEGiBFugBjhBogRboAY4QaIEW6A\nGOEGiBFugBjhBogRboAY4QaIEW6AGOEGiBFugBjhBogRboAY4QaIEW6AGOEGiBFugBjhBogRboAY\n4QaIEW6AGOEGiBFugBjhBogRboAY4QaIEW6AGOEGiBFugBjhBoiZ3T16hsPN18kcwn7ZOXqGmpnr\n+911lke6thc7uY0bN0CMcAPECDdAjHADxAg3QIxwA8QIN0CMcAPECDdAjHADxAg3QIxwA8QIN0CM\ncAPECDdAjHADxAg3QIxwA8QIN0CMcAPECDdAjHADxAg3QIxwA8QIN0CMcAPECDdAjHADxAg3QIxw\nA8QIN0CMcAPECDdAjHADxAg3QIxwA8QIN0CMcAPECDdAjHADxAg3QIxwA8TM7h49w9ubeYAP+dvu\nvMdjLnN5nDO9A+c9v8pe52Jvt9rz65z5W3DjBogRboAY4QaIEW6AGOEGiBFugBjhBogRboAY4QaI\nEW6AGOEGiBFugBjhBogRboAY4QaIEW6AGOEGiBFugBjhBogRboAY4QaIEW6AGOEGiBFugBjhBogR\nboAY4QaIEW6AGOEGiBFugBjhBogRboAY4QaIEW6AGOEGiBFugBjhBogRboCY2d2jZ/jDpx/f7msg\ngBt9//h53uM5btwAMcINECPcADHCDRBzdz9OAvB3btwAMcINECPcADHCDRAj3AAxwg0QI9wAMcIN\nECPcADHCDRAj3AAxwg0QI9wAMcINECPcADHCDRAj3AAxwg0QI9wAMcINECPcADHCDRAj3AAxPwGr\ngDzppFTwEgAAAABJRU5ErkJggg==\n",
      "text/plain": [
       "<matplotlib.figure.Figure at 0x828fdd8>"
      ]
     },
     "metadata": {},
     "output_type": "display_data"
    },
    {
     "data": {
      "image/png": "iVBORw0KGgoAAAANSUhEUgAAAW4AAAD8CAYAAABXe05zAAAABHNCSVQICAgIfAhkiAAAAAlwSFlz\nAAALEgAACxIB0t1+/AAABDBJREFUeJzt28GNE0EQQFEX2owgAGdBOIhwyMIBQEzFAS7IK+RF4PHH\n753H6vL0zFdLlmd3TwB0vDt6AADeRrgBYoQbIEa4AWKEGyBGuAFihBsgRrgBYoQbIObl6AH+NzNz\n9VfU3Z0jZuGH1/bkdLIvR/Ou/DknboAY4QaIEW6AGOEGiBFugBjhBogRboAY4QaIEW6AGOEGiBFu\ngBjhBogRboAY4QaIEW6AGOEGiBFugBjhBogRboAY4QaIEW6AGOEGiBFugBjhBogRboAY4QaIEW6A\nGOEGiBFugBjhBogRboAY4QaIEW6AGOEGiBFugBjhBogRboAY4QaIEW6AGOEGiBFugBjhBogRboAY\n4QaIEW6AGOEGiBFugBjhBogRboAY4QaIEW6AGOEGiBFugBjhBogRboAY4QaIEW6AGOEGiBFugBjh\nBogRboAY4QaIEW6AGOEGiBFugBjhBogRboAY4QaIEW6AGOEGiBFugBjhBogRboAY4QaIEW6AGOEG\niBFugBjhBogRboAY4QaIEW6AGOEGiBFugBjhBogRboAY4QaIeTl6gIKZ095+9fWlb/n87mluXwt4\nRk7cADHCDRAj3AAxwg0QI9wAMcINECPcADHCDRAj3AAxwg0QI9wAMcINECPcADHCDRAj3AAxwg0Q\nI9wAMcINECPcADHCDRAj3AAxwg0QI9wAMcINECPcADHCDRAj3AAxwg0QI9wAMcINECPcADHCDRAj\n3AAxwg0QI9wAMcINECPcADHCDRAj3AAxwg0QI9wAMcINECPcADGzu0fPcLj5PJmbsJ92jp7hFnO5\nZO7pI9jzObGvf9PM9Xu323i+j+bEDRAj3AAxwg0QI9wAMcINECPcADHCDRAj3AAxwg0QI9wAMcIN\nECPcADHCDRAj3AAxwg0QI9wAMcINECPcADHCDRAj3AAxwg0QI9wAMcINECPcADHCDRAj3AAxwg0Q\nI9wAMcINECPcADHCDRAj3AAxwg0QI9wAMcINECPcADHCDRAj3AAxwg0QI9wAMcINECPcADGzu0fP\n8O/NPMGX/Gl37rHMZS7Pc08fwHnPd9nXe5pX3su90/Nb58QNECPcADHCDRAj3AAxwg0QI9wAMcIN\nECPcADHCDRAj3AAxwg0QI9wAMcINECPcADHCDRAj3AAxwg0QI9wAMcINECPcADHCDRAj3AAxwg0Q\nI9wAMcINECPcADHCDRAj3AAxwg0QI9wAMcINECPcADHCDRAj3AAxwg0QI9wAMcINECPcADGzu0fP\n8IsP37481kAAN/r6/uPcYx0nboAY4QaIEW6AGOEGiHm4HycB+D0nboAY4QaIEW6AGOEGiBFugBjh\nBogRboAY4QaIEW6AGOEGiBFugBjhBogRboAY4QaIEW6AGOEGiBFugBjhBogRboAY4QaIEW6AGOEG\niBFugJjvsXg86T/Jzn0AAAAASUVORK5CYII=\n",
      "text/plain": [
       "<matplotlib.figure.Figure at 0x83c0eb8>"
      ]
     },
     "metadata": {},
     "output_type": "display_data"
    },
    {
     "data": {
      "image/png": "iVBORw0KGgoAAAANSUhEUgAAAW4AAAD8CAYAAABXe05zAAAABHNCSVQICAgIfAhkiAAAAAlwSFlz\nAAALEgAACxIB0t1+/AAABDFJREFUeJzt28GNE0EQQFEX2owgAGdBOIhwyMIBQEzFAS5oV8isYMaf\nfe881pSnp79asjy7ewGg493ZAwDwZ4QbIEa4AWKEGyBGuAFihBsgRrgBYoQbIEa4AWKezh7gfzMz\nz/6Kurtzxiz88NKaXC7W5Wz2yus5cQPECDdAjHADxAg3QIxwA8QIN0CMcAPECDdAjHADxAg3QIxw\nA8QIN0CMcAPECDdAjHADxAg3QIxwA8QIN0CMcAPECDdAjHADxAg3QIxwA8QIN0CMcAPECDdAjHAD\nxAg3QIxwA8QIN0CMcAPECDdAjHADxAg3QIxwA8QIN0CMcAPECDdAjHADxAg3QIxwA8QIN0CMcAPE\nCDdAjHADxAg3QIxwA8QIN0CMcAPECDdAjHADxAg3QIxwA8QIN0CMcAPECDdAjHADxAg3QIxwA8QI\nN0CMcAPECDdAjHADxAg3QIxwA8QIN0CMcAPECDdAjHADxAg3QIxwA8QIN0CMcAPECDdAjHADxAg3\nQIxwA8QIN0CMcAPECDdAjHADxAg3QIxwA8QIN0CMcAPECDdAzNPZA8BrzVz2vitfvuzez+9e5u6h\n4ABO3AAxwg0QI9wAMcINECPcADHCDRAj3AAxwg0QI9wAMcINECPcADHCDRAj3AAxwg0QI9wAMcIN\nECPcADHCDRAj3AAxwg0QI9wAMcINECPcADHCDRAj3AAxwg0QI9wAMcINECPcADHCDRAj3AAxwg0Q\nI9wAMcINECPcADHCDRAj3AAxwg0QI9wAMcINECPcADHCDRAj3AAxs7tnz3C6+TyZh7Cfds6e4R5z\nu2We6SPY6zWxrn/TzPN9t9t4v8/mxA0QI9wAMcINECPcADHCDRAj3AAxwg0QI9wAMcINECPcADHC\nDRAj3AAxwg0QI9wAMcINECPcADHCDRAj3AAxwg0QI9wAMcINECPcADHCDRAj3AAxwg0QI9wAMcIN\nECPcADHCDRAj3AAxwg0QI9wAMcINECPcADHCDRAj3AAxwg0QI9wAMcINECPcADHCDRAj3AAxs7tn\nz/DvzbyBL/nT7hxxm9vc3s4zfQDXvR6yrkeaF/blHvT+1jlxA8QIN0CMcAPECDdAjHADxAg3QIxw\nA8QIN0CMcAPECDdAjHADxAg3QIxwA8QIN0CMcAPECDdAjHADxAg3QIxwA8QIN0CMcAPECDdAjHAD\nxAg3QIxwA8QIN0CMcAPECDdAjHADxAg3QIxwA8QIN0CMcAPECDdAjHADxAg3QIxwA8QIN0DM7O7Z\nM/ziw7cvjzUQwJ2+vv84R9zHiRsgRrgBYoQbIEa4AWIe7sdJAH7PiRsgRrgBYoQbIEa4AWKEGyBG\nuAFihBsgRrgBYoQbIEa4AWKEGyBGuAFihBsgRrgBYoQbIEa4AWKEGyBGuAFihBsgRrgBYoQbIEa4\nAWKEGyDmO8T4POkD+hOFAAAAAElFTkSuQmCC\n",
      "text/plain": [
       "<matplotlib.figure.Figure at 0x8767ba8>"
      ]
     },
     "metadata": {},
     "output_type": "display_data"
    },
    {
     "data": {
      "image/png": "iVBORw0KGgoAAAANSUhEUgAAAW4AAAD8CAYAAABXe05zAAAABHNCSVQICAgIfAhkiAAAAAlwSFlz\nAAALEgAACxIB0t1+/AAABCxJREFUeJzt28GNE0EQQFEX2owgAGdBOIhwyMIBQEzFAS5oV+C1hGf/\n+r3zWFOenv5qyfLs7gmAjg9HDwDA6wg3QIxwA8QIN0CMcAPECDdAjHADxAg3QIxwA8Q8HT3AezMz\nz/6KurtzxCz88tKanE7W5Wj2yu2cuAFihBsgRrgBYoQbIEa4AWKEGyBGuAFihBsgRrgBYoQbIEa4\nAWKEGyBGuAFihBsgRrgBYoQbIEa4AWKEGyBGuAFihBsgRrgBYoQbIEa4AWKEGyBGuAFihBsgRrgB\nYoQbIEa4AWKEGyBGuAFihBsgRrgBYoQbIEa4AWKEGyBGuAFihBsgRrgBYoQbIEa4AWKEGyBGuAFi\nhBsgRrgBYoQbIEa4AWKEGyBGuAFihBsgRrgBYoQbIEa4AWKEGyBGuAFihBsgRrgBYoQbIEa4AWKE\nGyBGuAFihBsgRrgBYoQbIEa4AWKEGyBGuAFihBsgRrgBYoQbIEa4AWKEGyBGuAFihBsgRrgBYoQb\nIEa4AWKEGyBGuAFihBsgRrgBYoQbIEa4AWKEGyBGuAFihBsg5unoAeBWM6e97sqXL7v287unuXoo\nuAMnboAY4QaIEW6AGOEGiBFugBjhBogRboAY4QaIEW6AGOEGiBFugBjhBogRboAY4QaIEW6AGOEG\niBFugBjhBogRboAY4QaIEW6AGOEGiBFugBjhBogRboAY4QaIEW6AGOEGiBFugBjhBogRboAY4QaI\nEW6AGOEGiBFugBjhBogRboAY4QaIEW6AGOEGiBFugBjhBogRboCY2d2jZ3hXZubZA93dOWKWI83l\n4sV6hT2fH+8dsVdu5sQNECPcADHCDRAj3AAxwg0QI9wAMcINECPcADHCDRAj3AAxwg0QI9wAMcIN\nECPcADHCDRAj3AAxwg0QI9wAMcINECPcADHCDRAj3AAxwg0QI9wAMcINECPcADHCDRAj3AAxwg0Q\nI9wAMcINECPcADHCDRAj3AAxwg0QI9wAMcINECPcADHCDRAj3AAxwg0QI9wAMbO7R8/w/808wJf8\nbXfucZvLXB7nmb4B5z3fZV3/Zb529tJ+uc9eOIITN0CMcAPECDdAjHADxAg3QIxwA8QIN0CMcAPE\nCDdAjHADxAg3QIxwA8QIN0CMcAPECDdAjHADxAg3QIxwA8QIN0CMcAPECDdAjHADxAg3QIxwA8QI\nN0CMcAPECDdAjHADxAg3QIxwA8QIN0CMcAPECDdAjHADxAg3QIxwA8QIN0CMcAPEzO4ePcMfPv34\n9rYGArjS94+f5x73ceIGiBFugBjhBogRboCYN/fjJAB/58QNECPcADHCDRAj3AAxwg0QI9wAMcIN\nECPcADHCDRAj3AAxwg0QI9wAMcINECPcADHCDRAj3AAxwg0QI9wAMcINECPcADHCDRAj3AAxwg0Q\n8xPE+DzpAFznQQAAAABJRU5ErkJggg==\n",
      "text/plain": [
       "<matplotlib.figure.Figure at 0x85bbac8>"
      ]
     },
     "metadata": {},
     "output_type": "display_data"
    },
    {
     "data": {
      "image/png": "iVBORw0KGgoAAAANSUhEUgAAAW4AAAD8CAYAAABXe05zAAAABHNCSVQICAgIfAhkiAAAAAlwSFlz\nAAALEgAACxIB0t1+/AAABB9JREFUeJzt28GNE0EQQFEXIiMIwFkQDiIcsnAAEFPtAS5oEbArMePv\nfS+Bqeme/mrJ8uzuBYCOd2cPAMDLCDdAjHADxAg3QIxwA8QIN0CMcAPECDdAjHADxLw/e4BHMzPP\n/oq6u3PGLPzwuz25XOzL2ZyV13PjBogRboAY4QaIEW6AGOEGiBFugBjhBogRboAY4QaIEW6AGOEG\niBFugBjhBogRboAY4QaIEW6AGOEGiBFugBjhBogRboAY4QaIEW6AGOEGiBFugBjhBogRboAY4QaI\nEW6AGOEGiBFugBjhBogRboAY4QaIEW6AGOEGiBFugBjhBogRboAY4QaIEW6AGOEGiBFugBjhBogR\nboAY4QaIEW6AGOEGiBFugBjhBogRboAY4QaIEW6AGOEGiBFugBjhBogRboAY4QaIEW6AGOEGiBFu\ngBjhBogRboAY4QaIEW6AGOEGiBFugBjhBogRboAY4QaIEW6AGOEGiBFugBjhBogRboAY4QaIEW6A\nGOEGiBFugBjhBogRboAY4QaIEW6AGOEGiBFugBjhBogRboAY4QaIEW6AGOEGiBFugBjhBogRboAY\n4QaIEW6AGOEGiBFugBjhBogRboAY4QaIEW6AGOEGiBFugBjhBogRboAY4QaIEW6AGOEGiBFugBjh\nBogRboAY4QaIEW6AGOEGiBFugBjhBogRboAY4QaIEW6AGOEGiBFugBjhBogRboAY4QaIEW6AGOEG\niBFugBjhBogRboAY4QaIEW6AmNnds2d4KDPzbEF3d86Y5Uxzu/mwXmCv14f4RmYuh+377uUh1uw1\n3LgBYoQbIEa4AWKEGyBGuAFihBsgRrgBYoQbIEa4AWKEGyBGuAFihBsgRrgBYoQbIEa4AWKEGyBG\nuAFihBsgRrgBYoQbIEa4AWKEGyBGuAFihBsgRrgBYoQbIEa4AWKEGyBGuAFihBsgRrgBYoQbIEa4\nAWKEGyBGuAFihBsgRrgBYoQbIEa4AWKEGyBGuAFihBsgZnb37Bn+v5k38JI/7c4Rj7nN7e2s6R24\n7vWQff2b+dI5S/v5mLNwBjdugBjhBogRboAY4QaIEW6AGOEGiBFugBjhBogRboAY4QaIEW6AGOEG\niBFugBjhBogRboAY4QaIEW6AGOEGiBFugBjhBogRboAY4QaIEW6AGOEGiBFugBjhBogRboAY4QaI\nEW6AGOEGiBFugBjhBogRboAY4QaIEW6AGOEGiBFugBjhBoiZ3T17hl98/P71vgYC+EffPnyaI57j\nxg0QI9wAMcINECPcADF39+MkAH/mxg0QI9wAMcINECPcADHCDRAj3AAxwg0QI9wAMcINECPcADHC\nDRAj3AAxwg0QI9wAMcINECPcADHCDRAj3AAxwg0QI9wAMcINECPcADHCDRDzBMF1NudNza3GAAAA\nAElFTkSuQmCC\n",
      "text/plain": [
       "<matplotlib.figure.Figure at 0x979eeb8>"
      ]
     },
     "metadata": {},
     "output_type": "display_data"
    },
    {
     "data": {
      "image/png": "iVBORw0KGgoAAAANSUhEUgAAAW4AAAD8CAYAAABXe05zAAAABHNCSVQICAgIfAhkiAAAAAlwSFlz\nAAALEgAACxIB0t1+/AAABDJJREFUeJzt29FtU0EQQFEPSkdQgLugnIhy6MIFQE3DB+IjMiASCT9f\n55wGdrS772oly7O7JwA6Phw9AACvI9wAMcINECPcADHCDRAj3AAxwg0QI9wAMcINEPN09ACPZmau\n/oq6u3PELPz0uzM5nZzL0Xwrb+fFDRAj3AAxwg0QI9wAMcINECPcADHCDRAj3AAxwg0QI9wAMcIN\nECPcADHCDRAj3AAxwg0QI9wAMcINECPcADHCDRAj3AAxwg0QI9wAMcINECPcADHCDRAj3AAxwg0Q\nI9wAMcINECPcADHCDRAj3AAxwg0QI9wAMcINECPcADHCDRAj3AAxwg0QI9wAMcINECPcADHCDRAj\n3AAxwg0QI9wAMcINECPcADHCDRAj3AAxwg0QI9wAMcINECPcADHCDRAj3AAxwg0QI9wAMcINECPc\nADHCDRAj3AAxwg0QI9wAMcINECPcADHCDRAj3AAxwg0QI9wAMcINECPcADHCDRAj3AAxwg0QI9wA\nMcINECPcADHCDRAj3AAxwg0QI9wAMcINECPcADHCDRAj3AAxT0cPwDs2s7dY5o+L3Gj90+7cZB3e\nDS9ugBjhBogRboAY4QaIEW6AGOEGiBFugBjhBogRboAY4QaIEW6AGOEGiBFugBjhBogRboAY4QaI\nEW6AGOEGiBFugBjhBogRboAY4QaIEW6AGOEGiBFugBjhBogRboAY4QaIEW6AGOEGiBFugBjhBogR\nboAY4QaIEW6AGOEGiBFugBjhBogRboAY4QaIEW6AGOEGiBFugJjZ3aNneCgzc7WhuztHzHKkuVxc\nrFfY8/kh7sjM6Wbnvnt6iD17Cy9ugBjhBogRboAY4QaIEW6AGOEGiBFugBjhBogRboAY4QaIEW6A\nGOEGiBFugBjhBogRboAY4QaIEW6AGOEGiBFugBjhBogRboAY4QaIEW6AGOEGiBFugBjhBogRboAY\n4QaIEW6AGOEGiBFugBjhBogRboAY4QaIEW6AGOEGiBFugBjhBogRboAY4QaIEW6AGOEGiJndPXqG\nhzIzVxu6u3PELP/TZS4uzg2d93wXd2i+XN/ve7XPj/fd/eLFDRAj3AAxwg0QI9wAMcINECPcADHC\nDRAj3AAxwg0QI9wAMcINECPcADHCDRAj3AAxwg0QI9wAMcINECPcADHCDRAj3AAxwg0QI9wAMcIN\nECPcADHCDRAj3AAxwg0QI9wAMcINECPcADHCDRAj3AAxwg0QI9wAMcINECPcADHCDRAj3AAxs7tH\nz/DCp+9f72sggH/07ePnucU6XtwAMcINECPcADHCDRBzdz9OAvB3XtwAMcINECPcADHCDRAj3AAx\nwg0QI9wAMcINECPcADHCDRAj3AAxwg0QI9wAMcINECPcADHCDRAj3AAxwg0QI9wAMcINECPcADHC\nDRAj3AAxPwDRtzzpzocV7QAAAABJRU5ErkJggg==\n",
      "text/plain": [
       "<matplotlib.figure.Figure at 0x984b860>"
      ]
     },
     "metadata": {},
     "output_type": "display_data"
    },
    {
     "data": {
      "image/png": "iVBORw0KGgoAAAANSUhEUgAAAW4AAAD8CAYAAABXe05zAAAABHNCSVQICAgIfAhkiAAAAAlwSFlz\nAAALEgAACxIB0t1+/AAABClJREFUeJzt28GNE0EQQFEX2owgAGdBOIhwyMIBQEzFgRNaQOwiZvzX\n7yXQpe6er5Ysz+5eAOh4d/YAALyMcAPECDdAjHADxAg3QIxwA8QIN0CMcAPECDdAzNPZA7w1M/Ps\nr6i7O2fMwg+/OpPLxbmczbfyel7cADHCDRAj3AAxwg0QI9wAMcINECPcADHCDRAj3AAxwg0QI9wA\nMcINECPcADHCDRAj3AAxwg0QI9wAMcINECPcADHCDRAj3AAxwg0QI9wAMcINECPcADHCDRAj3AAx\nwg0QI9wAMcINECPcADHCDRAj3AAxwg0QI9wAMcINECPcADHCDRAj3AAxwg0QI9wAMcINECPcADHC\nDRAj3AAxwg0QI9wAMcINECPcADHCDRAj3AAxwg0QI9wAMcINECPcADHCDRAj3AAxwg0QI9wAMcIN\nECPcADHCDRAj3AAxwg0QI9wAMcINECPcADHCDRAj3AAxwg0QI9wAMcINECPcADHCDRAj3AAxwg0Q\nI9wAMcINECPcADHCDRAj3AAxwg0QI9wAMcINECPcADHCDRDzdPYAPLCZPWKZ3y5y0PqX3TlkHR6G\nFzdAjHADxAg3QIxwA8QIN0CMcAPECDdAjHADxAg3QIxwA8QIN0CMcAPECDdAjHADxAg3QIxwA8QI\nN0CMcAPECDdAjHADxAg3QIxwA8QIN0CMcAPECDdAjHADxAg3QIxwA8QIN0CMcAPECDdAjHADxAg3\nQIxwA8QIN0CMcAPECDdAjHADxAg3QIxwA8QIN0CMcAPECDdAzOzu2TO8KTPzbEN3d86Y5Uxzu7lY\nL7DX6+PdEd/Kq3lxA8QIN0CMcAPECDdAjHADxAg3QIxwA8QIN0CMcAPECDdAjHADxAg3QIxwA8QI\nN0CMcAPECDdAjHADxAg3QIxwA8QIN0CMcAPECDdAjHADxAg3QIxwA8QIN0CMcAPECDdAjHADxAg3\nQIxwA8QIN0CMcAPECDdAjHADxAg3QIxwA8QIN0CMcAPECDdAjHADxAg3QMzs7tkz3L2Zy2GbtHuZ\no9b6F7e5uTgHuu71Lu7FfJ7Mue+nvYs9+x+8uAFihBsgRrgBYoQbIEa4AWKEGyBGuAFihBsgRrgB\nYoQbIEa4AWKEGyBGuAFihBsgRrgBYoQbIEa4AWKEGyBGuAFihBsgRrgBYoQbIEa4AWKEGyBGuAFi\nhBsgRrgBYoQbIEa4AWKEGyBGuAFihBsgRrgBYoQbIEa4AWKEGyBGuAFihBsgZnb37Bl+8uHbl/sa\nCOAvfX3/cY5Yx4sbIEa4AWKEGyBGuAFi7u7HSQD+zIsbIEa4AWKEGyBGuAFihBsgRrgBYoQbIEa4\nAWKEGyBGuAFihBsgRrgBYoQbIEa4AWKEGyBGuAFihBsgRrgBYoQbIEa4AWKEGyBGuAFihBsg5jvG\n9DzpuDN0HwAAAABJRU5ErkJggg==\n",
      "text/plain": [
       "<matplotlib.figure.Figure at 0x870f5c0>"
      ]
     },
     "metadata": {},
     "output_type": "display_data"
    },
    {
     "data": {
      "image/png": "iVBORw0KGgoAAAANSUhEUgAAAW4AAAD8CAYAAABXe05zAAAABHNCSVQICAgIfAhkiAAAAAlwSFlz\nAAALEgAACxIB0t1+/AAABEdJREFUeJzt292tklEQQFHG2JEWQBeWYyzHLihAaxoffDIQ48XIx8a1\nGmA4PzsnIczungDoeHf0AAC8jXADxAg3QIxwA8QIN0CMcAPECDdAjHADxAg3QMz7owd4NTNz9VfU\n3Z0jZuGnW3tyOtmXo7kr9/PiBogRboAY4QaIEW6AGOEGiBFugBjhBogRboAY4QaIEW6AGOEGiBFu\ngBjhBogRboAY4QaIEW6AGOEGiBFugBjhBogRboAY4QaIEW6AGOEGiBFugBjhBogRboAY4QaIEW6A\nGOEGiBFugBjhBogRboAY4QaIEW6AGOEGiBFugBjhBogRboAY4QaIEW6AGOEGiBFugBjhBoiZ3T16\nhpcyM1cLurtzxCx18+V6LZ/Rfra/93BX7ufFDRAj3AAxwg0QI9wAMcINECPcADHCDRAj3AAxwg0Q\nI9wAMcINECPcADHCDRAj3AAxwg0QI9wAMcINECPcADHCDRAj3AAxwg0QI9wAMcINECPcADHCDRAj\n3AAxwg0QI9wAMcINECPcADHCDRAj3AAxwg0QI9wAMcINECPcADHCDRAj3AAxwg0QI9wAMcINECPc\nADGzu0fP8FJm5mpBd3eOmOXp3Virl2T/b3JX7ufFDRAj3AAxwg0QI9wAMcINECPcADHCDRAj3AAx\nwg0QI9wAMcINECPcADHCDRAj3AAxwg0QI9wAMcINECPcADHCDRAj3AAxwg0QI9wAMcINECPcADHC\nDRAj3AAxwg0QI9wAMcINECPcADHCDRAj3AAxwg0QI9wAMcINECPcADHCDRAj3AAxwg0QI9wAMcIN\nECPcADHCDRAzu3v0DC9lZq4WdHfniFmONJeLg/UGez7/f2fEXbmbFzdAjHADxAg3QIxwA8QIN0CM\ncAPECDdAjHADxAg3QIxwA8QIN0CMcAPECDdAjHADxAg3QIxwA8QIN0CMcAPECDdAjHADxAg3QIxw\nA8QIN0CMcAPECDdAjHADxAg3QIxwA8QIN0CMcAPECDdAjHADxAg3QIxwA8QIN0CMcAPECDdAjHAD\nxAg3QIxwA8QIN0CMcAPEzO4ePcPTmzk9bJF2T/Ooz/obl7k4OA903nPiXLzFzFydod19ue/5L3hx\nA8QIN0CMcAPECDdAjHADxAg3QIxwA8QIN0CMcAPECDdAjHADxAg3QIxwA8QIN0CMcAPECDdAjHAD\nxAg3QIxwA8QIN0CMcAPECDdAjHADxAg3QIxwA8QIN0CMcAPECDdAjHADxAg3QIxwA8QIN0CMcAPE\nCDdAjHADxAg3QIxwA8QIN0DM7O7RM/zi4/evzzUQwB/69uHTPOJzvLgBYoQbIEa4AWKEGyDm6X6c\nBOD3vLgBYoQbIEa4AWKEGyBGuAFihBsgRrgBYoQbIEa4AWKEGyBGuAFihBsgRrgBYoQbIEa4AWKE\nGyBGuAFihBsgRrgBYoQbIEa4AWKEGyBGuAFifgDmAVTfW+zQwgAAAABJRU5ErkJggg==\n",
      "text/plain": [
       "<matplotlib.figure.Figure at 0x849b748>"
      ]
     },
     "metadata": {},
     "output_type": "display_data"
    },
    {
     "data": {
      "image/png": "iVBORw0KGgoAAAANSUhEUgAAAW4AAAD8CAYAAABXe05zAAAABHNCSVQICAgIfAhkiAAAAAlwSFlz\nAAALEgAACxIB0t1+/AAABEJJREFUeJzt2+2JU1EUQNE5YkdaQLqwHLEcu0gBWtPxt2QQJ5B52W/W\naiCH+7G5EN7s7gsAHZ+OHgCAtxFugBjhBogRboAY4QaIEW6AGOEGiBFugBjhBoj5fPQAZzMzN5+i\n7u4cMcvZzby8y2e/uy/27wHclft5cQPECDdAjHADxAg3QIxwA8QIN0CMcAPECDdAjHADxAg3QIxw\nA8QIN0CMcAPECDdAjHADxAg3QIxwA8QIN0CMcAPECDdAjHADxAg3QIxwA8QIN0CMcAPECDdAjHAD\nxAg3QIxwA8QIN0CMcAPECDdAjHADxAg3QIxwA8QIN0CMcAPECDdAjHADxAg3QIxwA8QIN0CMcAPE\nzO4ePcOpzMzNgu7uHDFL3fy4XctntN/t7z3clft5cQPECDdAjHADxAg3QIxwA8QIN0CMcAPECDdA\njHADxAg3QIxwA8QIN0CMcAPECDdAjHADxAg3QIxwA8QIN0CMcAPECDdAjHADxAg3QIxwA8QIN0CM\ncAPECDdAjHADxAg3QIxwA8QIN0CMcAPECDdAjHADxAg3QIxwA8QIN0CMcAPECDdAjHADxAg3QIxw\nA8QIN0DM7O7RM5zKzNws6O7OEbM8vVfW6pTs/6vclft5cQPECDdAjHADxAg3QIxwA8QIN0CMcAPE\nCDdAjHADxAg3QIxwA8QIN0CMcAPECDdAjHADxAg3QIxwA8QIN0CMcAPECDdAjHADxAg3QIxwA8QI\nN0CMcAPECDdAjHADxAg3QIxwA8QIN0CMcAPECDdAjHADxAg3QIxwA8QIN0CMcAPECDdAjHADxAg3\nQIxwA8QIN0CMcAPEzO4ePcOpzMzNgu7uHDHLkeZ6dbDeYC+Xj3dG3JW7eXEDxAg3QIxwA8QIN0CM\ncAPECDdAjHADxAg3QIxwA8QIN0CMcAPECDdAjHADxAg3QIxwA8QIN0CMcAPECDdAjHADxAg3QIxw\nA8QIN0CMcAPECDdAjHADxAg3QIxwA8QIN0CMcAPECDdAjHADxAg3QIxwA8QIN0CMcAPECDdAjHAD\nxAg3QIxwA8QIN0CMcAPECDdAzOzu0TOcyszcLOjuzhGzPNJ1rg7OO7rs5XRn6KPclUfw4gaIEW6A\nGOEGiBFugBjhBogRboAY4QaIEW6AGOEGiBFugBjhBogRboAY4QaIEW6AGOEGiBFugBjhBogRboAY\n4QaIEW6AGOEGiBFugBjhBogRboAY4QaIEW6AGOEGiBFugBjhBogRboAY4QaIEW6AGOEGiBFugBjh\nBogRboAY4QaIEW6AmNndo2f4y9ffP59rIID/9OvLt3mP3/HiBogRboAY4QaIEW6AmKf7cxKAf/Pi\nBogRboAY4QaIEW6AGOEGiBFugBjhBogRboAY4QaIEW6AGOEGiBFugBjhBogRboAY4QaIEW6AGOEG\niBFugBjhBogRboAY4QaIEW6AGOEGiPkDibdU3zCmsSAAAAAASUVORK5CYII=\n",
      "text/plain": [
       "<matplotlib.figure.Figure at 0x83364a8>"
      ]
     },
     "metadata": {},
     "output_type": "display_data"
    }
   ],
   "source": [
    "print_game_sequence(game)"
   ]
  },
  {
   "cell_type": "markdown",
   "metadata": {},
   "source": [
    "### Side note on memoization\n",
    "\n",
    "The technique of memoization can be used to speed up the computation of some functions (at the cost of some memory, of course). A classical example is that of the Fibonacci function! The $n$-th Fibonacci number is defined as\n",
    "\n",
    "$$F_n = F_{n-1} + F_{n-2}$$\n",
    "\n",
    "with $F_0 = F_1 = 1$. The expression above is trivially translated into code, giving the function `fibonacci` below:"
   ]
  },
  {
   "cell_type": "code",
   "execution_count": 11,
   "metadata": {
    "collapsed": true
   },
   "outputs": [],
   "source": [
    "def fibonacci(n):\n",
    "    if n == 0 or n == 1:\n",
    "        return 1\n",
    "    else:\n",
    "        return fibonacci(n-1) + fibonacci(n-2)"
   ]
  },
  {
   "cell_type": "code",
   "execution_count": 12,
   "metadata": {
    "collapsed": false
   },
   "outputs": [
    {
     "name": "stdout",
     "output_type": "stream",
     "text": [
      "Wall time: 3.4 s\n"
     ]
    },
    {
     "data": {
      "text/plain": [
       "5702887"
      ]
     },
     "execution_count": 12,
     "metadata": {},
     "output_type": "execute_result"
    }
   ],
   "source": [
    "%%time\n",
    "fibonacci(33)"
   ]
  },
  {
   "cell_type": "markdown",
   "metadata": {},
   "source": [
    "Notice that computing $F_{33}$ already takes close to $3$ seconds! But if we reimplement the recursive Fibonacci function with the memoization as below, we get really significant speed-ups!\n",
    "\n",
    "(of course one can implement the Fibonacci function iteratively thus dealing with this problem _without_ resorting to memoization)"
   ]
  },
  {
   "cell_type": "code",
   "execution_count": 13,
   "metadata": {
    "collapsed": false
   },
   "outputs": [
    {
     "name": "stdout",
     "output_type": "stream",
     "text": [
      "Wall time: 0 ns\n"
     ]
    },
    {
     "data": {
      "text/plain": [
       "14913169640232740127827512057302148063648650711209401966150219926546779697987984279570098768737999681"
      ]
     },
     "execution_count": 13,
     "metadata": {},
     "output_type": "execute_result"
    }
   ],
   "source": [
    "try:\n",
    "    del fib # delete the function so that the stored values don't linger around\n",
    "except NameError:\n",
    "    pass\n",
    "\n",
    "def memoization_wrapper(f):\n",
    "    d = dict()\n",
    "    def function(inp):\n",
    "        if inp not in d.keys():\n",
    "            d[inp] = f(inp)\n",
    "        return d[inp]\n",
    "    return function\n",
    "\n",
    "@memoization_wrapper\n",
    "def fib(n):\n",
    "    if n == 0 or n == 1:\n",
    "        return 1\n",
    "    else:\n",
    "        return fib(n-1) + fib(n-2)\n",
    "    \n",
    "%time fib(480)"
   ]
  },
  {
   "cell_type": "markdown",
   "metadata": {},
   "source": [
    "<a id=\"policy_iteration\"></a>\n",
    "### Policy iteration\n",
    "\n",
    "The algorithm of [policy iteration](https://en.wikipedia.org/wiki/Markov_decision_process#Policy_iteration) is very similar to that of value iteration. The basic idea is the same, we will find the value of each state, but instead of updating $V(s)$ with\n",
    "\n",
    "$$V_{n+1}(s) = \\max_a \\{ \\sum_{s' \\in S} P_a(s,s')\\left(R_a(s,s') + \\gamma V_n(s')\\right) \\}$$\n",
    "\n",
    "where we are using a $\\max$, we start by fixing some sub-optimal policy $\\pi$ and we find the value of each state for that policy. This means that the expression will change to\n",
    "\n",
    "$$V_{n+1}(s) = \\sum_{s' \\in S} P_{\\pi(s)}(s, s')\\left(R_{\\pi(s)} + \\gamma V_n(s')\\right) $$\n",
    "\n",
    "which should be executed until it converges. When it does, i.e. when the values $V(s)$ have stabilized, we define a policy $\\pi'$ just like we extracted the optimal policy in value iteration:\n",
    "\n",
    "$$\\pi'(s) = arg\\,max_a \\{ \\sum_{s' \\in S} P_a(s,s')\\left(R_a(s,s') + \\gamma V(s')\\right) \\}$$\n",
    "\n",
    "If this new $\\pi'$ is the same as the $\\pi$ we had, then the algorithm stops because nothing changed. If $\\pi'$ is different from $\\pi$, then we should recalculate the values $V(s)$ as they may be slightly different now. Hence, the algorithm is:\n",
    "- find the best policy $\\pi$ given the values $V$ we have;\n",
    "- recompute the values $V$ until they converge;\n",
    "- check if the new best policy $\\pi'$ is the same as $\\pi$. If it is not, rinse and repeat!\n",
    "\n",
    "To translate this into code we start by defining the auxiliary variables and the function `extract_policy` which we will need during the main loop:"
   ]
  },
  {
   "cell_type": "code",
   "execution_count": 14,
   "metadata": {
    "collapsed": false
   },
   "outputs": [],
   "source": [
    "N = 4\n",
    "\n",
    "gamma = 0.9\n",
    "\n",
    "all_states = define_states(N)\n",
    "\n",
    "def extract_policy(V):\n",
    "    \"\"\"Given the values of all states, build the policy that\n",
    "        maximizes the expected return\"\"\"\n",
    "    pi = dict()\n",
    "    # no need to know how to \"act\" when in the FINAL_STATE\n",
    "    for state in all_states[1:]:\n",
    "        best_action = actions[0]\n",
    "        go_to, reward = transition(state, actions[0])\n",
    "        best_value = reward + gamma*V[dictify(go_to)]\n",
    "        for action in actions[1:]:\n",
    "            go_to, reward = transition(state, action)\n",
    "            t = reward + gamma*V[dictify(go_to)]\n",
    "            if t > best_value:\n",
    "                best_value = t\n",
    "                best_action = action\n",
    "        pi[dictify(state)] = best_action\n",
    "    return pi"
   ]
  },
  {
   "cell_type": "markdown",
   "metadata": {},
   "source": [
    "Then we can define the initial values $V$. Again, as a quick hack, make the value of the terminal state a very big number."
   ]
  },
  {
   "cell_type": "code",
   "execution_count": 15,
   "metadata": {
    "collapsed": false
   },
   "outputs": [
    {
     "name": "stdout",
     "output_type": "stream",
     "text": [
      "Took 10 iterations\n"
     ]
    }
   ],
   "source": [
    "# initialize V\n",
    "V = {dictify(state): 0 for state in all_states[1:]}\n",
    "V[FINAL_STATE] = 99999 # the final state has infinite value\n",
    "# initialize pi\n",
    "pi = extract_policy(V)\n",
    "policy_has_changed = True\n",
    "iters = 0\n",
    "while policy_has_changed:\n",
    "    iters += 1\n",
    "    # update all the values until convergence\n",
    "    max_change = 1  # biggest change found over all states,\n",
    "                    # used as stopping criterion\n",
    "    i = 0\n",
    "    max_iters = pow(10, N)\n",
    "    while max_change > 0.001 and i < max_iters:\n",
    "        max_change = 0\n",
    "        # skip the final state, no need to touch that\n",
    "        for state in all_states[1:]:\n",
    "            action = pi[dictify(state)]\n",
    "            go_to, reward = transition(state, action)\n",
    "            m = reward + gamma*V[dictify(go_to)]\n",
    "            max_change = max(max_change, abs(m - V[dictify(state)]))\n",
    "            V[dictify(state)] = m\n",
    "        i += 1\n",
    "    if i == max_iters:\n",
    "        print(\"NO CONVERGENCE GUARANTEED\")\n",
    "    # supposedly the values converged, now extract the policy\n",
    "    pi_ = extract_policy(V)\n",
    "    policy_has_changed = False\n",
    "    for key in pi_.keys():\n",
    "        if pi_[key] != pi[key]:\n",
    "            policy_has_changed = True\n",
    "            pi[key] = pi_[key]\n",
    "print(\"Took {} iterations\".format(iters))"
   ]
  },
  {
   "cell_type": "markdown",
   "metadata": {},
   "source": [
    "And now that the best policy has been found, use it to solve the Tower of Hanoi!"
   ]
  },
  {
   "cell_type": "code",
   "execution_count": 16,
   "metadata": {
    "collapsed": false
   },
   "outputs": [
    {
     "name": "stdout",
     "output_type": "stream",
     "text": [
      "0: [[4, 3, 2, 1], [], []]\n",
      "1: [[4, 3, 2], [1], []]\n",
      "2: [[4, 3], [1], [2]]\n",
      "3: [[4, 3], [], [2, 1]]\n",
      "4: [[4], [3], [2, 1]]\n",
      "5: [[4, 1], [3], [2]]\n",
      "6: [[4, 1], [3, 2], []]\n",
      "7: [[4], [3, 2, 1], []]\n",
      "8: [[], [3, 2, 1], [4]]\n",
      "9: [[], [3, 2], [4, 1]]\n",
      "10: [[2], [3], [4, 1]]\n",
      "11: [[2, 1], [3], [4]]\n",
      "12: [[2, 1], [], [4, 3]]\n",
      "13: [[2], [1], [4, 3]]\n",
      "14: [[], [1], [4, 3, 2]]\n",
      "15: [[], [], [4, 3, 2, 1]]\n"
     ]
    }
   ],
   "source": [
    "# solve the Tower of Hanoi\n",
    "state = [[i for i in range(N, 0, -1)],[],[]]\n",
    "pi = extract_policy(V)\n",
    "stop_at = pow(2, N+1)\n",
    "iter = 0\n",
    "game = [state]\n",
    "while state != FINAL_STATE and iter < stop_at:\n",
    "    print(\"{}: {}\".format(iter, state))\n",
    "    state, _ = transition(state, pi[dictify(state)])\n",
    "    game.append(state)\n",
    "    iter += 1\n",
    "game = game[:-1] # remove the terminal state that isn't printable by print_game_sequence"
   ]
  },
  {
   "cell_type": "code",
   "execution_count": 17,
   "metadata": {
    "collapsed": false
   },
   "outputs": [
    {
     "data": {
      "image/png": "iVBORw0KGgoAAAANSUhEUgAAAXcAAAD8CAYAAACMwORRAAAABHNCSVQICAgIfAhkiAAAAAlwSFlz\nAAALEgAACxIB0t1+/AAABCRJREFUeJzt28GNE0EQQFEXIiMIYLMgHEQ4ZLEBQEzFhZsRAsvQ9t/3\nEpia7tFXHezZ3QsALe9ODwDA/Yk7QJC4AwSJO0CQuAMEiTtAkLgDBIk7QJC4AwS9Pz1AwczlyN98\ndy9z4rlVM3N1j7vrjA9zL7exuQMEiTtAkLgDBIk7QJC4AwSJO0CQuAMEiTtAkLgDBIk7QJC4AwSJ\nO0CQuAMEiTtAkLgDBIk7QJC4AwSJO0CQuAMEiTtAkLgDBIk7QJC4AwSJO0CQuAMEiTtAkLgDBIk7\nQJC4AwSJO0CQuAMEiTtAkLgDBIk7QJC4AwSJO0CQuAMEiTtAkLgDBIk7QJC4AwSJO0CQuAMEiTtA\nkLgDBIk7QJC4AwSJO0CQuAMEiTtAkLgDBIk7QJC4AwSJO0DQ7O7pGR7WfJnM4eznndMzPLqZ6/ve\ndW6nuZfb2NwBgsQdIEjcAYLEHSBI3AGCxB0gSNwBgsQdIEjcAYLEHSBI3AGCxB0gSNwBgsQdIEjc\nAYLEHSBI3AGCxB0gSNwBgsQdIEjcAYLEHSBI3AGCxB0gSNwBgsQdIEjcAYLEHSBI3AGCxB0gSNwB\ngsQdIEjcAYLEHSBI3AGCxB0gSNwBgsQdIEjcAYLEHSBI3AGCxB0gSNwBgsQdIEjcAYLEHSBI3AGC\nxB0gSNwBgsQdIEjcAYLEHSBI3AGCZndPz/D/zbzBl/5Du3N6hFPmF9/FvuHzeBTu5TY2d4AgcQcI\nEneAIHEHCBJ3gCBxBwgSd4AgcQcIEneAIHEHCBJ3gCBxBwgSd4AgcQcIEneAIHEHCBJ3gCBxBwgS\nd4AgcQcIEneAIHEHCBJ3gCBxBwgSd4AgcQcIEneAIHEHCBJ3gCBxBwgSd4AgcQcIEneAIHEHCBJ3\ngCBxBwgSd4AgcQcIEneAIHEHCBJ3gCBxBwgSd4AgcQcIEneAIHEHCBJ3gCBxBwgSd4AgcQcIEneA\nIHEHCBJ3gKDZ3dMz3MW8vjZe5Ensy8ucnuHeZubqG9rd3Hs+G/dyG5s7QJC4AwSJO0CQuAMEiTtA\nkLgDBIk7QJC4AwSJO0CQuAMEiTtAkLgDBIk7QJC4AwSJO0CQuAMEiTtAkLgDBIk7QJC4AwSJO0CQ\nuAMEiTtAkLgDBIk7QJC4AwSJO0CQuAMEiTtAkLgDBIk7QJC4AwSJO0CQuAMEiTtAkLgDBIk7QJC4\nAwSJO0CQuAMEiTtAkLgDBIk7QJC4AwSJO0CQuAMEiTtAkLgDBM3unp7hr338/vX5hgb46duHT/Ov\nn2FzBwgSd4AgcQcIEneAIHEHCHrKX8sA8Hs2d4AgcQcIEneAIHEHCBJ3gCBxBwgSd4AgcQcIEneA\nIHEHCBJ3gCBxBwgSd4AgcQcIEneAIHEHCBJ3gCBxBwgSd4AgcQcIEneAIHEHCBJ3gKAfdjFF42xl\nOdwAAAAASUVORK5CYII=\n",
      "text/plain": [
       "<matplotlib.figure.Figure at 0x8347cc0>"
      ]
     },
     "metadata": {},
     "output_type": "display_data"
    },
    {
     "data": {
      "image/png": "iVBORw0KGgoAAAANSUhEUgAAAXcAAAD8CAYAAACMwORRAAAABHNCSVQICAgIfAhkiAAAAAlwSFlz\nAAALEgAACxIB0t1+/AAABChJREFUeJzt28FtFEEQQNEtREYQgLMgHEQ4ZOEAIKbyAW5GBlaG3v1+\nL4Gt6R591WF2dvcCQMu70wMA8PrEHSBI3AGCxB0gSNwBgsQdIEjcAYLEHSBI3AGC3p8e4K2amWd/\nDd7dOTELP7iT2+RermNzBwgSd4AgcQcIEneAIHEHCBJ3gCBxBwgSd4AgcQcIEneAIHEHCBJ3gCBx\nBwgSd4AgcQcIEneAIHEHCBJ3gCBxBwgSd4AgcQcIEneAIHEHCBJ3gCBxBwgSd4AgcQcIEneAIHEH\nCBJ3gCBxBwgSd4AgcQcIEneAIHEHCBJ3gCBxBwgSd4AgcQcIEneAIHEHCBJ3gCBxBwgSd4AgcQcI\nEneAIHEHCBJ3gCBxBwgSd4AgcQcIEneAIHEHCBJ3gKDZ3dMz3Kz5MpnD2c87p2e4dTPP73vXuZ3m\nXq5jcwcIEneAIHEHCBJ3gCBxBwgSd4AgcQcIEneAIHEHCBJ3gCBxBwgSd4AgcQcIEneAIHEHCBJ3\ngCBxBwgSd4AgcQcIEneAIHEHCBJ3gCBxBwgSd4AgcQcIEneAIHEHCBJ3gCBxBwgSd4AgcQcIEneA\nIHEHCBJ3gCBxBwgSd4AgcQcIEneAIHEHCBJ3gCBxBwgSd4AgcQcIEneAIHEHCBJ3gCBxBwgSd4Ag\ncQcIEneAIHEHCBJ3gCBxBwia3T09w/838wYf+g/tzukRTplfvBf7hs/jVriX69jcAYLEHSBI3AGC\nxB0gSNwBgsQdIEjcAYLEHSBI3AGCxB0gSNwBgsQdIEjcAYLEHSBI3AGCxB0gSNwBgsQdIEjcAYLE\nHSBI3AGCxB0gSNwBgsQdIEjcAYLEHSBI3AGCxB0gSNwBgsQdIEjcAYLEHSBI3AGCxB0gSNwBgsQd\nIEjcAYLEHSBI3AGCxB0gSNwBgsQdIEjcAYLEHSBI3AGCxB0gSNwBgsQdIEjcAYLEHSBI3AGCxB0g\nSNwBgmZ3T8/wKubxsfEgd2IfHub0DC+ZuRx7H3YvN30292Zmnt3l7jrj37C5AwSJO0CQuAMEiTtA\nkLgDBIk7QJC4AwSJO0CQuAMEiTtAkLgDBIk7QJC4AwSJO0CQuAMEiTtAkLgDBIk7QJC4AwSJO0CQ\nuAMEiTtAkLgDBIk7QJC4AwSJO0CQuAMEiTtAkLgDBIk7QJC4AwSJO0CQuAMEiTtAkLgDBIk7QJC4\nAwSJO0CQuAMEiTtAkLgDBIk7QJC4AwSJO0CQuAMEiTtAkLgDBIk7QNDs7ukZ/trH71/vb2iAn759\n+DT/+jds7gBB4g4QJO4AQeIOECTuAEF3+bUMAC+zuQMEiTtAkLgDBIk7QJC4AwSJO0CQuAMEiTtA\nkLgDBIk7QJC4AwSJO0CQuAMEiTtAkLgDBIk7QJC4AwSJO0CQuAMEiTtAkLgDBIk7QJC4AwQ9AfFI\nReNdz93iAAAAAElFTkSuQmCC\n",
      "text/plain": [
       "<matplotlib.figure.Figure at 0x7fabf98>"
      ]
     },
     "metadata": {},
     "output_type": "display_data"
    },
    {
     "data": {
      "image/png": "iVBORw0KGgoAAAANSUhEUgAAAXcAAAD8CAYAAACMwORRAAAABHNCSVQICAgIfAhkiAAAAAlwSFlz\nAAALEgAACxIB0t1+/AAABAhJREFUeJzt28FNm0EURlG/iI5IAXRBOSjl0AUFJDW9LMKOCCkJaOyb\ncxrwZ4//q1nYs7sXAFq+nB4AwMcTd4AgcQcIEneAIHEHCBJ3gCBxBwgSd4AgcQcIujs94H81M2/+\nGry7c2ILvziT6+Rc/o6bO0CQuAMEiTtAkLgDBIk7QJC4AwSJO0CQuAMEiTtAkLgDBIk7QJC4AwSJ\nO0CQuAMEiTtAkLgDBIk7QJC4AwSJO0CQuAMEiTtAkLgDBIk7QJC4AwSJO0CQuAMEiTtAkLgDBIk7\nQJC4AwSJO0CQuAMEiTtAkLgDBIk7QJC4AwSJO0CQuAMEiTtAkLgDBIk7QJC4AwSJO0CQuAMEiTtA\nkLgDBIk7QJC4AwSJO0CQuAMEiTtAkLgDBIk7QJC4AwSJO0CQuAMEiTtAkLgDBIk7QJC4AwSJO0CQ\nuAMEiTtAkLgDBIk7QJC4AwSJO0CQuAMEiTtAkLgDBIk7QJC4AwSJO0CQuAMEiTtAkLgDBIk7QJC4\nAwSJO0CQuAMEiTtAkLgDBIk7QJC4AwSJO0CQuAMEiTtAkLgDBIk7QJC4AwSJO0CQuAMEiTtAkLgD\nBIk7QJC4AwSJO0CQuAMEiTtAkLgDBIk7QJC4AwSJO0CQuAMEiTtAkLgDBIk7QJC4AwTdnR5wxMye\nnvDbAVew67I7pycA/87NHSBI3AGCxB0gSNwBgsQdIEjcAYLEHSBI3AGCxB0gSNwBgsQdIEjcAYLE\nHSBI3AGCxB0gSNwBgsQdIEjcAYLEHSBI3AGCxB0gSNwBgsQdIEjcAYLEHSBI3AGCxB0gSNwBgsQd\nIEjcAYLEHSBI3AGCxB0gSNwBgsQdIEjcAYLEHSBI3AGCxB0gSNwBgsQdIEjcAYLEHSBI3AGCxB0g\nSNwBgsQdIEjcAYLEHSBI3AGCxB0gSNwBgsQdIGh29/SGDzEvL403ciP24WFOb3jPzOXY92H3ctWf\nzWeYb5N4/vZpM2fn5g4QJO4AQeIOECTuAEHiDhAk7gBB4g4QJO4AQeIOECTuAEHiDhAk7gBB4g4Q\nJO4AQeIOECTuAEHiDhAk7gBB4g4QJO4AQeIOECTuAEHiDhAk7gBB4g4QJO4AQeIOECTuAEHiDhAk\n7gBB4g4QJO4AQeIOECTuAEHiDhAk7gBB4g4QJO4AQeIOECTuAEHiDhAk7gBB4g4QJO4AQeIOECTu\nAEHiDhAk7gBBs7unN/yxrz+eb280wKvv94/z2a/h5g4QJO4AQeIOECTuAEHiDhB0k7+WAeB9bu4A\nQeIOECTuAEHiDhAk7gBB4g4QJO4AQeIOECTuAEHiDhAk7gBB4g4QJO4AQeIOECTuAEHiDhAk7gBB\n4g4QJO4AQeIOECTuAEHiDhAk7gBBPwHwsy3tca3z9gAAAABJRU5ErkJggg==\n",
      "text/plain": [
       "<matplotlib.figure.Figure at 0x83e2b00>"
      ]
     },
     "metadata": {},
     "output_type": "display_data"
    },
    {
     "data": {
      "image/png": "iVBORw0KGgoAAAANSUhEUgAAAXcAAAD8CAYAAACMwORRAAAABHNCSVQICAgIfAhkiAAAAAlwSFlz\nAAALEgAACxIB0t1+/AAABBZJREFUeJzt28FtU1EURVFflI6ggHRBOYhy6CIFQE03A5g5ihTk6MU7\na81tn+//tfUG9uzuBYCWL6cHAHB74g4QJO4AQeIOECTuAEHiDhAk7gBB4g4QJO4AQQ+nB3xWM3P1\n1+DdnRNb+Ms9+Zjcl//j5A4QJO4AQeIOECTuAEHiDhAk7gBB4g4QJO4AQeIOECTuAEHiDhAk7gBB\n4g4QJO4AQeIOECTuAEHiDhAk7gBB4g4QJO4AQeIOECTuAEHiDhAk7gBB4g4QJO4AQeIOECTuAEHi\nDhAk7gBB4g4QJO4AQeIOECTuAEHiDhAk7gBB4g4QJO4AQeIOECTuAEHiDhAk7gBB4g4QJO4AQeIO\nECTuAEHiDhAk7gBB4g4QJO4AQeIOECTuAEHiDhAk7gBB4g4QJO4AQeIOECTuAEHiDhAk7gBB4g4Q\nJO4AQeIOECTuAEHiDhAk7gBB4g4QJO4AQeIOECTuAEHiDhAk7gBB4g4QJO4AQeIOECTuAEHiDhAk\n7gBB4g4QJO4AQeIOECTuAEHiDhAk7gBB4g4QJO4AQeIOECTuAEHiDhAk7gBB4g4QJO4AQeIOECTu\nAEHiDhAk7gBB4g4QJO4AQeIOECTuAEHiDhAk7gBB4g4QJO4AQeIOECTuAEHiDhAk7gBBD6cHHDGz\npye8OOAD7LrszukJdM28/Oi/7volb32f3cune66d3AGCxB0gSNwBgsQdIEjcAYLEHSBI3AGCxB0g\nSNwBgsQdIEjcAYLEHSBI3AGCxB0gSNwBgsQdIEjcAYLEHSBI3AGCxB0gSNwBgsQdIEjcAYLEHSBI\n3AGCxB0gSNwBgsQdIEjcAYLEHSBI3AGCxB0gSNwBgsQdIEjcAYLEHSBI3AGCxB0gSNwBgsQdIEjc\nAYLEHSBI3AGCxB0gSNwBgsQdIEjcAYLEHSBI3AGCxB0gSNwBgsQdIEjcAYJmd09vuIl5empcyJ3Y\nx8c5veHWZubqGdrd3HW+h/l5/d3do/3Rud9O7gBB4g4QJO4AQeIOECTuAEHiDhAk7gBB4g4QJO4A\nQeIOECTuAEHiDhAk7gBB4g4QJO4AQeIOECTuAEHiDhAk7gBB4g4QJO4AQeIOECTuAEHiDhAk7gBB\n4g4QJO4AQeIOECTuAEHiDhAk7gBB4g4QJO4AQeIOECTuAEHiDhAk7gBB4g4QJO4AQeIOECTuAEHi\nDhAk7gBB4g4QJO4AQeIOECTuAEHiDhA0u3t6w5t9+/Pr/kYD/PP76/d5789wcgcIEneAIHEHCBJ3\ngCBxBwi6y1/LAPA6J3eAIHEHCBJ3gCBxBwgSd4AgcQcIEneAIHEHCBJ3gCBxBwgSd4AgcQcIEneA\nIHEHCBJ3gCBxBwgSd4AgcQcIEneAIHEHCBJ3gCBxBwgSd4CgZ53mM+2nOwEiAAAAAElFTkSuQmCC\n",
      "text/plain": [
       "<matplotlib.figure.Figure at 0x824fba8>"
      ]
     },
     "metadata": {},
     "output_type": "display_data"
    },
    {
     "data": {
      "image/png": "iVBORw0KGgoAAAANSUhEUgAAAXcAAAD8CAYAAACMwORRAAAABHNCSVQICAgIfAhkiAAAAAlwSFlz\nAAALEgAACxIB0t1+/AAABAZJREFUeJzt28FNw0AQQNEsSkdQAF1QDqIcukgBUNNwgFsEIsjI5PPe\n3fbEK33NwVkzcwCg5WbvAQDYnrgDBIk7QJC4AwSJO0CQuAMEiTtAkLgDBIk7QNBx7wH+q7XW2V+D\nZ2btMQvvnMnf5Fx+xuYOECTuAEHiDhAk7gBB4g4QJO4AQeIOECTuAEHiDhAk7gBB4g4QJO4AQeIO\nECTuAEHiDhAk7gBB4g4QJO4AQeIOECTuAEHiDhAk7gBB4g4QJO4AQeIOECTuAEHiDhAk7gBB4g4Q\nJO4AQeIOECTuAEHiDhAk7gBB4g4QJO4AQeIOECTuAEHiDhAk7gBB4g4QJO4AQeIOECTuAEHiDhAk\n7gBB4g4QJO4AQeIOECTuAEHiDhAk7gBB4g4QJO4AQeIOECTuAEHiDhAk7gBB4g4QJO4AQeIOECTu\nAEHiDhAk7gBB4g4QJO4AQeIOECTuAEHiDhAk7gBB4g4QJO4AQeIOECTuAEHiDhAk7gBB4g4QJO4A\nQeIOECTuAEHiDhAk7gBB4g4QJO4AQeIOECTuAEHiDhAk7gBB4g4QJO4AQeIOECTuAEHiDhAk7gBB\n4g4QJO4AQeIOECTuAEHiDhAk7gBB4g4QJO4AQeIOECTuAEHiDhAk7gBB4g4QJO4AQce9BwD+j7UO\nc/lV55dcep+Zw7r8udfN5g4QJO4AQeIOECTuAEHiDhAk7gBB4g4QJO4AQeIOECTuAEHiDhAk7gBB\n4g4QJO4AQeIOECTuAEHiDhAk7gBB4g4QJO4AQeIOECTuAEHiDhAk7gBB4g4QJO4AQeIOECTuAEHi\nDhAk7gBB4g4QJO4AQeIOECTuAEHiDhAk7gBB4g4QJO4AQeIOECTuAEHiDhAk7gBB4g4QJO4AQeIO\nECTuAEHiDhAk7gBB4g4QJO4AQeIOECTuAEHiDhC0ZmbvGTaxTqfGD7kSc3+/Nr3hWs7vMzPbvutf\nsJ4a5zePf/9df5fNHSBI3AGCxB0gSNwBgsQdIEjcAYLEHSBI3AGCxB0gSNwBgsQdIEjcAYLEHSBI\n3AGCxB0gSNwBgsQdIEjcAYLEHSBI3AGCxB0gSNwBgsQdIEjcAYLEHSBI3AGCxB0gSNwBgsQdIEjc\nAYLEHSBI3AGCxB0gSNwBgsQdIEjcAYLEHSBI3AGCxB0gSNwBgsQdIEjcAYLEHSBI3AGCxB0gSNwB\ngsQdIEjcAYLWzOw9w8XuXp+vb2iADy+3D+u3n2FzBwgSd4AgcQcIEneAIHEHCLrKr2UA+JrNHSBI\n3AGCxB0gSNwBgsQdIEjcAYLEHSBI3AGCxB0gSNwBgsQdIEjcAYLEHSBI3AGCxB0gSNwBgsQdIEjc\nAYLEHSBI3AGCxB0gSNwBgsQdIOgNGdIt7eNIuvcAAAAASUVORK5CYII=\n",
      "text/plain": [
       "<matplotlib.figure.Figure at 0x85faa58>"
      ]
     },
     "metadata": {},
     "output_type": "display_data"
    },
    {
     "data": {
      "image/png": "iVBORw0KGgoAAAANSUhEUgAAAXcAAAD8CAYAAACMwORRAAAABHNCSVQICAgIfAhkiAAAAAlwSFlz\nAAALEgAACxIB0t1+/AAABAVJREFUeJzt28FNw0AQQNEsSkdQAF1QDqIcukgBUNNwgFsEIsjI5PPe\n3fbEK33NwVkzcwCg5WbvAQDYnrgDBIk7QJC4AwSJO0CQuAMEiTtAkLgDBIk7QNBx7wH+q7XW2V+D\nZ2btMQvvnMnf5Fx+xuYOECTuAEHiDhAk7gBB4g4QJO4AQeIOECTuAEHiDhAk7gBB4g4QJO4AQeIO\nECTuAEHiDhAk7gBB4g4QJO4AQeIOECTuAEHiDhAk7gBB4g4QJO4AQeIOECTuAEHiDhAk7gBB4g4Q\nJO4AQeIOECTuAEHiDhAk7gBB4g4QJO4AQeIOECTuAEHiDhAk7gBB4g4QJO4AQeIOECTuAEHiDhAk\n7gBB4g4QJO4AQeIOECTuAEHiDhAk7gBB4g4QJO4AQeIOECTuAEHiDhAk7gBB4g4QJO4AQeIOECTu\nAEHiDhAk7gBB4g4QJO4AQeIOECTuAEHiDhAk7gBB4g4QJO4AQeIOECTuAEHiDhAk7gBB4g4QJO4A\nQeIOECTuAEHiDhAk7gBB4g4QJO4AQeIOECTuAEHiDhAk7gBB4g4QJO4AQeIOECTuAEHiDhAk7gBB\n4g4QJO4AQeIOECTuAEHiDhAk7gBB4g4QJO4AQeIOECTuAEHiDhAk7gBB4g4QJO4AQce9ByhY6zCX\nX3V+yaX3mTmsy58L/Ac2d4AgcQcIEneAIHEHCBJ3gCBxBwgSd4AgcQcIEneAIHEHCBJ3gCBxBwgS\nd4AgcQcIEneAIHEHCBJ3gCBxBwgSd4AgcQcIEneAIHEHCBJ3gCBxBwgSd4AgcQcIEneAIHEHCBJ3\ngCBxBwgSd4AgcQcIEneAIHEHCBJ3gCBxBwgSd4AgcQcIEneAIHEHCBJ3gCBxBwgSd4AgcQcIEneA\nIHEHCBJ3gCBxBwgSd4AgcQcIEneAIHEHCBJ3gKA1M3vPsIl1OjV+yJWY+/u16Q3Xcn6fmdn2Xf+C\n9dQ4v3n8++/6u2zuAEHiDhAk7gBB4g4QJO4AQeIOECTuAEHiDhAk7gBB4g4QJO4AQeIOECTuAEHi\nDhAk7gBB4g4QJO4AQeIOECTuAEHiDhAk7gBB4g4QJO4AQeIOECTuAEHiDhAk7gBB4g4QJO4AQeIO\nECTuAEHiDhAk7gBB4g4QJO4AQeIOECTuAEHiDhAk7gBB4g4QJO4AQeIOECTuAEHiDhAk7gBB4g4Q\nJO4AQeIOELRmZu8ZLnb3+nx9QwN8eLl9WL/9DJs7QJC4AwSJO0CQuAMEiTtA0FV+LQPA12zuAEHi\nDhAk7gBB4g4QJO4AQeIOECTuAEHiDhAk7gBB4g4QJO4AQeIOECTuAEHiDhAk7gBB4g4QJO4AQeIO\nECTuAEHiDhAk7gBB4g4QJO4AQW/2sy3tfYZEXwAAAABJRU5ErkJggg==\n",
      "text/plain": [
       "<matplotlib.figure.Figure at 0x83ded30>"
      ]
     },
     "metadata": {},
     "output_type": "display_data"
    },
    {
     "data": {
      "image/png": "iVBORw0KGgoAAAANSUhEUgAAAXcAAAD8CAYAAACMwORRAAAABHNCSVQICAgIfAhkiAAAAAlwSFlz\nAAALEgAACxIB0t1+/AAABBRJREFUeJzt28txE1EQQFE15YwgAGdBOBThkIUDgJjaC9jZ+Feihrk6\nJwBN672pW72QZncvALR8OnoAAK5P3AGCxB0gSNwBgsQdIEjcAYLEHSBI3AGCxB0g6O7oAW7VzDz5\na/DuzhGz8Js7+T+5l4+xuQMEiTtAkLgDBIk7QJC4AwSJO0CQuAMEiTtAkLgDBIk7QJC4AwSJO0CQ\nuAMEiTtAkLgDBIk7QJC4AwSJO0CQuAMEiTtAkLgDBIk7QJC4AwSJO0CQuAMEiTtAkLgDBIk7QJC4\nAwSJO0CQuAMEiTtAkLgDBIk7QJC4AwSJO0CQuAMEiTtAkLgDBIk7QJC4AwSJO0CQuAMEiTtAkLgD\nBIk7QJC4AwSJO0CQuAMEiTtAkLgDBIk7QJC4AwSJO0CQuAMEiTtAkLgDBIk7QJC4AwSJO0CQuAME\niTtAkLgDBIk7QJC4AwSJO0CQuAMEiTtAkLgDBIk7QJC4AwSJO0CQuAMEiTtAkLgDBIk7QJC4AwSJ\nO0CQuAMEiTtAkLgDBIk7QJC4AwSJO0CQuAMEiTtAkLgDBIk7QJC4AwSJO0CQuAMEiTtAkLgDBIk7\nQJC4AwSJO0CQuAMEiTtAkLgDBIk7QJC4AwSJO0CQuAMEiTtAkLgDBIk7QJC4AwSJO0DQ7O7RM5ze\nzOWQQ9y9zBHPPdJ8n8wLu9/25u7vI2ae3vmus3uNzR0gSNwBgsQdIEjcAYLEHSBI3AGCxB0gSNwB\ngsQdIEjcAYLEHSBI3AGCxB0gSNwBgsQdIEjcAYLEHSBI3AGCxB0gSNwBgsQdIEjcAYLEHSBI3AGC\nxB0gSNwBgsQdIEjcAYLEHSBI3AGCxB0gSNwBgsQdIEjcAYLEHSBI3AGCxB0gSNwBgsQdIEjcAYLE\nHSBI3AGCxB0gSNwBgsQdIEjcAYLEHSBI3AGCxB0gSNwBgsQdIEjcAYLEHSBodvfoGa5iHh4aX+Qk\n9v5+rvqBM+7vb3ave9YnM8+8G3vjZ/IWNneAIHEHCBJ3gCBxBwgSd4AgcQcIEneAIHEHCBJ3gCBx\nBwgSd4AgcQcIEneAIHEHCBJ3gCBxBwgSd4AgcQcIEneAIHEHCBJ3gCBxBwgSd4AgcQcIEneAIHEH\nCBJ3gCBxBwgSd4AgcQcIEneAIHEHCBJ3gCBxBwgSd4AgcQcIEneAIHEHCBJ3gCBxBwgSd4AgcQcI\nEneAIHEHCBJ3gCBxBwgSd4AgcQcImt09eoZ3+/Lrx/mGBvjj5+ev86+fYXMHCBJ3gCBxBwgSd4Ag\ncQcIOuWvZQB4mc0dIEjcAYLEHSBI3AGCxB0gSNwBgsQdIEjcAYLEHSBI3AGCxB0gSNwBgsQdIEjc\nAYLEHSBI3AGCxB0gSNwBgsQdIEjcAYLEHSBI3AGCxB0g6BFQ3Tbn3BCpUQAAAABJRU5ErkJggg==\n",
      "text/plain": [
       "<matplotlib.figure.Figure at 0x9921f60>"
      ]
     },
     "metadata": {},
     "output_type": "display_data"
    },
    {
     "data": {
      "image/png": "iVBORw0KGgoAAAANSUhEUgAAAXcAAAD8CAYAAACMwORRAAAABHNCSVQICAgIfAhkiAAAAAlwSFlz\nAAALEgAACxIB0t1+/AAABCJJREFUeJzt28FxE0EQQFE35YwgAGdBOBThkIUDgJiaA9wElKWSa9mv\n9+6725pZ/ZqDNLv7BEDLh6MHAOD+xB0gSNwBgsQdIEjcAYLEHSBI3AGCxB0gSNwBgp6PHuBRzczF\nX4N3d46YhV/syf/JvtzGyR0gSNwBgsQdIEjcAYLEHSBI3AGCxB0gSNwBgsQdIEjcAYLEHSBI3AGC\nxB0gSNwBgsQdIEjcAYLEHSBI3AGCxB0gSNwBgsQdIEjcAYLEHSBI3AGCxB0gSNwBgsQdIEjcAYLE\nHSBI3AGCxB0gSNwBgsQdIEjcAYLEHSBI3AGCxB0gSNwBgsQdIEjcAYLEHSBI3AGCxB0gSNwBgsQd\nIEjcAYLEHSBI3AGCxB0gSNwBgsQdIEjcAYLEHSBI3AGCno8eAN7DzNNef9XlJbfcZ/dprn823JeT\nO0CQuAMEiTtAkLgDBIk7QJC4AwSJO0CQuAMEiTtAkLgDBIk7QJC4AwSJO0CQuAMEiTtAkLgDBIk7\nQJC4AwSJO0CQuAMEiTtAkLgDBIk7QJC4AwSJO0CQuAMEiTtAkLgDBIk7QJC4AwSJO0CQuAMEiTtA\nkLgDBIk7QJC4AwSJO0CQuAMEiTtAkLgDBIk7QJC4AwSJO0CQuAMEiTtAkLgDBIk7QJC4AwSJO0CQ\nuAMEiTtAkLgDBIk7QNDs7tEzPKSZuVj43Z0jZjmT+Xq5bme1X+z3W/iu3MbJHSBI3AGCxB0gSNwB\ngsQdIEjcAYLEHSBI3AGCxB0gSNwBgsQdIEjcAYLEHSBI3AGCxB0gSNwBgsQdIEjcAYLEHSBI3AGC\nxB0gSNwBgsQdIEjcAYLEHSBI3AGCxB0gSNwBgsQdIEjcAYLEHSBI3AGCxB0gSNwBgsQdIEjcAYLE\nHSBI3AGCxB0gSNwBgsQdIEjcAYLEHSBI3AGCxB0gSNwBgsQdIEjcAYLEHSBI3AGCxB0gSNwBgsQd\nIGh29+gZ7mJeXxsf5CT25WXuesMZ+/c3u/dd65OZP7wb++Br8hZO7gBB4g4QJO4AQeIOECTuAEHi\nDhAk7gBB4g4QJO4AQeIOECTuAEHiDhAk7gBB4g4QJO4AQeIOECTuAEHiDhAk7gBB4g4QJO4AQeIO\nECTuAEHiDhAk7gBB4g4QJO4AQeIOECTuAEHiDhAk7gBB4g4QJO4AQeIOECTuAEHiDhAk7gBB4g4Q\nJO4AQeIOECTuAEHiDhAk7gBB4g4QJO4AQeIOECTuAEHiDhA0u3v0DFf79OPb+YYG+O37x8/z3s9w\ncgcIEneAIHEHCBJ3gCBxBwg65a9lAPg3J3eAIHEHCBJ3gCBxBwgSd4AgcQcIEneAIHEHCBJ3gCBx\nBwgSd4AgcQcIEneAIHEHCBJ3gCBxBwgSd4AgcQcIEneAIHEHCBJ3gCBxBwgSd4Cgny9YPOk3Dquz\nAAAAAElFTkSuQmCC\n",
      "text/plain": [
       "<matplotlib.figure.Figure at 0x84d6080>"
      ]
     },
     "metadata": {},
     "output_type": "display_data"
    },
    {
     "data": {
      "image/png": "iVBORw0KGgoAAAANSUhEUgAAAXcAAAD8CAYAAACMwORRAAAABHNCSVQICAgIfAhkiAAAAAlwSFlz\nAAALEgAACxIB0t1+/AAABCFJREFUeJzt28FtE2EQgFEPSkdQQLqgHEQ5dJECoKbJgdyMELYcNv78\n3n29o3+9n+Zgz+6eAGj5dPQAANyeuAMEiTtAkLgDBIk7QJC4AwSJO0CQuAMEiTtA0NPRAzyqmTn7\na/DuzhGz8Jtn8jF5LtexuQMEiTtAkLgDBIk7QJC4AwSJO0CQuAMEiTtAkLgDBIk7QJC4AwSJO0CQ\nuAMEiTtAkLgDBIk7QJC4AwSJO0CQuAMEiTtAkLgDBIk7QJC4AwSJO0CQuAMEiTtAkLgDBIk7QJC4\nAwSJO0CQuAMEiTtAkLgDBIk7QJC4AwSJO0CQuAMEiTtAkLgDBIk7QJC4AwSJO0CQuAMEiTtAkLgD\nBIk7QJC4AwSJO0CQuAMEiTtAkLgDBIk7QJC4AwSJO0DQ09EDwHuYOe3lV51fcs3n7J7m8nvDbdnc\nAYLEHSBI3AGCxB0gSNwBgsQdIEjcAYLEHSBI3AGCxB0gSNwBgsQdIEjcAYLEHSBI3AGCxB0gSNwB\ngsQdIEjcAYLEHSBI3AGCxB0gSNwBgsQdIEjcAYLEHSBI3AGCxB0gSNwBgsQdIEjcAYLEHSBI3AGC\nxB0gSNwBgsQdIEjcAYLEHSBI3AGCxB0gSNwBgsQdIEjcAYLEHSBI3AGCxB0gSNwBgsQdIEjcAYLE\nHSBI3AGCxB0gSNwBgmZ3j57hIc3M2cHv7hwxyz2Z7+fndq/2m+f9L7wr17G5AwSJO0CQuAMEiTtA\nkLgDBIk7QJC4AwSJO0CQuAMEiTtAkLgDBIk7QJC4AwSJO0CQuAMEiTtAkLgDBIk7QJC4AwSJO0CQ\nuAMEiTtAkLgDBIk7QJC4AwSJO0CQuAMEiTtAkLgDBIk7QJC4AwSJO0CQuAMEiTtAkLgDBIk7QJC4\nAwSJO0CQuAMEiTtAkLgDBIk7QJC4AwSJO0CQuAMEiTtAkLgDBIk7QJC4AwSJO0CQuAMEiTtAkLgD\nBM3uHj3DQ5qZs4Pf3Tlilg/hD+fBmxt/L+blxVn/R/v8fMh7bXMHCBJ3gCBxBwgSd4AgcQcIEneA\nIHEHCBJ3gCBxBwgSd4AgcQcIEneAIHEHCBJ3gCBxBwgSd4AgcQcIEneAIHEHCBJ3gCBxBwgSd4Ag\ncQcIEneAIHEHCBJ3gCBxBwgSd4AgcQcIEneAIHEHCBJ3gCBxBwgSd4AgcQcIEneAIHEHCBJ3gCBx\nBwgSd4AgcQcIEneAIHEHCBJ3gCBxBwgSd4AgcQcIEneAoNndo2e42JdfP+5vaIA3Pz9/nfe+h80d\nIEjcAYLEHSBI3AGCxB0g6C5/LQPA39ncAYLEHSBI3AGCxB0gSNwBgsQdIEjcAYLEHSBI3AGCxB0g\nSNwBgsQdIEjcAYLEHSBI3AGCxB0gSNwBgsQdIEjcAYLEHSBI3AGCxB0gSNwBgl4BL1g86V0d9FoA\nAAAASUVORK5CYII=\n",
      "text/plain": [
       "<matplotlib.figure.Figure at 0x83a4a58>"
      ]
     },
     "metadata": {},
     "output_type": "display_data"
    },
    {
     "data": {
      "image/png": "iVBORw0KGgoAAAANSUhEUgAAAXcAAAD8CAYAAACMwORRAAAABHNCSVQICAgIfAhkiAAAAAlwSFlz\nAAALEgAACxIB0t1+/AAABBFJREFUeJzt28FtFEEQQNEtREYQgLMgHEQ4ZOEAIKbigG+LkECG9v55\nL4EtVc989WF2dvcGQMu70wMA8PrEHSBI3AGCxB0gSNwBgsQdIEjcAYLEHSBI3AGC3p8e4Kpm5u6v\nwbs7J2bhJ2fyNjmXv+PmDhAk7gBB4g4QJO4AQeIOECTuAEHiDhAk7gBB4g4QJO4AQeIOECTuAEHi\nDhAk7gBB4g4QJO4AQeIOECTuAEHiDhAk7gBB4g4QJO4AQeIOECTuAEHiDhAk7gBB4g4QJO4AQeIO\nECTuAEHiDhAk7gBB4g4QJO4AQeIOECTuAEHiDhAk7gBB4g4QJO4AQeIOECTuAEHiDhAk7gBB4g4Q\nJO4AQeIOECTuAEHiDhAk7gBB4g4QJO4AQeIOECTuAEHiDhAk7gBB4g4QJO4AQeIOECTuAEHiDhAk\n7gBB4g4QJO4AQeIOECTuAEHiDhAk7gBB4g4QJO4AQeIOECTuAEHiDhAk7gBB4g4QJO4AQeIOECTu\nAEHiDhAk7gBB4g4QJO4AQeIOECTuAEHiDhAk7gBB4g4QJO4AQeIOECTuAEHiDhAk7gBB4g4QJO4A\nQeIOECTuAEHiDhAk7gBB4g4QJO4AQeIOECTuAEHiDhAk7gBB4g4QJO4AQeIOECTuAEGzu6dnuKSZ\nuVv87s6JWR7JfLnf26Paz9c775nbkfPbvV1u127uAEHiDhAk7gBB4g4QJO4AQeIOECTuAEHiDhAk\n7gBB4g4QJO4AQeIOECTuAEHiDhAk7gBB4g4QJO4AQeIOECTuAEHiDhAk7gBB4g4QJO4AQeIOECTu\nAEHiDhAk7gBB4g4QJO4AQeIOECTuAEHiDhAk7gBB4g4QJO4AQeIOECTuAEHiDhAk7gBB4g4QJO4A\nQeIOECTuAEHiDhAk7gBB4g4QJO4AQeIOECTuAEHiDhAk7gBB4g4QJO4AQbO7p2e4pJm5W/zuzolZ\n3oRf7IMXr/xczPOzXf9H+/R05L12cwcIEneAIHEHCBJ3gCBxBwgSd4AgcQcIEneAIHEHCBJ3gCBx\nBwgSd4AgcQcIEneAIHEHCBJ3gCBxBwgSd4AgcQcIEneAIHEHCBJ3gCBxBwgSd4AgcQcIEneAIHEH\nCBJ3gCBxBwgSd4AgcQcIEneAIHEHCBJ3gCBxBwgSd4AgcQcIEneAIHEHCBJ3gCBxBwgSd4AgcQcI\nEneAIHEHCBJ3gCBxBwgSd4Cg2d3TM/yxj9+/Pt7QAC++ffg0//o33NwBgsQdIEjcAYLEHSBI3AGC\nHvJrGQB+z80dIEjcAYLEHSBI3AGCxB0gSNwBgsQdIEjcAYLEHSBI3AGCxB0gSNwBgsQdIEjcAYLE\nHSBI3AGCxB0gSNwBgsQdIEjcAYLEHSBI3AGCxB0g6Ad9CjbnzJGn7QAAAABJRU5ErkJggg==\n",
      "text/plain": [
       "<matplotlib.figure.Figure at 0x8378a20>"
      ]
     },
     "metadata": {},
     "output_type": "display_data"
    },
    {
     "data": {
      "image/png": "iVBORw0KGgoAAAANSUhEUgAAAXcAAAD8CAYAAACMwORRAAAABHNCSVQICAgIfAhkiAAAAAlwSFlz\nAAALEgAACxIB0t1+/AAABARJREFUeJzt28FNQlEQQFGeoSMtgC4sx1iOXVCA1jQudEdCgkE/XM/Z\nf/7kvXAzC1gzswOg5WHrAQC4PnEHCBJ3gCBxBwgSd4AgcQcIEneAIHEHCBJ3gKD91gP8V2utk78G\nz8zaYha+uJPb5F5+xuYOECTuAEHiDhAk7gBB4g4QJO4AQeIOECTuAEHiDhAk7gBB4g4QJO4AQeIO\nECTuAEHiDhAk7gBB4g4QJO4AQeIOECTuAEHiDhAk7gBB4g4QJO4AQeIOECTuAEHiDhAk7gBB4g4Q\nJO4AQeIOECTuAEHiDhAk7gBB4g4QJO4AQeIOECTuAEHiDhAk7gBB4g4QJO4AQeIOECTuAEHiDhAk\n7gBB4g4QJO4AQeIOECTuAEHiDhAk7gBB4g4QJO4AQeIOECTuAEHiDhAk7gBB4g4QJO4AQeIOECTu\nAEHiDhAk7gBB4g4QJO4AQeIOECTuAEHiDhAk7gBB4g4QJO4AQeIOECTuAEHiDhAk7gBB4g4QJO4A\nQeIOECTuAEHiDhAk7gBB4g4QJO4AQeIOECTuAEHiDhAk7gBB4g4QJO4AQeIOECTuAEHiDhAk7gBB\n4g4QJO4AQeIOECTuAEHiDhAk7gBB4g4QJO4AQeIOECTuAEHiDhAk7gBB4g4QJO4AQfutBwD+j7V2\nc/lTp49c+jkzu3X5e++bzR0gSNwBgsQdIEjcAYLEHSBI3AGCxB0gSNwBgsQdIEjcAYLEHSBI3AGC\nxB0gSNwBgsQdIEjcAYLEHSBI3AGCxB0gSNwBgsQdIEjcAYLEHSBI3AGCxB0gSNwBgsQdIEjcAYLE\nHSBI3AGCxB0gSNwBgsQdIEjcAYLEHSBI3AGCxB0gSNwBgsQdIEjcAYLEHSBI3AGCxB0gSNwBgsQd\nIEjcAYLEHSBI3AGCxB0gSNwBgsQdIEjcAYLEHSBozczWM9ys9boyhzMvs7ae4azVOeurm+ve3Toe\nnfUfmsNhk++ezR0gSNwBgsQdIEjcAYLEHSBI3AGCxB0gSNwBgsQdIEjcAYLEHSBI3AGCxB0gSNwB\ngsQdIEjcAYLEHSBI3AGCxB0gSNwBgsQdIEjcAYLEHSBI3AGCxB0gSNwBgsQdIEjcAYLEHSBI3AGC\nxB0gSNwBgsQdIEjcAYLEHSBI3AGCxB0gSNwBgsQdIEjcAYLEHSBI3AGCxB0gSNwBgsQdIEjcAYLE\nHSBI3AGC1sxsPcPFnj7e7m9ogG/vj8/rt99hcwcIEneAIHEHCBJ3gCBxBwi6y1/LAHCezR0gSNwB\ngsQdIEjcAYLEHSBI3AGCxB0gSNwBgsQdIEjcAYLEHSBI3AGCxB0gSNwBgsQdIEjcAYLEHSBI3AGC\nxB0gSNwBgsQdIEjcAYLEHSDoEw/aLe0u6HcYAAAAAElFTkSuQmCC\n",
      "text/plain": [
       "<matplotlib.figure.Figure at 0x857e860>"
      ]
     },
     "metadata": {},
     "output_type": "display_data"
    },
    {
     "data": {
      "image/png": "iVBORw0KGgoAAAANSUhEUgAAAXcAAAD8CAYAAACMwORRAAAABHNCSVQICAgIfAhkiAAAAAlwSFlz\nAAALEgAACxIB0t1+/AAABANJREFUeJzt28FNQlEQQFGeoSMtgC4sx1iOXVCA1jQudEdCgkE/XM/Z\nf/7kvXAzC1gzswOg5WHrAQC4PnEHCBJ3gCBxBwgSd4AgcQcIEneAIHEHCBJ3gKD91gP8V2utk78G\nz8zaYha+uJPb5F5+xuYOECTuAEHiDhAk7gBB4g4QJO4AQeIOECTuAEHiDhAk7gBB4g4QJO4AQeIO\nECTuAEHiDhAk7gBB4g4QJO4AQeIOECTuAEHiDhAk7gBB4g4QJO4AQeIOECTuAEHiDhAk7gBB4g4Q\nJO4AQeIOECTuAEHiDhAk7gBB4g4QJO4AQeIOECTuAEHiDhAk7gBB4g4QJO4AQeIOECTuAEHiDhAk\n7gBB4g4QJO4AQeIOECTuAEHiDhAk7gBB4g4QJO4AQeIOECTuAEHiDhAk7gBB4g4QJO4AQeIOECTu\nAEHiDhAk7gBB4g4QJO4AQeIOECTuAEHiDhAk7gBB4g4QJO4AQeIOECTuAEHiDhAk7gBB4g4QJO4A\nQeIOECTuAEHiDhAk7gBB4g4QJO4AQeIOECTuAEHiDhAk7gBB4g4QJO4AQeIOECTuAEHiDhAk7gBB\n4g4QJO4AQeIOECTuAEHiDhAk7gBB4g4QJO4AQeIOECTuAEHiDhAk7gBB4g4QJO4AQfutByhYazeX\nP3X6yKWfM7Nbl78X+A9s7gBB4g4QJO4AQeIOECTuAEHiDhAk7gBB4g4QJO4AQeIOECTuAEHiDhAk\n7gBB4g4QJO4AQeIOECTuAEHiDhAk7gBB4g4QJO4AQeIOECTuAEHiDhAk7gBB4g4QJO4AQeIOECTu\nAEHiDhAk7gBB4g4QJO4AQeIOECTuAEHiDhAk7gBB4g4QJO4AQeIOECTuAEHiDhAk7gBB4g4QJO4A\nQeIOECTuAEHiDhAk7gBB4g4QJO4AQeIOECTuAEFrZrae4Wat15U5nHmZtfUMZ63OWV/dXPfu1vHo\nrP/QHA6bfPds7gBB4g4QJO4AQeIOECTuAEHiDhAk7gBB4g4QJO4AQeIOECTuAEHiDhAk7gBB4g4Q\nJO4AQeIOECTuAEHiDhAk7gBB4g4QJO4AQeIOECTuAEHiDhAk7gBB4g4QJO4AQeIOECTuAEHiDhAk\n7gBB4g4QJO4AQeIOECTuAEHiDhAk7gBB4g4QJO4AQeIOECTuAEHiDhAk7gBB4g4QJO4AQeIOECTu\nAEHiDhC0ZmbrGS729PF2f0MDfHt/fF6//Q6bO0CQuAMEiTtAkLgDBIk7QNBd/loGgPNs7gBB4g4Q\nJO4AQeIOECTuAEHiDhAk7gBB4g4QJO4AQeIOECTuAEHiDhAk7gBB4g4QJO4AQeIOECTuAEHiDhAk\n7gBB4g4QJO4AQeIOECTuAEGf7Lst7ZQtbWQAAAAASUVORK5CYII=\n",
      "text/plain": [
       "<matplotlib.figure.Figure at 0x803bcf8>"
      ]
     },
     "metadata": {},
     "output_type": "display_data"
    },
    {
     "data": {
      "image/png": "iVBORw0KGgoAAAANSUhEUgAAAXcAAAD8CAYAAACMwORRAAAABHNCSVQICAgIfAhkiAAAAAlwSFlz\nAAALEgAACxIB0t1+/AAABBVJREFUeJzt28Ft1FAUQNF5KB1BAemCciLKoYsUADU9FrCbCMlRkD2X\nc/a2n/z/XP3FeHb3BkDLp7MHAODjiTtAkLgDBIk7QJC4AwSJO0CQuAMEiTtAkLgDBD2dPcD/ambu\nPg3e3TljFn6zJtdkXd7HyR0gSNwBgsQdIEjcAYLEHSBI3AGCxB0gSNwBgsQdIEjcAYLEHSBI3AGC\nxB0gSNwBgsQdIEjcAYLEHSBI3AGCxB0gSNwBgsQdIEjcAYLEHSBI3AGCxB0gSNwBgsQdIEjcAYLE\nHSBI3AGCxB0gSNwBgsQdIEjcAYLEHSBI3AGCxB0gSNwBgsQdIEjcAYLEHSBI3AGCxB0gSNwBgsQd\nIEjcAYLEHSBI3AGCxB0gSNwBgsQdIEjcAYLEHSBI3AGCxB0gSNwBgsQdIEjcAYLEHSBI3AGCxB0g\nSNwBgsQdIEjcAYLEHSBI3AGCxB0gSNwBgsQdIEjcAYLEHSBI3AGCxB0gSNwBgsQdIEjcAYLEHSBI\n3AGCxB0gSNwBgsQdIEjcAYLEHSBI3AGCxB0gSNwBgsQdIEjcAYLEHSBI3AGCxB0gSNwBgsQdIEjc\nAYLEHSBI3AGCxB0gSNwBgsQdIEjcAYLEHSBI3AGCxB0gSNwBgsQdIEjcAYLEHSBI3AGCns4eoGDm\ntsevur/k6H12b3P8uXDAzDv29sd6c4ALzHXbvfTvz8kdIEjcAYLEHSBI3AGCxB0gSNwBgsQdIEjc\nAYLEHSBI3AGCxB0gSNwBgsQdIEjcAYLEHSBI3AGCxB0gSNwBgsQdIEjcAYLEHSBI3AGCxB0gSNwB\ngsQdIEjcAYLEHSBI3AGCxB0gSNwBgsQdIEjcAYLEHSBI3AGCxB0gSNwBgsQdIEjcAYLEHSBI3AGC\nxB0gSNwBgsQdIEjcAYLEHSBI3AGCxB0gSNwBgsQdIEjcAYLEHSBI3AGCxB0gaHb37Bkua75N5uXs\ny87ZM1zdzP167/be27y+Zvb1I9jn51P2kJM7QJC4AwSJO0CQuAMEiTtAkLgDBIk7QJC4AwSJO0CQ\nuAMEiTtAkLgDBIk7QJC4AwSJO0CQuAMEiTtAkLgDBIk7QJC4AwSJO0CQuAMEiTtAkLgDBIk7QJC4\nAwSJO0CQuAMEiTtAkLgDBIk7QJC4AwSJO0CQuAMEiTtAkLgDBIk7QJC4AwSJO0CQuAMEiTtAkLgD\nBIk7QJC4AwSJO0CQuAMEiTtAkLgDBM3unj3DYV9+fn+8oQH++PH56/zrZzi5AwSJO0CQuAMEiTtA\nkLgDBD3kv2UA+Dsnd4AgcQcIEneAIHEHCBJ3gCBxBwgSd4AgcQcIEneAIHEHCBJ3gCBxBwgSd4Ag\ncQcIEneAIHEHCBJ3gCBxBwgSd4AgcQcIEneAIHEHCBJ3gKBfk+4z7SA89VIAAAAASUVORK5CYII=\n",
      "text/plain": [
       "<matplotlib.figure.Figure at 0x86e3d30>"
      ]
     },
     "metadata": {},
     "output_type": "display_data"
    },
    {
     "data": {
      "image/png": "iVBORw0KGgoAAAANSUhEUgAAAXcAAAD8CAYAAACMwORRAAAABHNCSVQICAgIfAhkiAAAAAlwSFlz\nAAALEgAACxIB0t1+/AAABAZJREFUeJzt28FtFEEURdH5yBmZAJwF4SDCcRYOAGL6LGAHsmQLqJ7L\nOQnMU1frqhY9s7s3AFo+nB4AwJ8n7gBB4g4QJO4AQeIOECTuAEHiDhAk7gBB4g4Q9HB6wP9qZn75\na/Duzokt/OBMrsm5vI+bO0CQuAMEiTtAkLgDBIk7QJC4AwSJO0CQuAMEiTtAkLgDBIk7QJC4AwSJ\nO0CQuAMEiTtAkLgDBIk7QJC4AwSJO0CQuAMEiTtAkLgDBIk7QJC4AwSJO0CQuAMEiTtAkLgDBIk7\nQJC4AwSJO0CQuAMEiTtAkLgDBIk7QJC4AwSJO0CQuAMEiTtAkLgDBIk7QJC4AwSJO0CQuAMEiTtA\nkLgDBIk7QJC4AwSJO0CQuAMEiTtAkLgDBIk7QJC4AwSJO0CQuAMEiTtAkLgDBIk7QJC4AwSJO0CQ\nuAMEiTtAkLgDBIk7QJC4AwSJO0CQuAMEiTtAkLgDBIk7QJC4AwSJO0CQuAMEiTtAkLgDBIk7QJC4\nAwSJO0CQuAMEiTtAkLgDBIk7QJC4AwSJO0CQuAMEiTtAkLgDBIk7QJC4AwSJO0CQuAMEiTtAkLgD\nBIk7QJC4AwSJO0CQuAMEiTtAkLgDBIk7QJC4AwSJO0CQuAMEiTtAkLgDBIk7QJC4AwQ9nB4AXNjM\nnp7w2wEX2HXbndMTXuPmDhAk7gBB4g4QJO4AQeIOECTuAEHiDhAk7gBB4g4QJO4AQeIOECTuAEHi\nDhAk7gBB4g4QJO4AQeIOECTuAEHiDhAk7gBB4g4QJO4AQeIOECTuAEHiDhAk7gBB4g4QJO4AQeIO\nECTuAEHiDhAk7gBB4g4QJO4AQeIOECTuAEHiDhAk7gBB4g4QJO4AQeIOECTuAEHiDhAk7gBB4g4Q\nJO4AQeIOECTuAEHiDhAk7gBB4g4QJO4AQeIOEDS7e3rDZc2XyTyc/bxzesO/NHM7dna7t0s/63l5\nybzX92Cfno68D27uAEHiDhAk7gBB4g4QJO4AQeIOECTuAEHiDhAk7gBB4g4QJO4AQeIOECTuAEHi\nDhAk7gBB4g4QJO4AQeIOECTuAEHiDhAk7gBB4g4QJO4AQeIOECTuAEHiDhAk7gBB4g4QJO4AQeIO\nECTuAEHiDhAk7gBB4g4QJO4AQeIOECTuAEHiDhAk7gBB4g4QJO4AQeIOECTuAEHiDhAk7gBB4g4Q\nJO4AQeIOEDS7e3rDm3389nx/owF++vr4af72b7i5AwSJO0CQuAMEiTtAkLgDBN3l1zIAvM7NHSBI\n3AGCxB0gSNwBgsQdIEjcAYLEHSBI3AGCxB0gSNwBgsQdIEjcAYLEHSBI3AGCxB0gSNwBgsQdIEjc\nAYLEHSBI3AGCxB0gSNwBgsQdIOg7Cdot7To1t4AAAAAASUVORK5CYII=\n",
      "text/plain": [
       "<matplotlib.figure.Figure at 0x823cba8>"
      ]
     },
     "metadata": {},
     "output_type": "display_data"
    },
    {
     "data": {
      "image/png": "iVBORw0KGgoAAAANSUhEUgAAAXcAAAD8CAYAAACMwORRAAAABHNCSVQICAgIfAhkiAAAAAlwSFlz\nAAALEgAACxIB0t1+/AAABCJJREFUeJzt28FtE0AQQNEMoiMoIF1QDqIcukgBUNNwcG6OkIiAtb/f\na8Cj3fXXHOzZ3ScAWj6cHgCAv0/cAYLEHSBI3AGCxB0gSNwBgsQdIEjcAYLEHSDo4+kBHtXMXP01\neHfnxCxcuJPb5F7ex+YOECTuAEHiDhAk7gBB4g4QJO4AQeIOECTuAEHiDhAk7gBB4g4QJO4AQeIO\nECTuAEHiDhAk7gBB4g4QJO4AQeIOECTuAEHiDhAk7gBB4g4QJO4AQeIOECTuAEHiDhAk7gBB4g4Q\nJO4AQeIOECTuAEHiDhAk7gBB4g4QJO4AQeIOECTuAEHiDhAk7gBB4g4QJO4AQeIOECTuAEHiDhAk\n7gBB4g4QJO4AQeIOECTuAEHiDhAk7gBB4g4QJO4AQbO7p2d4SDNzdfC7Oydm4cKdvN98uz67e7Rf\nO/dtcwcIEneAIHEHCBJ3gCBxBwgSd4AgcQcIEneAIHEHCBJ3gCBxBwgSd4AgcQcIEneAIHEHCBJ3\ngCBxBwgSd4AgcQcIEneAIHEHCBJ3gCBxBwgSd4AgcQcIEneAIHEHCBJ3gCBxBwgSd4AgcQcIEneA\nIHEHCBJ3gCBxBwgSd4AgcQcIEneAIHEHCBJ3gCBxBwgSd4AgcQcIEneAIHEHCBJ3gCBxBwgSd4Ag\ncQcIEneAIHEHCBJ3gCBxBwia3T09w0OamauD3905MQsX7uQNb5wJr278bdjcAYLEHSBI3AGCxB0g\nSNwBgsQdIEjcAYLEHSBI3AGCxB0gSNwBgsQdIEjcAYLEHSBI3AGCxB0gSNwBgsQdIEjcAYLEHSBI\n3AGCxB0gSNwBgsQdIEjcAYLEHSBI3AGCxB0gSNwBgsQdIEjcAYLEHSBI3AGCxB0gSNwBgsQdIEjc\nAYLEHSBI3AGCxB0gSNwBgsQdIEjcAYLEHSBI3AGCxB0gSNwBgsQdIEjcAYLEHSBI3AGCxB0gSNwB\ngmZ3T8/wkGbm6uB3d07MUjTzdOxh7z7d9D3Oy4sv/X+0z89H3oPNHSBI3AGCxB0gSNwBgsQdIEjc\nAYLEHSBI3AGCxB0gSNwBgsQdIEjcAYLEHSBI3AGCxB0gSNwBgsQdIEjcAYLEHSBI3AGCxB0gSNwB\ngsQdIEjcAYLEHSBI3AGCxB0gSNwBgsQdIEjcAYLEHSBI3AGCxB0gSNwBgsQdIEjcAYLEHSBI3AGC\nxB0gSNwBgsQdIEjcAYLEHSBI3AGCxB0gSNwBgsQdIEjcAYJmd0/P8Mc+//x+f0MDvPrx6cv868+w\nuQMEiTtAkLgDBIk7QJC4AwTd5a9lAPg9mztAkLgDBIk7QJC4AwSJO0CQuAMEiTtAkLgDBIk7QJC4\nAwSJO0CQuAMEiTtAkLgDBIk7QJC4AwSJO0CQuAMEiTtAkLgDBIk7QJC4AwSJO0DQLyd8ReN7n4xY\nAAAAAElFTkSuQmCC\n",
      "text/plain": [
       "<matplotlib.figure.Figure at 0x97e98d0>"
      ]
     },
     "metadata": {},
     "output_type": "display_data"
    },
    {
     "data": {
      "image/png": "iVBORw0KGgoAAAANSUhEUgAAAXcAAAD8CAYAAACMwORRAAAABHNCSVQICAgIfAhkiAAAAAlwSFlz\nAAALEgAACxIB0t1+/AAABCRJREFUeJzt28GNE0EQQFEXIiMIYLMgHEQ4ZLEBQEy1B+/NKyQQS+Pv\n9xJwqXv8VYeZ2d0LAC0fTg8AwN8n7gBB4g4QJO4AQeIOECTuAEHiDhAk7gBB4g4Q9PH0AI9qZm4+\nDd7dOTELV+7k/c1cjnwSv3t5uHu0uQMEiTtAkLgDBIk7QJC4AwSJO0CQuAMEiTtAkLgDBIk7QJC4\nAwSJO0CQuAMEiTtAkLgDBIk7QJC4AwSJO0CQuAMEiTtAkLgDBIk7QJC4AwSJO0CQuAMEiTtAkLgD\nBIk7QJC4AwSJO0CQuAMEiTtAkLgDBIk7QJC4AwSJO0CQuAMEiTtAkLgDBIk7QJC4AwSJO0CQuAME\niTtAkLgDBIk7QJC4AwSJO0CQuAMEiTtAkLgDBIk7QJC4AwSJO0DQ7O7pGR7SzNwc/O7OiVm4cid/\nbr7dnt092q+d+7a5AwSJO0CQuAMEiTtAkLgDBIk7QJC4AwSJO0CQuAMEiTtAkLgDBIk7QJC4AwSJ\nO0CQuAMEiTtAkLgDBIk7QJC4AwSJO0CQuAMEiTtAkLgDBIk7QJC4AwSJO0CQuAMEiTtAkLgDBIk7\nQJC4AwSJO0CQuAMEiTtAkLgDBIk7QJC4AwSJO0CQuAMEiTtAkLgDBIk7QJC4AwSJO0CQuAMEiTtA\nkLgDBIk7QJC4AwSJO0CQuAMEiTtAkLgDBM3unp7hIc3MzcHv7pyYhSt38oY3zoRX//mzYXMHCBJ3\ngCBxBwgSd4AgcQcIEneAIHEHCBJ3gCBxBwgSd4AgcQcIEneAIHEHCBJ3gCBxBwgSd4AgcQcIEneA\nIHEHCBJ3gCBxBwgSd4AgcQcIEneAIHEHCBJ3gCBxBwgSd4AgcQcIEneAIHEHCBJ3gCBxBwgSd4Ag\ncQcIEneAIHEHCBJ3gCBxBwgSd4AgcQcIEneAIHEHCBJ3gCBxBwgSd4AgcQcIEneAIHEHCBJ3gCBx\nBwgSd4AgcQcImt09PcNDmpmbg9/dOTELV49yJ/P87E//D+3T05FnyOYOECTuAEHiDhAk7gBB4g4Q\nJO4AQeIOECTuAEHiDhAk7gBB4g4QJO4AQeIOECTuAEHiDhAk7gBB4g4QJO4AQeIOECTuAEHiDhAk\n7gBB4g4QJO4AQeIOECTuAEHiDhAk7gBB4g4QJO4AQeIOECTuAEHiDhAk7gBB4g4QJO4AQeIOECTu\nAEHiDhAk7gBB4g4QJO4AQeIOECTuAEHiDhAk7gBB4g4QJO4AQbO7p2f4bZ9/fr+/oQFe/fj0Zd77\nN2zuAEHiDhAk7gBB4g4QJO4AQXf5tgwAv2ZzBwgSd4AgcQcIEneAIHEHCBJ3gCBxBwgSd4AgcQcI\nEneAIHEHCBJ3gCBxBwgSd4AgcQcIEneAIHEHCBJ3gCBxBwgSd4AgcQcIEneAIHEHCHoB2INF49Tx\nqxMAAAAASUVORK5CYII=\n",
      "text/plain": [
       "<matplotlib.figure.Figure at 0x9752be0>"
      ]
     },
     "metadata": {},
     "output_type": "display_data"
    }
   ],
   "source": [
    "print_game_sequence(game)"
   ]
  },
  {
   "cell_type": "markdown",
   "metadata": {},
   "source": [
    "<a id=\"q_learning\"></a>\n",
    "### Q-learning\n",
    "\n",
    "Q-learning and double Q-learning are very similar. As one would imagine, double Q-learning is just a small modification to Q-learning that helps it cope with a problem it encounters sometimes.\n",
    "\n",
    "The idea behind Q-learning follows the same general principle we have been following: while for value and policy iteration we asked *how valuable is the state $s$* and stored that information in $V(s)$, for Q-learning we ask *how valuable is it to perform action $a$ while in state $s$* and we store that information in $Q(s,a)$.\n",
    "\n",
    "With that in mind, how will the values $Q(s, a)$ be computed? Say at time step $t$ we are in state $s_t$. We look for the action to be taken, which is $a_t$, and take it. We will get a reward $r_t$ and enter a new state $s_{t+1}$. Notice that we can estimate the value of the state $s_{t+1}$ with $\\max_a Q(s_{t+1}, a)$. With these informations we now update $Q(s_t, a_t)$ with an expression that might resemble the expression for optimization with gradient descent (for those who are familiar with it):\n",
    "\n",
    "$$Q(s_t, a_t) \\leftarrow (1-\\alpha)Q(s_t, a_t) + \\alpha\\left(r_t + \\gamma \\max_a Q(s_{t+1},a) \\right)$$\n",
    "\n",
    "where $\\alpha \\in [0, 1]$ is the learning rate. Note that if we set $\\alpha = 0$ we won't be learning anything and if $\\alpha = 1$, each time we update $Q(s_t, a_t)$ we completely override it with $r_t + \\gamma \\max_a Q(s_{t+1},a)$. Picking $0 < \\alpha < 1$ serves the purpose of balancing our previous knowledge, stored in $Q(s_t, a_t)$, with our newest experience, with value $r_t + \\gamma \\max_a Q(s_{t+1},a)$.\n",
    "\n",
    "For reasons that I will explain in a couple of paragraphs, for this algorithm we won't initialize the values $Q(s,a)$ with a special value when $s$ is a terminal state. Instead, suppose that at time step $t$ we are in state $s_t$ and decide to take action $a_t$. We take it, get a reward of $r_t$ and then enter the state $s_{t+1}$, which is a terminal state. When we are going to update $Q(s_t, a_t)$ we will need the value $\\max_a Q(s_{t+1},a)$ but if $s_{t+1}$ is terminal there are no actions that we can take and the term $\\max_a Q(s_{t+1},a)$ doesn't really make sense. Instead, whenever $s_{t+1}$ is a terminal state we update $Q(s_t, a_t)$ with\n",
    "\n",
    "$$Q(s_t, a_t) \\leftarrow (1-\\alpha)Q(s_t, a_t) + \\alpha r_t$$"
   ]
  },
  {
   "cell_type": "markdown",
   "metadata": {},
   "source": [
    "<a id=\"exploration_exploitation\"></a>\n",
    "### Exploration vs. Exploitation\n",
    "\n",
    "Notice that the values of $Q(s,a)$ will start with some initial value, usually $0$ or a small random number, and they will be updated as we simulate several runs of our process and encounter state $s$ and take action $a$ while in it. An issue that might arise is: what if we find a good action $a'$ for state $s'$ but $a'$ isn't the optimal action?\n",
    "\n",
    "As an example, suppose we only have one state $s$ and two actions, $a^-$ and $a^+$. Action $a^-$ gives a reward of $1$ and action $a^+$ gives a reward of $2$. Both actions send us to $s$ again. We just started our simulation at $s$ with $Q(s, a^-) = Q(s, a^+) = 0$ and now we have to pick an action. As both $a^-$ and $a^+$ give the same value to the pair $(s, a)$, we pick one at random. Assume we got $a^-$. We use the action, get a reward of $1$ and go back to $s$. Now we update the value of $Q(s, a^-)$ which becomes\n",
    "\n",
    "$$Q(s, a^-) = \\alpha$$\n",
    "\n",
    "because the term $(1-\\alpha)Q(s, a^-)$ was $0$ and because $\\gamma \\max_a Q(s, a)$ is also $0$. At this point, we have that\n",
    "\n",
    "$$\\begin{cases}\n",
    "Q(s, a^-) = \\alpha \\\\\n",
    "Q(s, a^+) = 0\n",
    "\\end{cases}$$\n",
    "\n",
    "and hence the action $a^-$ looks better than the action $a^+$! If our simulation kept going, now we would pick $a^-$ because its $Q$ value is better! To prevent these problems, we have to balance exploitation (using what we know) versus exploration (trying new things in search of better solutions). To do that, inside the simulation we set a parameter $\\epsilon$ that we will use to choose between exploiting and exploring. Putting everything in code, we define some variables and the table of the initial $Q$ values:"
   ]
  },
  {
   "cell_type": "code",
   "execution_count": 18,
   "metadata": {
    "collapsed": false
   },
   "outputs": [],
   "source": [
    "from random import choice, random\n",
    "N = 4\n",
    "\n",
    "gamma = 0.9\n",
    "learning_rate = 0.1\n",
    "\n",
    "all_states = define_states(N)\n",
    "# build auxiliary dictionary to assign an index to each state\n",
    "state_idx = dict()\n",
    "s = 0\n",
    "for state in all_states:\n",
    "    state_idx[dictify(state)] = s\n",
    "    s += 1\n",
    "\n",
    "# initialize Q with random small values\n",
    "# access Q as Q[state index][action index]\n",
    "Q = [[random()-0.5 for action in actions] for state in all_states]\n",
    "# the value of the final state is 0\n",
    "Q[state_idx[dictify(FINAL_STATE)]] = [0 for action in actions]\n",
    "\n",
    "def maximizeQ(Q, s):\n",
    "    \"\"\"Choose the action that would maximize Q in the given state;\n",
    "        returns argmax_a Q(s, a), max_a Q(s, a)\"\"\"\n",
    "    idx = state_idx[dictify(s)]\n",
    "    best_value = Q[idx][0]\n",
    "    best_action = actions[0]\n",
    "    for i in range(1, len(actions)):\n",
    "        v = Q[idx][i]\n",
    "        if v > best_value:\n",
    "            best_value = v\n",
    "            best_action = actions[i]\n",
    "    return best_action, best_value"
   ]
  },
  {
   "cell_type": "markdown",
   "metadata": {},
   "source": [
    "Having defined all the necessary auxiliary variables and the function `maximizeQ`, we can start our batch of simulations. In my code, the exploration rate starts at $100\\%$ and goes all the way down to $0\\%$, as I train more and more. This is controlled by my variable `eps`:"
   ]
  },
  {
   "cell_type": "code",
   "execution_count": 19,
   "metadata": {
    "collapsed": false
   },
   "outputs": [
    {
     "name": "stdout",
     "output_type": "stream",
     "text": [
      "Q values learned\n"
     ]
    }
   ],
   "source": [
    "simulations = 1000\n",
    "eps = 1\n",
    "for n in range(simulations):\n",
    "    eps = 1 - n/simulations # go from 100% to 0% exploration rate\n",
    "    state = choice(all_states[1:])\n",
    "    # a list of all the states and actions we go through\n",
    "    # run the simulation until we get to a final state\n",
    "    while state != FINAL_STATE:\n",
    "        # with eps probability, ignore our belief of what the best action is\n",
    "        # and instead act randomly\n",
    "        if random() < eps:\n",
    "            action = choice(actions)\n",
    "        else:\n",
    "            action, _ = maximizeQ(Q, state)\n",
    "        ai = actions.index(action)\n",
    "        si = state_idx[dictify(state)]\n",
    "        state, reward = transition(state, action)\n",
    "        # update the Q value\n",
    "        if state == FINAL_STATE:\n",
    "            Q[si][ai] = (1-learning_rate)*Q[si][ai] + learning_rate*reward\n",
    "        else:\n",
    "            _, future_value = maximizeQ(Q, state)\n",
    "            Q[si][ai] = (1-learning_rate)*Q[si][ai] + \\\n",
    "                        learning_rate * (reward + gamma * future_value)\n",
    "print(\"Q values learned\")"
   ]
  },
  {
   "cell_type": "markdown",
   "metadata": {},
   "source": [
    "Now that we have estimated the values of all pairs $(s,a)$ we extract from them the best policy and use it to solve the problem:"
   ]
  },
  {
   "cell_type": "code",
   "execution_count": 20,
   "metadata": {
    "collapsed": false
   },
   "outputs": [
    {
     "name": "stdout",
     "output_type": "stream",
     "text": [
      "0: [[4, 3, 2, 1], [], []]\n",
      "1: [[4, 3, 2], [], [1]]\n",
      "2: [[4, 3], [2], [1]]\n",
      "3: [[4, 3], [2, 1], []]\n",
      "4: [[4], [2, 1], [3]]\n",
      "5: [[4, 1], [2], [3]]\n",
      "6: [[4, 1], [], [3, 2]]\n",
      "7: [[4], [], [3, 2, 1]]\n",
      "8: [[], [4], [3, 2, 1]]\n",
      "9: [[], [4, 1], [3, 2]]\n",
      "10: [[2], [4, 1], [3]]\n",
      "11: [[2, 1], [4], [3]]\n",
      "12: [[2, 1], [4, 3], []]\n",
      "13: [[2], [4, 3], [1]]\n",
      "14: [[], [4, 3, 2], [1]]\n",
      "15: [[], [4, 3, 2, 1], []]\n"
     ]
    },
    {
     "data": {
      "image/png": "iVBORw0KGgoAAAANSUhEUgAAAXcAAAD8CAYAAACMwORRAAAABHNCSVQICAgIfAhkiAAAAAlwSFlz\nAAALEgAACxIB0t1+/AAABCRJREFUeJzt28GNE0EQQFEXIiMIYLMgHEQ4ZLEBQEzFhZsRAsvQ9t/3\nEpia7tFXHezZ3QsALe9ODwDA/Yk7QJC4AwSJO0CQuAMEiTtAkLgDBIk7QJC4AwS9Pz1AwczlyN98\ndy9z4rlVM3N1j7vrjA9zL7exuQMEiTtAkLgDBIk7QJC4AwSJO0CQuAMEiTtAkLgDBIk7QJC4AwSJ\nO0CQuAMEiTtAkLgDBIk7QJC4AwSJO0CQuAMEiTtAkLgDBIk7QJC4AwSJO0CQuAMEiTtAkLgDBIk7\nQJC4AwSJO0CQuAMEiTtAkLgDBIk7QJC4AwSJO0CQuAMEiTtAkLgDBIk7QJC4AwSJO0CQuAMEiTtA\nkLgDBIk7QJC4AwSJO0CQuAMEiTtAkLgDBIk7QJC4AwSJO0DQ7O7pGR7WfJnM4eznndMzPLqZ6/ve\ndW6nuZfb2NwBgsQdIEjcAYLEHSBI3AGCxB0gSNwBgsQdIEjcAYLEHSBI3AGCxB0gSNwBgsQdIEjc\nAYLEHSBI3AGCxB0gSNwBgsQdIEjcAYLEHSBI3AGCxB0gSNwBgsQdIEjcAYLEHSBI3AGCxB0gSNwB\ngsQdIEjcAYLEHSBI3AGCxB0gSNwBgsQdIEjcAYLEHSBI3AGCxB0gSNwBgsQdIEjcAYLEHSBI3AGC\nxB0gSNwBgsQdIEjcAYLEHSBI3AGCZndPz/D/zbzBl/5Du3N6hFPmF9/FvuHzeBTu5TY2d4AgcQcI\nEneAIHEHCBJ3gCBxBwgSd4AgcQcIEneAIHEHCBJ3gCBxBwgSd4AgcQcIEneAIHEHCBJ3gCBxBwgS\nd4AgcQcIEneAIHEHCBJ3gCBxBwgSd4AgcQcIEneAIHEHCBJ3gCBxBwgSd4AgcQcIEneAIHEHCBJ3\ngCBxBwgSd4AgcQcIEneAIHEHCBJ3gCBxBwgSd4AgcQcIEneAIHEHCBJ3gCBxBwgSd4AgcQcIEneA\nIHEHCBJ3gKDZ3dMz3MW8vjZe5Ensy8ucnuHeZubqG9rd3Hs+G/dyG5s7QJC4AwSJO0CQuAMEiTtA\nkLgDBIk7QJC4AwSJO0CQuAMEiTtAkLgDBIk7QJC4AwSJO0CQuAMEiTtAkLgDBIk7QJC4AwSJO0CQ\nuAMEiTtAkLgDBIk7QJC4AwSJO0CQuAMEiTtAkLgDBIk7QJC4AwSJO0CQuAMEiTtAkLgDBIk7QJC4\nAwSJO0CQuAMEiTtAkLgDBIk7QJC4AwSJO0CQuAMEiTtAkLgDBM3unp7hr338/vX5hgb46duHT/Ov\nn2FzBwgSd4AgcQcIEneAIHEHCHrKX8sA8Hs2d4AgcQcIEneAIHEHCBJ3gCBxBwgSd4AgcQcIEneA\nIHEHCBJ3gCBxBwgSd4AgcQcIEneAIHEHCBJ3gCBxBwgSd4AgcQcIEneAIHEHCBJ3gKAfdjFF42xl\nOdwAAAAASUVORK5CYII=\n",
      "text/plain": [
       "<matplotlib.figure.Figure at 0x85b1748>"
      ]
     },
     "metadata": {},
     "output_type": "display_data"
    },
    {
     "data": {
      "image/png": "iVBORw0KGgoAAAANSUhEUgAAAXcAAAD8CAYAAACMwORRAAAABHNCSVQICAgIfAhkiAAAAAlwSFlz\nAAALEgAACxIB0t1+/AAABCdJREFUeJzt28GNU0EQQMFtREYQwGZBOIhwyGIDgJh6D3AzQmAZxvtc\nlYB7fn8/zcGe3X0CoOXd6QEAuD1xBwgSd4AgcQcIEneAIHEHCBJ3gCBxBwgSd4Cg96cHeFQzc/HX\n4N2dE7Pwg53cJ3u5jps7QJC4AwSJO0CQuAMEiTtAkLgDBIk7QJC4AwSJO0CQuAMEiTtAkLgDBIk7\nQJC4AwSJO0CQuAMEiTtAkLgDBIk7QJC4AwSJO0CQuAMEiTtAkLgDBIk7QJC4AwSJO0CQuAMEiTtA\nkLgDBIk7QJC4AwSJO0CQuAMEiTtAkLgDBIk7QJC4AwSJO0CQuAMEiTtAkLgDBIk7QJC4AwSJO0CQ\nuAMEiTtAkLgDBIk7QJC4AwSJO0CQuAMEiTtAkLgDBM3unp7hbs2XyTyc/bxzeoZ7N3O5713P7TR7\nuY6bO0CQuAMEiTtAkLgDBIk7QJC4AwSJO0CQuAMEiTtAkLgDBIk7QJC4AwSJO0CQuAMEiTtAkLgD\nBIk7QJC4AwSJO0CQuAMEiTtAkLgDBIk7QJC4AwSJO0CQuAMEiTtAkLgDBIk7QJC4AwSJO0CQuAME\niTtAkLgDBIk7QJC4AwSJO0CQuAMEiTtAkLgDBIk7QJC4AwSJO0CQuAMEiTtAkLgDBIk7QJC4AwSJ\nO0CQuAMEiTtAkLgDBIk7QNDs7ukZ/r+ZBzz0H9qd0yOcMr94L/aBn8e9sJfruLkDBIk7QJC4AwSJ\nO0CQuAMEiTtAkLgDBIk7QJC4AwSJO0CQuAMEiTtAkLgDBIk7QJC4AwSJO0CQuAMEiTtAkLgDBIk7\nQJC4AwSJO0CQuAMEiTtAkLgDBIk7QJC4AwSJO0CQuAMEiTtAkLgDBIk7QJC4AwSJO0CQuAMEiTtA\nkLgDBIk7QJC4AwSJO0CQuAMEiTtAkLgDBIk7QJC4AwSJO0CQuAMEiTtAkLgDBIk7QJC4AwSJO0CQ\nuAMEze6enuEm5uWlcZA3Yp+f5/QMtzYzF+/Q7ubOedLM05Hv6e7Tw+3RzR0gSNwBgsQdIEjcAYLE\nHSBI3AGCxB0gSNwBgsQdIEjcAYLEHSBI3AGCxB0gSNwBgsQdIEjcAYLEHSBI3AGCxB0gSNwBgsQd\nIEjcAYLEHSBI3AGCxB0gSNwBgsQdIEjcAYLEHSBI3AGCxB0gSNwBgsQdIEjcAYLEHSBI3AGCxB0g\nSNwBgsQdIEjcAYLEHSBI3AGCxB0gSNwBgsQdIEjcAYLEHSBI3AGCZndPz/DXPn7/+vaGBvjp24dP\n868/w80dIEjcAYLEHSBI3AGCxB0g6E3+WgaA33NzBwgSd4AgcQcIEneAIHEHCBJ3gCBxBwgSd4Ag\ncQcIEneAIHEHCBJ3gCBxBwgSd4AgcQcIEneAIHEHCBJ3gCBxBwgSd4AgcQcIEneAIHEHCHoFkWJF\n493x75UAAAAASUVORK5CYII=\n",
      "text/plain": [
       "<matplotlib.figure.Figure at 0x9884240>"
      ]
     },
     "metadata": {},
     "output_type": "display_data"
    },
    {
     "data": {
      "image/png": "iVBORw0KGgoAAAANSUhEUgAAAXcAAAD8CAYAAACMwORRAAAABHNCSVQICAgIfAhkiAAAAAlwSFlz\nAAALEgAACxIB0t1+/AAABAZJREFUeJzt28GNE0EURVF/5IyGACYLwkGEM1k4AIjpzwJ2ICTAqMZ3\nzkmgn7ukq1q0Z3cvALR8OD0AgPsTd4AgcQcIEneAIHEHCBJ3gCBxBwgSd4AgcQcIup4e8F7NzE9/\nDd7dObGF75zJ2+Rc/o6bO0CQuAMEiTtAkLgDBIk7QJC4AwSJO0CQuAMEiTtAkLgDBIk7QJC4AwSJ\nO0CQuAMEiTtAkLgDBIk7QJC4AwSJO0CQuAMEiTtAkLgDBIk7QJC4AwSJO0CQuAMEiTtAkLgDBIk7\nQJC4AwSJO0CQuAMEiTtAkLgDBIk7QJC4AwSJO0CQuAMEiTtAkLgDBIk7QJC4AwSJO0CQuAMEiTtA\nkLgDBIk7QJC4AwSJO0CQuAMEiTtAkLgDBIk7QJC4AwSJO0CQuAMEiTtAkLgDBIk7QJC4AwSJO0CQ\nuAMEiTtAkLgDBIk7QJC4AwSJO0CQuAMEiTtAkLgDBIk7QJC4AwSJO0CQuAMEiTtAkLgDBIk7QJC4\nAwSJO0CQuAMEiTtAkLgDBIk7QJC4AwSJO0CQuAMEiTtAkLgDBIk7QJC4AwSJO0CQuAMEiTtAkLgD\nBIk7QJC4AwSJO0CQuAMEiTtAkLgDBIk7QJC4AwSJO0CQuAMEiTtAkLgDBIk7QJC4AwRdTw84YmZP\nT/jlgDew67I7pycA/87NHSBI3AGCxB0gSNwBgsQdIEjcAYLEHSBI3AGCxB0gSNwBgsQdIEjcAYLE\nHSBI3AGCxB0gSNwBgsQdIEjcAYLEHSBI3AGCxB0gSNwBgsQdIEjcAYLEHSBI3AGCxB0gSNwBgsQd\nIEjcAYLEHSBI3AGCxB0gSNwBgsQdIEjcAYLEHSBI3AGCxB0gSNwBgsQdIEjcAYLEHSBI3AGCxB0g\nSNwBgsQdIEjcAYLEHSBI3AGCxB0gSNwBgsQdIGh29/SGu5jbrfFDHsQ+P8+J586XyZzzft4j7/Ck\nmcuR89u9vLt37eYOECTuAEHiDhAk7gBB4g4QJO4AQeIOECTuAEHiDhAk7gBB4g4QJO4AQeIOECTu\nAEHiDhAk7gBB4g4QJO4AQeIOECTuAEHiDhAk7gBB4g4QJO4AQeIOECTuAEHiDhAk7gBB4g4QJO4A\nQeIOECTuAEHiDhAk7gBB4g4QJO4AQeIOECTuAEHiDhAk7gBB4g4QJO4AQeIOECTuAEHiDhAk7gBB\n4g4QJO4AQbO7pzf8sY/fXh5vNMAPX58+zf9+hps7QJC4AwSJO0CQuAMEiTtA0EN+LQPA77m5AwSJ\nO0CQuAMEiTtAkLgDBIk7QJC4AwSJO0CQuAMEiTtAkLgDBIk7QJC4AwSJO0CQuAMEiTtAkLgDBIk7\nQJC4AwSJO0CQuAMEiTtAkLgDBL0ChtUt7QWVkCQAAAAASUVORK5CYII=\n",
      "text/plain": [
       "<matplotlib.figure.Figure at 0x9798e10>"
      ]
     },
     "metadata": {},
     "output_type": "display_data"
    },
    {
     "data": {
      "image/png": "iVBORw0KGgoAAAANSUhEUgAAAXcAAAD8CAYAAACMwORRAAAABHNCSVQICAgIfAhkiAAAAAlwSFlz\nAAALEgAACxIB0t1+/AAABBVJREFUeJzt28FtU1EQQFEPSkdQQLqgnCjl0EUKgJqGBewcBREZvfhy\nzt7+4/ekq1l8z+5eAGj5dHoAAG5P3AGCxB0gSNwBgsQdIEjcAYLEHSBI3AGCxB0g6OH0AP+rmbn6\na/DuzolZ+MWdfEzu5X1s7gBB4g4QJO4AQeIOECTuAEHiDhAk7gBB4g4QJO4AQeIOECTuAEHiDhAk\n7gBB4g4QJO4AQeIOECTuAEHiDhAk7gBB4g4QJO4AQeIOECTuAEHiDhAk7gBB4g4QJO4AQeIOECTu\nAEHiDhAk7gBB4g4QJO4AQeIOECTuAEHiDhAk7gBB4g4QJO4AQeIOECTuAEHiDhAk7gBB4g4QJO4A\nQeIOECTuAEHiDhAk7gBB4g4QJO4AQeIOECTuAEHiDhAk7gBB4g4QJO4AQeIOECTuAEHiDhAk7gBB\n4g4QJO4AQeIOECTuAEHiDhAk7gBB4g4QJO4AQeIOECTuAEHiDhAk7gBB4g4QJO4AQeIOECTuAEHi\nDhAk7gBB4g4QJO4AQeIOECTuAEHiDhAk7gBB4g4QJO4AQeIOECTuAEHiDhAk7gBB4g4QJO4AQeIO\nECTuAEHiDhAk7gBB4g4QJO4AQeIOECTuAEHiDhAk7gBB4g4QJO4AQeIOECTuAEHiDhD0cHqAI2b2\n9AivDvAB5rrszukRbmHm9SN+2/VH3vM9u5fEGXLfbO4AQeIOECTuAEHiDhAk7gBB4g4QJO4AQeIO\nECTuAEHiDhAk7gBB4g4QJO4AQeIOECTuAEHiDhAk7gBB4g4QJO4AQeIOECTuAEHiDhAk7gBB4g4Q\nJO4AQeIOECTuAEHiDhAk7gBB4g4QJO4AQeIOECTuAEHiDhAk7gBB4g4QJO4AQeIOECTuAEHiDhAk\n7gBB4g4QJO4AQeIOECTuAEHiDhAk7gBB4g4QJO4AQeIOECTuAEHiDhAk7gBBs7unZ7iJeXlp/JA7\nsY+Pc+K58zyZe96nPXKG92bm+s53nd2f2NwBgsQdIEjcAYLEHSBI3AGCxB0gSNwBgsQdIEjcAYLE\nHSBI3AGCxB0gSNwBgsQdIEjcAYLEHSBI3AGCxB0gSNwBgsQdIEjcAYLEHSBI3AGCxB0gSNwBgsQd\nIEjcAYLEHSBI3AGCxB0gSNwBgsQdIEjcAYLEHSBI3AGCxB0gSNwBgsQdIEjcAYLEHSBI3AGCxB0g\nSNwBgsQdIEjcAYLEHSBI3AGCxB0gaHb39Ax/7cuPb/c3NMBv3z9/nX/9DJs7QJC4AwSJO0CQuAME\niTtA0F2+LQPA22zuAEHiDhAk7gBB4g4QJO4AQeIOECTuAEHiDhAk7gBB4g4QJO4AQeIOECTuAEHi\nDhAk7gBB4g4QJO4AQeIOECTuAEHiDhAk7gBB4g4QJO4AQT8BhGoz7ban0r0AAAAASUVORK5CYII=\n",
      "text/plain": [
       "<matplotlib.figure.Figure at 0x82c30b8>"
      ]
     },
     "metadata": {},
     "output_type": "display_data"
    },
    {
     "data": {
      "image/png": "iVBORw0KGgoAAAANSUhEUgAAAXcAAAD8CAYAAACMwORRAAAABHNCSVQICAgIfAhkiAAAAAlwSFlz\nAAALEgAACxIB0t1+/AAABAVJREFUeJzt28FNQlEQQFGeoSMtgC4sx1iOXVCA1jQudEdiAoF8uJ6z\n/7zhv+RmFrBmZgdAy9PWAwBwfeIOECTuAEHiDhAk7gBB4g4QJO4AQeIOECTuAEH7rQf4r9ZaJ38N\nnpm1xSz8cCf3yb1cxuYOECTuAEHiDhAk7gBB4g4QJO4AQeIOECTuAEHiDhAk7gBB4g4QJO4AQeIO\nECTuAEHiDhAk7gBB4g4QJO4AQeIOECTuAEHiDhAk7gBB4g4QJO4AQeIOECTuAEHiDhAk7gBB4g4Q\nJO4AQeIOECTuAEHiDhAk7gBB4g4QJO4AQeIOECTuAEHiDhAk7gBB4g4QJO4AQeIOECTuAEHiDhAk\n7gBB4g4QJO4AQeIOECTuAEHiDhAk7gBB4g4QJO4AQeIOECTuAEHiDhAk7gBB4g4QJO4AQeIOECTu\nAEHiDhAk7gBB4g4QJO4AQeIOECTuAEHiDhAk7gBB4g4QJO4AQeIOECTuAEHiDhAk7gBB4g4QJO4A\nQeIOECTuAEHiDhAk7gBB4g4QJO4AQeIOECTuAEHiDhAk7gBB4g4QJO4AQeIOECTuAEHiDhAk7gBB\n4g4QJO4AQeIOECTuAEHiDhAk7gBB4g4QJO4AQeIOECTuAEHiDhAk7gBB4g4QJO4AQfutB4BbWGs3\n5z91+sglnzOzW+efDddlcwcIEneAIHEHCBJ3gCBxBwgSd4AgcQcIEneAIHEHCBJ3gCBxBwgSd4Ag\ncQcIEneAIHEHCBJ3gCBxBwgSd4AgcQcIEneAIHEHCBJ3gCBxBwgSd4AgcQcIEneAIHEHCBJ3gCBx\nBwgSd4AgcQcIEneAIHEHCBJ3gCBxBwgSd4AgcQcIEneAIHEHCBJ3gCBxBwgSd4AgcQcIEneAIHEH\nCBJ3gCBxBwgSd4AgcQcIEneAIHEHCBJ3gCBxBwhaM7P1DFexjsfGF3kQczisLc5d7ytzz/M2m7zD\ns6zO+766ue/7s7kDBIk7QJC4AwSJO0CQuAMEiTtAkLgDBIk7QJC4AwSJO0CQuAMEiTtAkLgDBIk7\nQJC4AwSJO0CQuAMEiTtAkLgDBIk7QJC4AwSJO0CQuAMEiTtAkLgDBIk7QJC4AwSJO0CQuAMEiTtA\nkLgDBIk7QJC4AwSJO0CQuAMEiTtAkLgDBIk7QJC4AwSJO0CQuAMEiTtAkLgDBIk7QJC4AwSJO0CQ\nuAMEiTtA0JqZrWc428vXx+MNDfDr8/l13foMmztAkLgDBIk7QJC4AwSJO0DQQ/5aBoC/2dwBgsQd\nIEjcAYLEHSBI3AGCxB0gSNwBgsQdIEjcAYLEHSBI3AGCxB0gSNwBgsQdIEjcAYLEHSBI3AGCxB0g\nSNwBgsQdIEjcAYLEHSBI3AGCvgGYZS3txaC31AAAAABJRU5ErkJggg==\n",
      "text/plain": [
       "<matplotlib.figure.Figure at 0x98b5048>"
      ]
     },
     "metadata": {},
     "output_type": "display_data"
    },
    {
     "data": {
      "image/png": "iVBORw0KGgoAAAANSUhEUgAAAXcAAAD8CAYAAACMwORRAAAABHNCSVQICAgIfAhkiAAAAAlwSFlz\nAAALEgAACxIB0t1+/AAABARJREFUeJzt28FNAlEUQFG+oSMtwC4sx1iOXVCA1vRc6I7EZAxm4HLO\nfviP+cnNW8CamQMALQ97DwDA5Yk7QJC4AwSJO0CQuAMEiTtAkLgDBIk7QJC4AwQd9x7gXq21zv4a\nPDNrj1n45k6uk3v5G5s7QJC4AwSJO0CQuAMEiTtAkLgDBIk7QJC4AwSJO0CQuAMEiTtAkLgDBIk7\nQJC4AwSJO0CQuAMEiTtAkLgDBIk7QJC4AwSJO0CQuAMEiTtAkLgDBIk7QJC4AwSJO0CQuAMEiTtA\nkLgDBIk7QJC4AwSJO0CQuAMEiTtAkLgDBIk7QJC4AwSJO0CQuAMEiTtAkLgDBIk7QJC4AwSJO0CQ\nuAMEiTtAkLgDBIk7QJC4AwSJO0CQuAMEiTtAkLgDBIk7QJC4AwSJO0CQuAMEiTtAkLgDBIk7QJC4\nAwSJO0CQuAMEiTtAkLgDBIk7QJC4AwSJO0CQuAMEiTtAkLgDBIk7QJC4AwSJO0CQuAMEiTtAkLgD\nBIk7QJC4AwSJO0CQuAMEiTtAkLgDBIk7QJC4AwSJO0CQuAMEiTtAkLgDBIk7QJC4AwSJO0CQuAME\niTtAkLgDBIk7QJC4AwSJO0CQuAMEiTtAkLgDBIk7QJC4AwSJO0CQuAMEiTtAkLgDBB33HqBgrcNs\nf+r8ka2fM3NY288F7oHNHSBI3AGCxB0gSNwBgsQdIEjcAYLEHSBI3AGCxB0gSNwBgsQdIEjcAYLE\nHSBI3AGCxB0gSNwBgsQdIEjcAYLEHSBI3AGCxB0gSNwBgsQdIEjcAYLEHSBI3AGCxB0gSNwBgsQd\nIEjcAYLEHSBI3AGCxB0gSNwBgsQdIEjcAYLEHSBI3AGCxB0gSNwBgsQdIEjcAYLEHSBI3AGCxB0g\nSNwBgsQdIEjcAYLEHSBI3AGCxB0gSNwBgsQdIGjNzN4zXMQ6nRpf5EbM8/Pa49z1tjL3PK+zyzvc\nZHXe98XNdd+fzR0gSNwBgsQdIEjcAYLEHSBI3AGCxB0gSNwBgsQdIEjcAYLEHSBI3AGCxB0gSNwB\ngsQdIEjcAYLEHSBI3AGCxB0gSNwBgsQdIEjcAYLEHSBI3AGCxB0gSNwBgsQdIEjcAYLEHSBI3AGC\nxB0gSNwBgsQdIEjcAYLEHSBI3AGCxB0gSNwBgsQdIEjcAYLEHSBI3AGCxB0gSNwBgsQdIEjcAYLE\nHSBI3AGC1szsPcNmT5/vtzc0wI+Px5f132fY3AGCxB0gSNwBgsQdIEjcAYJu8tcyAPzO5g4QJO4A\nQeIOECTuAEHiDhAk7gBB4g4QJO4AQeIOECTuAEHiDhAk7gBB4g4QJO4AQeIOECTuAEHiDhAk7gBB\n4g4QJO4AQeIOECTuAEHiDhD0BYTZLe0tC9OfAAAAAElFTkSuQmCC\n",
      "text/plain": [
       "<matplotlib.figure.Figure at 0x83e67b8>"
      ]
     },
     "metadata": {},
     "output_type": "display_data"
    },
    {
     "data": {
      "image/png": "iVBORw0KGgoAAAANSUhEUgAAAXcAAAD8CAYAAACMwORRAAAABHNCSVQICAgIfAhkiAAAAAlwSFlz\nAAALEgAACxIB0t1+/AAABBJJREFUeJzt28FtFEEQQNEtREYQgLMgHEQ4ZOEAIKbigG+LEEaL2vN5\nL4Gp6R591WF3dvcGQMu70wMA8HjiDhAk7gBB4g4QJO4AQeIOECTuAEHiDhAk7gBB708P8L+ambu/\nBu/unJiFn9zJ2+Re/o7NHSBI3AGCxB0gSNwBgsQdIEjcAYLEHSBI3AGCxB0gSNwBgsQdIEjcAYLE\nHSBI3AGCxB0gSNwBgsQdIEjcAYLEHSBI3AGCxB0gSNwBgsQdIEjcAYLEHSBI3AGCxB0gSNwBgsQd\nIEjcAYLEHSBI3AGCxB0gSNwBgsQdIEjcAYLEHSBI3AGCxB0gSNwBgsQdIEjcAYLEHSBI3AGCxB0g\nSNwBgsQdIEjcAYLEHSBI3AGCxB0gSNwBgsQdIEjcAYLEHSBI3AGCxB0gSNwBgsQdIEjcAYLEHSBI\n3AGCxB0gSNwBgsQdIEjcAYLEHSBI3AGCxB0gSNwBgsQdIEjcAYLEHSBI3AGCxB0gSNwBgsQdIEjc\nAYLEHSBI3AGCxB0gSNwBgsQdIEjcAYLEHSBI3AGCxB0gSNwBgsQdIEjcAYLEHSBI3AGCxB0gSNwB\ngsQdIEjcAYLEHSBI3AGCxB0gSNwBgsQdIEjcAYLEHSBI3AGCxB0gSNwBgsQdIEjcAYJmd0/PcHkz\ntyOHuHubE8+tmpm7e9xdZ/wH5sv92V3Rfu7ct80dIEjcAYLEHSBI3AGCxB0gSNwBgsQdIEjcAYLE\nHSBI3AGCxB0gSNwBgsQdIEjcAYLEHSBI3AGCxB0gSNwBgsQdIEjcAYLEHSBI3AGCxB0gSNwBgsQd\nIEjcAYLEHSBI3AGCxB0gSNwBgsQdIEjcAYLEHSBI3AGCxB0gSNwBgsQdIEjcAYLEHSBI3AGCxB0g\nSNwBgsQdIEjcAYLEHSBI3AGCxB0gSNwBgsQdIEjcAYLEHSBI3AGCxB0gaHb39AwPMc/PjRe5iH16\nmtMzPNrM3H1Du5t7z1f5xZnw4o1/GzZ3gCBxBwgSd4AgcQcIEneAIHEHCBJ3gCBxBwgSd4AgcQcI\nEneAIHEHCBJ3gCBxBwgSd4AgcQcIEneAIHEHCBJ3gCBxBwgSd4AgcQcIEneAIHEHCBJ3gCBxBwgS\nd4AgcQcIEneAIHEHCBJ3gCBxBwgSd4AgcQcIEneAIHEHCBJ3gCBxBwgSd4AgcQcIEneAIHEHCBJ3\ngCBxBwgSd4AgcQcIEneAIHEHCJrdPT3Dq338/vV6QwO8+Pbh0/zrZ9jcAYLEHSBI3AGCxB0gSNwB\ngi75axkAfs/mDhAk7gBB4g4QJO4AQeIOECTuAEHiDhAk7gBB4g4QJO4AQeIOECTuAEHiDhAk7gBB\n4g4QJO4AQeIOECTuAEHiDhAk7gBB4g4QJO4AQeIOEPQD8uQ259EpuPYAAAAASUVORK5CYII=\n",
      "text/plain": [
       "<matplotlib.figure.Figure at 0x848d780>"
      ]
     },
     "metadata": {},
     "output_type": "display_data"
    },
    {
     "data": {
      "image/png": "iVBORw0KGgoAAAANSUhEUgAAAXcAAAD8CAYAAACMwORRAAAABHNCSVQICAgIfAhkiAAAAAlwSFlz\nAAALEgAACxIB0t1+/AAABCFJREFUeJzt28Ft20AQQFFN4I6SAtxFyglSTrpwAUlN44N9YxBAhgJa\nX+/dKQ53iY89ULO7FwBavpw9AAC3J+4AQeIOECTuAEHiDhAk7gBB4g4QJO4AQeIOEPR09gCPamYO\nfw3e3TljFt7Yk8/JvnyMkztAkLgDBIk7QJC4AwSJO0CQuAMEiTtAkLgDBIk7QJC4AwSJO0CQuAME\niTtAkLgDBIk7QJC4AwSJO0CQuAMEiTtAkLgDBIk7QJC4AwSJO0CQuAMEiTtAkLgDBIk7QJC4AwSJ\nO0CQuAMEiTtAkLgDBIk7QJC4AwSJO0CQuAMEiTtAkLgDBIk7QJC4AwSJO0CQuAMEiTtAkLgDBIk7\nQJC4AwSJO0CQuAMEiTtAkLgDBIk7QJC4AwSJO0CQuAMEPZ09APA4Zi57/VXHS679nd3LXH/f++bk\nDhAk7gBB4g4QJO4AQeIOECTuAEHiDhAk7gBB4g4QJO4AQeIOECTuAEHiDhAk7gBB4g4QJO4AQeIO\nECTuAEHiDhAk7gBB4g4QJO4AQeIOECTuAEHiDhAk7gBB4g4QJO4AQeIOECTuAEHiDhAk7gBB4g4Q\nJO4AQeIOECTuAEHiDhAk7gBB4g4QJO4AQeIOECTuAEHiDhAk7gBB4g4QJO4AQeIOECTuAEHiDhAk\n7gBB4g4QJO4AQeIOEDS7e/YMD2lmDgu/u3PGLLyxJx83P49rd4/2R2e/ndwBgsQdIEjcAYLEHSBI\n3AGCxB0gSNwBgsQdIEjcAYLEHSBI3AGCxB0gSNwBgsQdIEjcAYLEHSBI3AGCxB0gSNwBgsQdIEjc\nAYLEHSBI3AGCxB0gSNwBgsQdIEjcAYLEHSBI3AGCxB0gSNwBgsQdIEjcAYLEHSBI3AGCxB0gSNwB\ngsQdIEjcAYLEHSBI3AGCxB0gSNwBgsQdIEjcAYLEHSBI3AGCxB0gSNwBgsQdIEjcAYLEHSBI3AGC\nZnfPnuEm5uWl8SB3Yp+f5+wZbm1mDu/Q7uae8yp/WRPeffJ3w8kdIEjcAYLEHSBI3AGCxB0gSNwB\ngsQdIEjcAYLEHSBI3AGCxB0gSNwBgsQdIEjcAYLEHSBI3AGCxB0gSNwBgsQdIEjcAYLEHSBI3AGC\nxB0gSNwBgsQdIEjcAYLEHSBI3AGCxB0gSNwBgsQdIEjcAYLEHSBI3AGCxB0gSNwBgsQdIEjcAYLE\nHSBI3AGCxB0gSNwBgsQdIEjcAYLEHSBI3AGCxB0gSNwBgmZ3z57hat/+/Lq/oQHe/f76ff73PZzc\nAYLEHSBI3AGCxB0gSNwBgu7yaxkA/s3JHSBI3AGCxB0gSNwBgsQdIEjcAYLEHSBI3AGCxB0gSNwB\ngsQdIEjcAYLEHSBI3AGCxB0gSNwBgsQdIEjcAYLEHSBI3AGCxB0gSNwBgsQdIOgV4OM86f3V2zsA\nAAAASUVORK5CYII=\n",
      "text/plain": [
       "<matplotlib.figure.Figure at 0x8198cc0>"
      ]
     },
     "metadata": {},
     "output_type": "display_data"
    },
    {
     "data": {
      "image/png": "iVBORw0KGgoAAAANSUhEUgAAAXcAAAD8CAYAAACMwORRAAAABHNCSVQICAgIfAhkiAAAAAlwSFlz\nAAALEgAACxIB0t1+/AAABCBJREFUeJzt28FtU0EUQFE/lI6ggHRBOYhy6CIFQE0vi2T3EZKjhB9f\nn7P//k8z46tZ2LO7FwBavpw9AADvT9wBgsQdIEjcAYLEHSBI3AGCxB0gSNwBgsQdIOjh7AHu1cwc\n/hq8u3PGLLywJ5+TfXkbN3eAIHEHCBJ3gCBxBwgSd4AgcQcIEneAIHEHCBJ3gCBxBwgSd4AgcQcI\nEneAIHEHCBJ3gCBxBwgSd4AgcQcIEneAIHEHCBJ3gCBxBwgSd4AgcQcIEneAIHEHCBJ3gCBxBwgS\nd4AgcQcIEneAIHEHCBJ3gCBxBwgSd4AgcQcIEneAIHEHCBJ3gCBxBwgSd4AgcQcIEneAIHEHCBJ3\ngCBxBwgSd4AgcQcIEneAIHEHCBJ3gCBxBwgSd4AgcQcIejh7AOB+zFz2+qeOj1z7ObuXuf69t83N\nHSBI3AGCxB0gSNwBgsQdIEjcAYLEHSBI3AGCxB0gSNwBgsQdIEjcAYLEHSBI3AGCxB0gSNwBgsQd\nIEjcAYLEHSBI3AGCxB0gSNwBgsQdIEjcAYLEHSBI3AGCxB0gSNwBgsQdIEjcAYLEHSBI3AGCxB0g\nSNwBgsQdIEjcAYLEHSBI3AGCxB0gSNwBgsQdIEjcAYLEHSBI3AGCxB0gSNwBgsQdIEjcAYLEHSBI\n3AGCxB0gSNwBgsQdIGh29+wZ7tLMHBZ+d+eMWXhhT95ufh7X7hbtj85+u7kDBIk7QJC4AwSJO0CQ\nuAMEiTtAkLgDBIk7QJC4AwSJO0CQuAMEiTtAkLgDBIk7QJC4AwSJO0CQuAMEiTtAkLgDBIk7QJC4\nAwSJO0CQuAMEiTtAkLgDBIk7QJC4AwSJO0CQuAMEiTtAkLgDBIk7QJC4AwSJO0CQuAMEiTtAkLgD\nBIk7QJC4AwSJO0CQuAMEiTtAkLgDBIk7QJC4AwSJO0CQuAMEiTtAkLgDBIk7QJC4AwSJO0CQuAME\nze6ePcNdmpnDwu/unDHLR5qnJwfsP9nHx/c/P385p7z65N9XN3eAIHEHCBJ3gCBxBwgSd4AgcQcI\nEneAIHEHCBJ3gCBxBwgSd4AgcQcIEneAIHEHCBJ3gCBxBwgSd4AgcQcIEneAIHEHCBJ3gCBxBwgS\nd4AgcQcIEneAIHEHCBJ3gCBxBwgSd4AgcQcIEneAIHEHCBJ3gCBxBwgSd4AgcQcIEneAIHEHCBJ3\ngCBxBwgSd4AgcQcIEneAIHEHCBJ3gCBxBwgSd4AgcQcImt09e4arffvz6/aGBnj1++v3+eh3uLkD\nBIk7QJC4AwSJO0CQuAME3eSvZQD4Nzd3gCBxBwgSd4AgcQcIEneAIHEHCBJ3gCBxBwgSd4AgcQcI\nEneAIHEHCBJ3gCBxBwgSd4AgcQcIEneAIHEHCBJ3gCBxBwgSd4AgcQcIEneAoGfW4zzpGX52KgAA\nAABJRU5ErkJggg==\n",
      "text/plain": [
       "<matplotlib.figure.Figure at 0x82cebe0>"
      ]
     },
     "metadata": {},
     "output_type": "display_data"
    },
    {
     "data": {
      "image/png": "iVBORw0KGgoAAAANSUhEUgAAAXcAAAD8CAYAAACMwORRAAAABHNCSVQICAgIfAhkiAAAAAlwSFlz\nAAALEgAACxIB0t1+/AAABBJJREFUeJzt28FtFEEQQNEtREYQgLMgHEQ4ZOEAIKbyAd/WsgSyae/f\n9xLY0nTPVx1mZ3cvALR8Oj0AAG9P3AGCxB0gSNwBgsQdIEjcAYLEHSBI3AGCxB0g6PPpAe7VzFz9\nNXh358Qs/OFMPibn8m9s7gBB4g4QJO4AQeIOECTuAEHiDhAk7gBB4g4QJO4AQeIOECTuAEHiDhAk\n7gBB4g4QJO4AQeIOECTuAEHiDhAk7gBB4g4QJO4AQeIOECTuAEHiDhAk7gBB4g4QJO4AQeIOECTu\nAEHiDhAk7gBB4g4QJO4AQeIOECTuAEHiDhAk7gBB4g4QJO4AQeIOECTuAEHiDhAk7gBB4g4QJO4A\nQeIOECTuAEHiDhAk7gBB4g4QJO4AQeIOECTuAEHiDhAk7gBB4g4QJO4AQeIOECTuAEHiDhAk7gBB\n4g4QJO4AQeIOECTuAEHiDhAk7gBB4g4QJO4AQeIOECTuAEHiDhAk7gBB4g4QJO4AQeIOECTuAEHi\nDhAk7gBB4g4QJO4AQeIOECTuAEHiDhAk7gBB4g4QJO4AQeIOECTuAEHiDhAk7gBB4g4QJO4AQeIO\nECTuAEHiDhAk7gBB4g4QJO4AQeIOECTuAEHiDhAk7gBB4g4QJO4AQeIOECTuAEHiDhA0u3t6hrs0\nM1cPfnfnxCxFM5djF3v3cnfnOD+u7/Mt2u+dd9DmDhAk7gBB4g4QJO4AQeIOECTuAEHiDhAk7gBB\n4g4QJO4AQeIOECTuAEHiDhAk7gBB4g4QJO4AQeIOECTuAEHiDhAk7gBB4g4QJO4AQeIOECTuAEHi\nDhAk7gBB4g4QJO4AQeIOECTuAEHiDhAk7gBB4g4QJO4AQeIOECTuAEHiDhAk7gBB4g4QJO4AQeIO\nECTuAEHiDhAk7gBB4g4QJO4AQeIOECTuAEHiDhAk7gBB4g4QJO4AQeIOEDS7e3qGuzQzVw9+d+fE\nLO9pHh9dsP9kHx7e/v68cE959sHfV5s7QJC4AwSJO0CQuAMEiTtAkLgDBIk7QJC4AwSJO0CQuAME\niTtAkLgDBIk7QJC4AwSJO0CQuAMEiTtAkLgDBIk7QJC4AwSJO0CQuAMEiTtAkLgDBIk7QJC4AwSJ\nO0CQuAMEiTtAkLgDBIk7QJC4AwSJO0CQuAMEiTtAkLgDBIk7QJC4AwSJO0CQuAMEiTtAkLgDBIk7\nQJC4AwSJO0CQuAMEiTtAkLgDBM3unp7hr339/fP2hgZ49uvLt3nv37C5AwSJO0CQuAMEiTtAkLgD\nBN3k1zIAvM7mDhAk7gBB4g4QJO4AQeIOECTuAEHiDhAk7gBB4g4QJO4AQeIOECTuAEHiDhAk7gBB\n4g4QJO4AQeIOECTuAEHiDhAk7gBB4g4QJO4AQeIOEPQEdQY255ldK4cAAAAASUVORK5CYII=\n",
      "text/plain": [
       "<matplotlib.figure.Figure at 0x83cee48>"
      ]
     },
     "metadata": {},
     "output_type": "display_data"
    },
    {
     "data": {
      "image/png": "iVBORw0KGgoAAAANSUhEUgAAAXcAAAD8CAYAAACMwORRAAAABHNCSVQICAgIfAhkiAAAAAlwSFlz\nAAALEgAACxIB0t1+/AAABAZJREFUeJzt28FNw0AQQNEsSkdQAF1QDqIcukgBUNNwgFskRKJETj7v\n3e0deeWvPdhrZnYAtDxsPQAAlyfuAEHiDhAk7gBB4g4QJO4AQeIOECTuAEHiDhC033qA/2qtdfRr\n8MysLWbhmz25TfblPE7uAEHiDhAk7gBB4g4QJO4AQeIOECTuAEHiDhAk7gBB4g4QJO4AQeIOECTu\nAEHiDhAk7gBB4g4QJO4AQeIOECTuAEHiDhAk7gBB4g4QJO4AQeIOECTuAEHiDhAk7gBB4g4QJO4A\nQeIOECTuAEHiDhAk7gBB4g4QJO4AQeIOECTuAEHiDhAk7gBB4g4QJO4AQeIOECTuAEHiDhAk7gBB\n4g4QJO4AQeIOECTuAEHiDhAk7gBB4g4QJO4AQeIOECTuAEHiDhAk7gBB4g4QJO4AQeIOECTuAEHi\nDhAk7gBB4g4QJO4AQeIOECTuAEHiDhAk7gBB4g4QJO4AQeIOECTuAEHiDhAk7gBB4g4QJO4AQeIO\nECTuAEHiDhAk7gBB4g4QJO4AQeIOECTuAEHiDhAk7gBB4g4QJO4AQeIOECTuAEHiDhAk7gBB4g4Q\nJO4AQeIOECTuAEHiDhAk7gBB4g4QJO4AQeIOECTuAEHiDhAk7gBB4g4QJO4AQeIOELTfegC4hrV2\nc/pVx5ecc5+Z3Tp9bbgsJ3eAIHEHCBJ3gCBxBwgSd4AgcQcIEneAIHEHCBJ3gCBxBwgSd4AgcQcI\nEneAIHEHCBJ3gCBxBwgSd4AgcQcIEneAIHEHCBJ3gCBxBwgSd4AgcQcIEneAIHEHCBJ3gCBxBwgS\nd4AgcQcIEneAIHEHCBJ3gCBxBwgSd4AgcQcIEneAIHEHCBJ3gCBxBwgSd4AgcQcIEneAIHEHCBJ3\ngCBxBwgSd4AgcQcIEneAIHEHCBJ3gCBxBwgSd4CgNTNbz3Cz1tvKPJx5nbXFuutwyDzDWzfPz5ff\n49V5By5utnmn/srJHSBI3AGCxB0gSNwBgsQdIEjcAYLEHSBI3AGCxB0gSNwBgsQdIEjcAYLEHSBI\n3AGCxB0gSNwBgsQdIEjcAYLEHSBI3AGCxB0gSNwBgsQdIEjcAYLEHSBI3AGCxB0gSNwBgsQdIEjc\nAYLEHSBI3AGCxB0gSNwBgsQdIEjcAYLEHSBI3AGCxB0gSNwBgsQdIEjcAYLEHSBI3AGCxB0gSNwB\ngsQdIEjcAYLWzGw9w8mePt/vb2iAHx+PL+vaazi5AwSJO0CQuAMEiTtAkLgDBN3l1zIA/M7JHSBI\n3AGCxB0gSNwBgsQdIEjcAYLEHSBI3AGCxB0gSNwBgsQdIEjcAYLEHSBI3AGCxB0gSNwBgsQdIEjc\nAYLEHSBI3AGCxB0gSNwBgsQdIOgLjmUt7e64qggAAAAASUVORK5CYII=\n",
      "text/plain": [
       "<matplotlib.figure.Figure at 0x98596d8>"
      ]
     },
     "metadata": {},
     "output_type": "display_data"
    },
    {
     "data": {
      "image/png": "iVBORw0KGgoAAAANSUhEUgAAAXcAAAD8CAYAAACMwORRAAAABHNCSVQICAgIfAhkiAAAAAlwSFlz\nAAALEgAACxIB0t1+/AAABAVJREFUeJzt28FNw0AQQNEsSkdQQLqgHEQ5dJECoKbhALdIiKAgJz/v\n3e0deeWvPdhrZnYAtDxsPQAAlyfuAEHiDhAk7gBB4g4QJO4AQeIOECTuAEHiDhC033qAe7XWOvk1\neGbWFrPwxZ5cJ/vyN07uAEHiDhAk7gBB4g4QJO4AQeIOECTuAEHiDhAk7gBB4g4QJO4AQeIOECTu\nAEHiDhAk7gBB4g4QJO4AQeIOECTuAEHiDhAk7gBB4g4QJO4AQeIOECTuAEHiDhAk7gBB4g4QJO4A\nQeIOECTuAEHiDhAk7gBB4g4QJO4AQeIOECTuAEHiDhAk7gBB4g4QJO4AQeIOECTuAEHiDhAk7gBB\n4g4QJO4AQeIOECTuAEHiDhAk7gBB4g4QJO4AQeIOECTuAEHiDhAk7gBB4g4QJO4AQeIOECTuAEHi\nDhAk7gBB4g4QJO4AQeIOECTuAEHiDhAk7gBB4g4QJO4AQeIOECTuAEHiDhAk7gBB4g4QJO4AQeIO\nECTuAEHiDhAk7gBB4g4QJO4AQeIOECTuAEHiDhAk7gBB4g4QJO4AQeIOECTuAEHiDhAk7gBB4g4Q\nJO4AQeIOECTuAEHiDhAk7gBB4g4QJO4AQeIOECTuAEHiDhAk7gBB4g4QJO4AQeIOELTfeoCCtXZz\n/lWnl5x7n5ndOn9d4B44uQMEiTtAkLgDBIk7QJC4AwSJO0CQuAMEiTtAkLgDBIk7QJC4AwSJO0CQ\nuAMEiTtAkLgDBIk7QJC4AwSJO0CQuAMEiTtAkLgDBIk7QJC4AwSJO0CQuAMEiTtAkLgDBIk7QJC4\nAwSJO0CQuAMEiTtAkLgDBIk7QJC4AwSJO0CQuAMEiTtAkLgDBIk7QJC4AwSJO0CQuAMEiTtAkLgD\nBIk7QJC4AwSJO0CQuAMEiTtAkLgDBIk7QJC4AwStmdl6hqu1Xlfm4czLrC3WXcdj5hleuzkcLr/H\nq/MOXNxs8079lpM7QJC4AwSJO0CQuAMEiTtAkLgDBIk7QJC4AwSJO0CQuAMEiTtAkLgDBIk7QJC4\nAwSJO0CQuAMEiTtAkLgDBIk7QJC4AwSJO0CQuAMEiTtAkLgDBIk7QJC4AwSJO0CQuAMEiTtAkLgD\nBIk7QJC4AwSJO0CQuAMEiTtAkLgDBIk7QJC4AwSJO0CQuAMEiTtAkLgDBIk7QJC4AwSJO0CQuAME\niTtAkLgDBK2Z2XqGsz19vN3e0ADf3h+f13+v4eQOECTuAEHiDhAk7gBB4g4QdJNfywDwMyd3gCBx\nBwgSd4AgcQcIEneAIHEHCBJ3gCBxBwgSd4AgcQcIEneAIHEHCBJ3gCBxBwgSd4AgcQcIEneAIHEH\nCBJ3gCBxBwgSd4AgcQcIEneAoE962S3tDPQe6gAAAABJRU5ErkJggg==\n",
      "text/plain": [
       "<matplotlib.figure.Figure at 0x860ebe0>"
      ]
     },
     "metadata": {},
     "output_type": "display_data"
    },
    {
     "data": {
      "image/png": "iVBORw0KGgoAAAANSUhEUgAAAXcAAAD8CAYAAACMwORRAAAABHNCSVQICAgIfAhkiAAAAAlwSFlz\nAAALEgAACxIB0t1+/AAABBlJREFUeJzt28FtU0EUQFE/lI6SAtIF5SDKSRcpgNT0WMDOCMlRwv++\nnLP/nqeZ76tZ2LO7FwBavhw9AAAfT9wBgsQdIEjcAYLEHSBI3AGCxB0gSNwBgsQdIOjh6AH+VzNz\n9dfg3Z0jZuEXZ3JOzuV93NwBgsQdIEjcAYLEHSBI3AGCxB0gSNwBgsQdIEjcAYLEHSBI3AGCxB0g\nSNwBgsQdIEjcAYLEHSBI3AGCxB0gSNwBgsQdIEjcAYLEHSBI3AGCxB0gSNwBgsQdIEjcAYLEHSBI\n3AGCxB0gSNwBgsQdIEjcAYLEHSBI3AGCxB0gSNwBgsQdIEjcAYLEHSBI3AGCxB0gSNwBgsQdIEjc\nAYLEHSBI3AGCxB0gSNwBgsQdIEjcAYLEHSBI3AGCxB0gSNwBgsQdIEjcAYLEHSBI3AGCxB0gSNwB\ngsQdIEjcAYLEHSBI3AGCxB0gSNwBgsQdIEjcAYLEHSBI3AGCxB0gSNwBgsQdIEjcAYLEHSBI3AGC\nxB0gSNwBgsQdIEjcAYLEHSBI3AGCxB0gSNwBgsQdIEjcAYLEHSBI3AGCxB0gSNwBgsQdIEjcAYLE\nHSBI3AGCxB0gSNwBgsQdIEjcAYLEHSBI3AGCxB0gSNwBgsQdIEjcAYLEHSBI3AGCxB0g6OHoAQpm\nLnv7U9eP3Po5u5e5fd2TmnnHHn6sPw5wgrkuu51z5p9xcwcIEneAIHEHCBJ3gCBxBwgSd4AgcQcI\nEneAIHEHCBJ3gCBxBwgSd4AgcQcIEneAIHEHCBJ3gCBxBwgSd4AgcQcIEneAIHEHCBJ3gCBxBwgS\nd4AgcQcIEneAIHEHCBJ3gCBxBwgSd4AgcQcIEneAIHEHCBJ3gCBxBwgSd4AgcQcIEneAIHEHCBJ3\ngCBxBwgSd4AgcQcIEneAIHEHCBJ3gCBxBwgSd4AgcQcIEneAIHEHCBJ3gCBxBwia3T16htOa75PZ\nnP22c8S68/qa2cOz2+fnQ874s81cfw93j3mf74mbO0CQuAMEiTtAkLgDBIk7QJC4AwSJO0CQuAME\niTtAkLgDBIk7QJC4AwSJO0CQuAMEiTtAkLgDBIk7QJC4AwSJO0CQuAMEiTtAkLgDBIk7QJC4AwSJ\nO0CQuAMEiTtAkLgDBIk7QJC4AwSJO0CQuAMEiTtAkLgDBIk7QJC4AwSJO0CQuAMEiTtAkLgDBIk7\nQJC4AwSJO0CQuAMEiTtAkLgDBIk7QJC4AwTN7h49w82e3l7ub2iA3348fp3PXsPNHSBI3AGCxB0g\nSNwBgsQdIOgufy0DwN+5uQMEiTtAkLgDBIk7QJC4AwSJO0CQuAMEiTtAkLgDBIk7QJC4AwSJO0CQ\nuAMEiTtAkLgDBIk7QJC4AwSJO0CQuAMEiTtAkLgDBIk7QJC4AwT9BIJmM+1z0w0ZAAAAAElFTkSu\nQmCC\n",
      "text/plain": [
       "<matplotlib.figure.Figure at 0x857eb00>"
      ]
     },
     "metadata": {},
     "output_type": "display_data"
    },
    {
     "data": {
      "image/png": "iVBORw0KGgoAAAANSUhEUgAAAXcAAAD8CAYAAACMwORRAAAABHNCSVQICAgIfAhkiAAAAAlwSFlz\nAAALEgAACxIB0t1+/AAABApJREFUeJzt28FNHEEURdEqi4xMAGThcBDhOAsCMDF9FniHZQmEVT3X\n5yTQT12jq1r07JlZALR8Oz0AgK8n7gBB4g4QJO4AQeIOECTuAEHiDhAk7gBB4g4QdHd6wP9q7/3u\nr8Ezs09s4Y0zuSbn8jlu7gBB4g4QJO4AQeIOECTuAEHiDhAk7gBB4g4QJO4AQeIOECTuAEHiDhAk\n7gBB4g4QJO4AQeIOECTuAEHiDhAk7gBB4g4QJO4AQeIOECTuAEHiDhAk7gBB4g4QJO4AQeIOECTu\nAEHiDhAk7gBB4g4QJO4AQeIOECTuAEHiDhAk7gBB4g4QJO4AQeIOECTuAEHiDhAk7gBB4g4QJO4A\nQeIOECTuAEHiDhAk7gBB4g4QJO4AQeIOECTuAEHiDhAk7gBB4g4QJO4AQeIOECTuAEHiDhAk7gBB\n4g4QJO4AQeIOECTuAEHiDhAk7gBB4g4QJO4AQeIOECTuAEHiDhAk7gBB4g4QJO4AQeIOECTuAEHi\nDhAk7gBB4g4QJO4AQeIOECTuAEHiDhAk7gBB4g4QJO4AQeIOECTuAEHiDhAk7gBB4g4QJO4AQeIO\nECTuAEHiDhAk7gBB4g4QJO4AQeIOECTuAEHiDhAk7gBB4g4QJO4AQeIOECTuAEHiDhB0d3oArLXW\n2ntOT/jjgAvsWjP79ARuj5s7QJC4AwSJO0CQuAMEiTtAkLgDBIk7QJC4AwSJO0CQuAMEiTtAkLgD\nBIk7QJC4AwSJO0CQuAMEiTtAkLgDBIk7QJC4AwSJO0CQuAMEiTtAkLgDBIk7QJC4AwSJO0CQuAME\niTtAkLgDBIk7QJC4AwSJO0CQuAMEiTtAkLgDBIk7QJC4AwSJO0CQuAMEiTtAkLgDBIk7QJC4AwSJ\nO0CQuAMEiTtAkLgDBIk7QJC4AwSJO0CQuAMEiTtA0J6Z0xsuaz/tzMuZx9knnrufnzPv8Orm4eHI\nGX/E3uvI72FmXf7dfDU3d4AgcQcIEneAIHEHCBJ3gCBxBwgSd4AgcQcIEneAIHEHCBJ3gCBxBwgS\nd4AgcQcIEneAIHEHCBJ3gCBxBwgSd4AgcQcIEneAIHEHCBJ3gCBxBwgSd4AgcQcIEneAIHEHCBJ3\ngCBxBwgSd4AgcQcIEneAIHEHCBJ3gCBxBwgSd4AgcQcIEneAIHEHCBJ3gCBxBwgSd4AgcQcIEneA\nIHEHCBJ3gCBxBwjaM3N6w4fdv/y8vdEAv/36/mP/62e4uQMEiTtAkLgDBIk7QJC4AwTd5NcyAPyd\nmztAkLgDBIk7QJC4AwSJO0CQuAMEiTtAkLgDBIk7QJC4AwSJO0CQuAMEiTtAkLgDBIk7QJC4AwSJ\nO0CQuAMEiTtAkLgDBIk7QJC4AwSJO0DQK5hdLe0QctJhAAAAAElFTkSuQmCC\n",
      "text/plain": [
       "<matplotlib.figure.Figure at 0x852ae80>"
      ]
     },
     "metadata": {},
     "output_type": "display_data"
    },
    {
     "data": {
      "image/png": "iVBORw0KGgoAAAANSUhEUgAAAXcAAAD8CAYAAACMwORRAAAABHNCSVQICAgIfAhkiAAAAAlwSFlz\nAAALEgAACxIB0t1+/AAABClJREFUeJzt29FtE1EQQFEPoiMoIF1QDqIcukgBUNPkg/wZIbAS1r57\nTgMezb69eh/r2d0LAC0fjh4AgLcn7gBB4g4QJO4AQeIOECTuAEHiDhAk7gBB4g4Q9PHoAc5qZq7+\nGry7c8Qs/OKZ3CfP5TZu7gBB4g4QJO4AQeIOECTuAEHiDhAk7gBB4g4QJO4AQeIOECTuAEHiDhAk\n7gBB4g4QJO4AQeIOECTuAEHiDhAk7gBB4g4QJO4AQeIOECTuAEHiDhAk7gBB4g4QJO4AQeIOECTu\nAEHiDhAk7gBB4g4QJO4AQeIOECTuAEHiDhAk7gBB4g4QJO4AQeIOECTuAEHiDhAk7gBB4g4QJO4A\nQeIOECTuAEHiDhAk7gBB4g4QJO4AQeIOECTuAEHiDhA0u3v0DKc0M1eL3905YpZHMt+u9/ao9qvn\n/Te8K7dxcwcIEneAIHEHCBJ3gCBxBwgSd4AgcQcIEneAIHEHCBJ3gCBxBwgSd4AgcQcIEneAIHEH\nCBJ3gCBxBwgSd4AgcQcIEneAIHEHCBJ3gCBxBwgSd4AgcQcIEneAIHEHCBJ3gCBxBwgSd4AgcQcI\nEneAIHEHCBJ3gCBxBwgSd4AgcQcIEneAIHEHCBJ3gCBxBwgSd4AgcQcIEneAIHEHCBJ3gCBxBwgS\nd4AgcQcIEneAIHEHCBJ3gCBxBwia3T16hlOamavF7+4cMctd+M0+eHXmc3HxrtzKzR0gSNwBgsQd\nIEjcAYLEHSBI3AGCxB0gSNwBgsQdIEjcAYLEHSBI3AGCxB0gSNwBgsQdIEjcAYLEHSBI3AGCxB0g\nSNwBgsQdIEjcAYLEHSBI3AGCxB0gSNwBgsQdIEjcAYLEHSBI3AGCxB0gSNwBgsQdIEjcAYLEHSBI\n3AGCxB0gSNwBgsQdIEjcAYLEHSBI3AGCxB0gSNwBgsQdIEjcAYLEHSBI3AGCxB0gSNwBgsQdIEjc\nAYLEHSBodvfoGU5pZq4Wv7tzxCzvaZ6fHbD/ZJ+e7v78zFwOOQ+7l7vfzVtzcwcIEneAIHEHCBJ3\ngCBxBwgSd4AgcQcIEneAIHEHCBJ3gCBxBwgSd4AgcQcIEneAIHEHCBJ3gCBxBwgSd4AgcQcIEneA\nIHEHCBJ3gCBxBwgSd4AgcQcIEneAIHEHCBJ3gCBxBwgSd4AgcQcIEneAIHEHCBJ3gCBxBwgSd4Ag\ncQcIEneAIHEHCBJ3gCBxBwgSd4AgcQcIEneAIHEHCBJ3gCBxBwgSd4Cg2d2jZ/hnn39+f7yhAV79\n+PRl3vs33NwBgsQdIEjcAYLEHSBI3AGCHvJrGQD+zM0dIEjcAYLEHSBI3AGCxB0gSNwBgsQdIEjc\nAYLEHSBI3AGCxB0gSNwBgsQdIEjcAYLEHSBI3AGCxB0gSNwBgsQdIEjcAYLEHSBI3AGCxB0g6AUb\ngEXjJTFZawAAAABJRU5ErkJggg==\n",
      "text/plain": [
       "<matplotlib.figure.Figure at 0x86ad208>"
      ]
     },
     "metadata": {},
     "output_type": "display_data"
    },
    {
     "data": {
      "image/png": "iVBORw0KGgoAAAANSUhEUgAAAXcAAAD8CAYAAACMwORRAAAABHNCSVQICAgIfAhkiAAAAAlwSFlz\nAAALEgAACxIB0t1+/AAABCpJREFUeJzt29Ft1FAQQFEPoiMoIF1QDqIcukgBUNPkJ3+LEEQbzF6f\n08COnv2u5mM9u3sA0PLh7AEAuD9xBwgSd4AgcQcIEneAIHEHCBJ3gCBxBwgSd4Cgj2cPcFUzc/Np\n8O7OGbMUzRynfXq9e3iOd+SuvI3NHSBI3AGCxB0gSNwBgsQdIEjcAYLEHSBI3AGCxB0gSNwBgsQd\nIEjcAYLEHSBI3AGCxB0gSNwBgsQdIEjcAYLEHSBI3AGCxB0gSNwBgsQdIEjcAYLEHSBI3AGCxB0g\nSNwBgsQdIEjcAYLEHSBI3AGCxB0gSNwBgsQdIEjcAYLEHSBI3AGCxB0gSNwBgsQdIEjcAYLEHSBI\n3AGCxB0gSNwBgsQdIEjcAYLEHSBI3AGCxB0gSNwBgsQdIEjcAYJmd8+e4ZJm5ubgd3fOmOWRzLfb\nc3tU+9Xz/hPuytvY3AGCxB0gSNwBgsQdIEjcAYLEHSBI3AGCxB0gSNwBgsQdIEjcAYLEHSBI3AGC\nxB0gSNwBgsQdIEjcAYLEHSBI3AGCxB0gSNwBgsQdIEjcAYLEHSBI3AGCxB0gSNwBgsQdIEjcAYLE\nHSBI3AGCxB0gSNwBgsQdIEjcAYLEHSBI3AGCxB0gSNwBgsQdIEjcAYLEHSBI3AGCxB0gSNwBgsQd\nIEjcAYLEHSBI3AGCxB0gSNwBgsQdIEjcAYJmd8+e4ZJm5ubgd3fOmOW/8Ivz4NWV34vDXXkrmztA\nkLgDBIk7QJC4AwSJO0CQuAMEiTtAkLgDBIk7QJC4AwSJO0CQuAMEiTtAkLgDBIk7QJC4AwSJO0CQ\nuAMEiTtAkLgDBIk7QJC4AwSJO0CQuAMEiTtAkLgDBIk7QJC4AwSJO0CQuAMEiTtAkLgDBIk7QJC4\nAwSJO0CQuAMEiTtAkLgDBIk7QJC4AwSJO0CQuAMEiTtAkLgDBIk7QJC4AwSJO0CQuAMEiTtAkLgD\nBIk7QJC4AwSJO0DQ7O7ZM1zSzNwc/O7OGbO8p3l+9oL9I/v0lHt/juM6d+XebO4AQeIOECTuAEHi\nDhAk7gBB4g4QJO4AQeIOECTuAEHiDhAk7gBB4g4QJO4AQeIOECTuAEHiDhAk7gBB4g4QJO4AQeIO\nECTuAEHiDhAk7gBB4g4QJO4AQeIOECTuAEHiDhAk7gBB4g4QJO4AQeIOECTuAEHiDhAk7gBB4g4Q\nJO4AQeIOECTuAEHiDhAk7gBB4g4QJO4AQeIOECTuAEHiDhAk7gBB4g4QNLt79gx/7fPP7483NMCr\nH5++zHv/hs0dIEjcAYLEHSBI3AGCxB0g6CH/LQPA79ncAYLEHSBI3AGCxB0gSNwBgsQdIEjcAYLE\nHSBI3AGCxB0gSNwBgsQdIEjcAYLEHSBI3AGCxB0gSNwBgsQdIEjcAYLEHSBI3AGCxB0gSNwBgl4A\njGJF49IXemUAAAAASUVORK5CYII=\n",
      "text/plain": [
       "<matplotlib.figure.Figure at 0x81aa9e8>"
      ]
     },
     "metadata": {},
     "output_type": "display_data"
    },
    {
     "ename": "TypeError",
     "evalue": "unsupported operand type(s) for /: 'str' and 'int'",
     "output_type": "error",
     "traceback": [
      "\u001b[0;31m---------------------------------------------------------------------------\u001b[0m",
      "\u001b[0;31mTypeError\u001b[0m                                 Traceback (most recent call last)",
      "\u001b[0;32m<ipython-input-20-8e5861f140fa>\u001b[0m in \u001b[0;36m<module>\u001b[0;34m()\u001b[0m\n\u001b[1;32m     14\u001b[0m     \u001b[0mgame\u001b[0m\u001b[1;33m.\u001b[0m\u001b[0mappend\u001b[0m\u001b[1;33m(\u001b[0m\u001b[0mstate\u001b[0m\u001b[1;33m)\u001b[0m\u001b[1;33m\u001b[0m\u001b[0m\n\u001b[1;32m     15\u001b[0m     \u001b[0miter\u001b[0m \u001b[1;33m+=\u001b[0m \u001b[1;36m1\u001b[0m\u001b[1;33m\u001b[0m\u001b[0m\n\u001b[0;32m---> 16\u001b[0;31m \u001b[0mprint_game_sequence\u001b[0m\u001b[1;33m(\u001b[0m\u001b[0mgame\u001b[0m\u001b[1;33m)\u001b[0m\u001b[1;33m\u001b[0m\u001b[0m\n\u001b[0m",
      "\u001b[0;32m<ipython-input-6-1772415fc1e4>\u001b[0m in \u001b[0;36mprint_game_sequence\u001b[0;34m(game)\u001b[0m\n\u001b[1;32m     28\u001b[0m                 \u001b[1;31m# to draw in the correct order\u001b[0m\u001b[1;33m\u001b[0m\u001b[1;33m\u001b[0m\u001b[0m\n\u001b[1;32m     29\u001b[0m                 \u001b[0mhs\u001b[0m\u001b[1;33m.\u001b[0m\u001b[0mappend\u001b[0m\u001b[1;33m(\u001b[0m\u001b[0midx\u001b[0m\u001b[1;33m+\u001b[0m\u001b[1;36m1\u001b[0m\u001b[1;33m)\u001b[0m\u001b[1;33m\u001b[0m\u001b[0m\n\u001b[0;32m---> 30\u001b[0;31m                 \u001b[0mw\u001b[0m \u001b[1;33m=\u001b[0m \u001b[1;36m0.2\u001b[0m \u001b[1;33m+\u001b[0m \u001b[1;36m1.6\u001b[0m\u001b[1;33m*\u001b[0m\u001b[1;33m(\u001b[0m\u001b[0mbar\u001b[0m\u001b[1;33m[\u001b[0m\u001b[0midx\u001b[0m\u001b[1;33m]\u001b[0m\u001b[1;33m/\u001b[0m\u001b[0mN\u001b[0m\u001b[1;33m)\u001b[0m\u001b[1;33m\u001b[0m\u001b[0m\n\u001b[0m\u001b[1;32m     31\u001b[0m                 \u001b[0mws\u001b[0m\u001b[1;33m.\u001b[0m\u001b[0mappend\u001b[0m\u001b[1;33m(\u001b[0m\u001b[0mw\u001b[0m\u001b[1;33m)\u001b[0m\u001b[1;33m\u001b[0m\u001b[0m\n\u001b[1;32m     32\u001b[0m                 \u001b[0mcs\u001b[0m\u001b[1;33m.\u001b[0m\u001b[0mappend\u001b[0m\u001b[1;33m(\u001b[0m\u001b[0mcolours\u001b[0m\u001b[1;33m[\u001b[0m\u001b[0mbar\u001b[0m\u001b[1;33m[\u001b[0m\u001b[0midx\u001b[0m\u001b[1;33m]\u001b[0m\u001b[1;33m-\u001b[0m\u001b[1;36m1\u001b[0m\u001b[1;33m]\u001b[0m\u001b[1;33m)\u001b[0m\u001b[1;33m\u001b[0m\u001b[0m\n",
      "\u001b[0;31mTypeError\u001b[0m: unsupported operand type(s) for /: 'str' and 'int'"
     ]
    }
   ],
   "source": [
    "for state in all_states:\n",
    "    a, _ = maximizeQ(Q, state)\n",
    "\n",
    "# solve the Tower of Hanoi\n",
    "state = [[i for i in range(N, 0, -1)],[],[]]\n",
    "stop_at = pow(2, N+1)   # optimal player takes ~ half this time\n",
    "iter = 0\n",
    "game = [state]\n",
    "while state != FINAL_STATE and iter < stop_at:\n",
    "    print(\"{}: {}\".format(iter, state))\n",
    "    # find the maximizing action\n",
    "    action, _ = maximizeQ(Q, state)\n",
    "    state, _ = transition(state, action)\n",
    "    game.append(state)\n",
    "    iter += 1\n",
    "print_game_sequence(game)"
   ]
  },
  {
   "cell_type": "markdown",
   "metadata": {},
   "source": [
    "As a final note, let me tell you a little story of mine. When I started implementing Q-learning for the first time I had already implemented value iteration and policy iteration, and got them working almost effortlessly. I mean, of course I had to code them from scratch and whatnot, but they worked.\n",
    "\n",
    "When I got to Q-learning I read about it and then coded it. When I ran it, the results were disastrous! The $Q$ values it found were so bad that the algorithm even thought that in some states, the best actions were illegal ones. I inspected my code and read more about it online, only to suspect that I might've been victim of some problem regarding a bias. I tried to correct it by randomizing part a certain part of the simulation. It didn't work but the results looked a bit better.\n",
    "\n",
    "I spent several hours reading resources, reading the code, and tweaking several parameters. It didn't work. Around this time I found a minor bug and corrected it.\n",
    "\n",
    "I read about Double Q-learning (a modification of Q-learning that deals with some bias [which I thought I was being a victim of]) and thus I implemented the Double Q-learning, hoping it would work! It didn't!!! Some more hours later, I was feeling desperate! And then, all of a sudden, I realized that I had screwed up big-time! When I randomized a part of the algorithm, I was shuffling the list of all actions... it just so happens that said shuffling was messing with my updates of the $Q$ values. I removed that shuffle and the algorithm worked... Looking back, I understood that my problem was that I tried using a \"_hack_\" for the $Q$ values of terminal states, instead of treating them as I described above.\n",
    "\n",
    "Only after reading half of the content available in the Internet and treating the terminal states decently, only then, the algorithm was capable of learning. As soon as I found the shuffling bug everything fell in place."
   ]
  },
  {
   "cell_type": "markdown",
   "metadata": {},
   "source": [
    "<a id=\"doubleq_learning\"></a>\n",
    "### Double Q-learning"
   ]
  },
  {
   "cell_type": "code",
   "execution_count": null,
   "metadata": {
    "collapsed": true
   },
   "outputs": [],
   "source": []
  }
 ],
 "metadata": {
  "kernelspec": {
   "display_name": "Python 3",
   "language": "python",
   "name": "python3"
  },
  "language_info": {
   "codemirror_mode": {
    "name": "ipython",
    "version": 3
   },
   "file_extension": ".py",
   "mimetype": "text/x-python",
   "name": "python",
   "nbconvert_exporter": "python",
   "pygments_lexer": "ipython3",
   "version": "3.6.0"
  }
 },
 "nbformat": 4,
 "nbformat_minor": 2
}
