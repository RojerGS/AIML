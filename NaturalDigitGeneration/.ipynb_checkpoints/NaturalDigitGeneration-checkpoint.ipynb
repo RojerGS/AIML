{
 "cells": [
  {
   "cell_type": "markdown",
   "metadata": {},
   "source": [
    "# Required setup\n",
    "\n",
    "Imports, loading the data, etc"
   ]
  },
  {
   "cell_type": "code",
   "execution_count": 1,
   "metadata": {},
   "outputs": [],
   "source": [
    "import torch\n",
    "import torchvision\n",
    "import torchvision.transforms as transforms"
   ]
  },
  {
   "cell_type": "code",
   "execution_count": 2,
   "metadata": {},
   "outputs": [],
   "source": [
    "transform = transforms.Compose(\n",
    "    [transforms.ToTensor()])#,\n",
    "trainset = torchvision.datasets.MNIST(root='./data', train=True,\n",
    "                                        download=True, transform=transform)\n",
    "trainloader = torch.utils.data.DataLoader(trainset, batch_size=4,\n",
    "                                          shuffle=True, num_workers=1)\n",
    "\n",
    "testset = torchvision.datasets.MNIST(root='./data', train=False,\n",
    "                                       download=True, transform=transform)\n",
    "testloader = torch.utils.data.DataLoader(testset, batch_size=4,\n",
    "                                         shuffle=False, num_workers=1)\n",
    "\n",
    "classes = ('0', '1', '2', '3',\n",
    "           '4', '5', '6', '7', '8', '9')"
   ]
  },
  {
   "cell_type": "code",
   "execution_count": 3,
   "metadata": {},
   "outputs": [
    {
     "name": "stdout",
     "output_type": "stream",
     "text": [
      "(32, 122, 3)\n"
     ]
    },
    {
     "data": {
      "text/plain": [
       "<Figure size 640x480 with 1 Axes>"
      ]
     },
     "metadata": {},
     "output_type": "display_data"
    },
    {
     "name": "stdout",
     "output_type": "stream",
     "text": [
      "    0     1     4     8\n"
     ]
    }
   ],
   "source": [
    "import matplotlib.pyplot as plt\n",
    "import numpy as np\n",
    "\n",
    "# functions to show an image\n",
    "\n",
    "\n",
    "def imshow(img):\n",
    "    npimg = img.numpy()\n",
    "    print(np.transpose(npimg, (1,2,0)).shape)\n",
    "    plt.imshow(np.transpose(npimg, (1,2,0)))\n",
    "    plt.show()\n",
    "\n",
    "\n",
    "# get some random training images\n",
    "dataiter = iter(trainloader)\n",
    "images, labels = dataiter.next()\n",
    "\n",
    "# show images\n",
    "imshow(torchvision.utils.make_grid(images))\n",
    "# print labels\n",
    "print(' '.join('%5s' % classes[labels[j]] for j in range(4)))"
   ]
  },
  {
   "cell_type": "markdown",
   "metadata": {},
   "source": [
    "# Encoder\n",
    "\n",
    "The neural network that is used to encode the images and used to train the decoder"
   ]
  },
  {
   "cell_type": "code",
   "execution_count": 4,
   "metadata": {},
   "outputs": [],
   "source": [
    "import torch.nn as nn\n",
    "import torch.nn.functional as F\n",
    "\n",
    "use_gpu = torch.cuda.is_available()\n",
    "\n",
    "class Net(nn.Module):\n",
    "    def __init__(self):\n",
    "        super(Net, self).__init__()\n",
    "        self.linear1 = nn.Linear(28*28, 600)\n",
    "        self.linear2 = nn.Linear(600, 350)\n",
    "        self.linear3 = nn.Linear(350, 100)\n",
    "        self.linear4 = nn.Linear(100, 10)\n",
    "        \n",
    "    def forward(self, x):\n",
    "        x = F.relu(self.linear1(x))\n",
    "        x = F.relu(self.linear2(x))\n",
    "        x = F.relu(self.linear3(x))\n",
    "        x = self.linear4(x)\n",
    "        return x\n",
    "\n",
    "\"\"\"\n",
    "class Net(nn.Module):\n",
    "    def __init__(self):\n",
    "        super(Net, self).__init__()\n",
    "        self.conv1 = nn.Conv2d(1, 6, 3, padding=1) \n",
    "        self.pool = nn.MaxPool2d(2, 2)\n",
    "        self.conv2 = nn.Conv2d(6, 16, 3, padding=1)\n",
    "        self.pool = nn.MaxPool2d(2, 2)\n",
    "        self.fc1 = nn.Linear(16 * 7 * 7, 120)\n",
    "        self.fc2 = nn.Linear(120, 84)\n",
    "        self.fc3 = nn.Linear(84, 10)\n",
    "\n",
    "    def forward(self, x):\n",
    "        x = self.pool(F.relu(self.conv1(x)))\n",
    "        x = self.pool(F.relu(self.conv2(x)))\n",
    "        x = x.view(-1, 16 * 7 * 7)\n",
    "        x = F.relu(self.fc1(x))\n",
    "        x = F.relu(self.fc2(x))\n",
    "        x = self.fc3(x)\n",
    "        return x\n",
    "\"\"\"\n",
    "\n",
    "net = Net()\n",
    "\n",
    "if use_gpu:\n",
    "    net = net.cuda()"
   ]
  },
  {
   "cell_type": "code",
   "execution_count": 5,
   "metadata": {},
   "outputs": [],
   "source": [
    "import torch.optim as optim\n",
    "criterion = nn.CrossEntropyLoss()\n",
    "optimizer = optim.SGD(net.parameters(), lr=0.001, momentum=0.9)"
   ]
  },
  {
   "cell_type": "markdown",
   "metadata": {},
   "source": [
    "## Either train your network or load it from a file"
   ]
  },
  {
   "cell_type": "markdown",
   "metadata": {},
   "source": [
    "### Train"
   ]
  },
  {
   "cell_type": "code",
   "execution_count": 6,
   "metadata": {},
   "outputs": [
    {
     "name": "stdout",
     "output_type": "stream",
     "text": [
      "[1,   100] loss: 2.304\n",
      "[1,   200] loss: 2.293\n",
      "[1,   300] loss: 2.284\n",
      "[1,   400] loss: 2.274\n",
      "[1,   500] loss: 2.255\n",
      "[1,   600] loss: 2.222\n",
      "[1,   700] loss: 2.188\n",
      "[1,   800] loss: 2.124\n",
      "[1,   900] loss: 2.011\n",
      "[1,  1000] loss: 1.772\n",
      "[1,  1100] loss: 1.532\n",
      "[1,  1200] loss: 1.310\n",
      "[1,  1300] loss: 1.080\n",
      "[1,  1400] loss: 0.960\n",
      "[1,  1500] loss: 0.803\n",
      "[1,  1600] loss: 0.863\n",
      "[1,  1700] loss: 0.662\n",
      "[1,  1800] loss: 0.738\n",
      "[1,  1900] loss: 0.720\n",
      "[1,  2000] loss: 0.657\n",
      "[1,  2100] loss: 0.600\n",
      "[1,  2200] loss: 0.524\n",
      "[1,  2300] loss: 0.600\n",
      "[1,  2400] loss: 0.541\n",
      "[1,  2500] loss: 0.599\n",
      "[1,  2600] loss: 0.594\n",
      "[1,  2700] loss: 0.481\n",
      "[1,  2800] loss: 0.510\n",
      "[1,  2900] loss: 0.499\n",
      "[1,  3000] loss: 0.467\n",
      "[1,  3100] loss: 0.489\n",
      "[1,  3200] loss: 0.431\n",
      "[1,  3300] loss: 0.394\n",
      "[1,  3400] loss: 0.385\n",
      "[1,  3500] loss: 0.442\n",
      "[1,  3600] loss: 0.424\n",
      "[1,  3700] loss: 0.341\n",
      "[1,  3800] loss: 0.387\n",
      "[1,  3900] loss: 0.405\n",
      "[1,  4000] loss: 0.364\n",
      "[1,  4100] loss: 0.373\n",
      "[1,  4200] loss: 0.294\n",
      "[1,  4300] loss: 0.421\n",
      "[1,  4400] loss: 0.297\n",
      "[1,  4500] loss: 0.360\n",
      "[1,  4600] loss: 0.393\n",
      "[1,  4700] loss: 0.391\n",
      "[1,  4800] loss: 0.359\n",
      "[1,  4900] loss: 0.289\n",
      "[1,  5000] loss: 0.344\n",
      "[1,  5100] loss: 0.336\n",
      "[1,  5200] loss: 0.274\n",
      "[1,  5300] loss: 0.276\n",
      "[1,  5400] loss: 0.404\n",
      "[1,  5500] loss: 0.231\n",
      "[1,  5600] loss: 0.310\n",
      "[1,  5700] loss: 0.341\n",
      "[1,  5800] loss: 0.315\n",
      "[1,  5900] loss: 0.252\n",
      "[1,  6000] loss: 0.346\n",
      "[1,  6100] loss: 0.374\n",
      "[1,  6200] loss: 0.258\n",
      "[1,  6300] loss: 0.304\n",
      "[1,  6400] loss: 0.273\n",
      "[1,  6500] loss: 0.321\n",
      "[1,  6600] loss: 0.288\n",
      "[1,  6700] loss: 0.353\n",
      "[1,  6800] loss: 0.310\n",
      "[1,  6900] loss: 0.265\n",
      "[1,  7000] loss: 0.294\n",
      "[1,  7100] loss: 0.273\n",
      "[1,  7200] loss: 0.199\n",
      "[1,  7300] loss: 0.240\n",
      "[1,  7400] loss: 0.287\n",
      "[1,  7500] loss: 0.286\n",
      "[1,  7600] loss: 0.172\n",
      "[1,  7700] loss: 0.327\n",
      "[1,  7800] loss: 0.245\n",
      "[1,  7900] loss: 0.277\n",
      "[1,  8000] loss: 0.169\n",
      "[1,  8100] loss: 0.224\n",
      "[1,  8200] loss: 0.264\n",
      "[1,  8300] loss: 0.266\n",
      "[1,  8400] loss: 0.289\n",
      "[1,  8500] loss: 0.282\n",
      "[1,  8600] loss: 0.256\n",
      "[1,  8700] loss: 0.231\n",
      "[1,  8800] loss: 0.242\n",
      "[1,  8900] loss: 0.287\n",
      "[1,  9000] loss: 0.202\n",
      "[1,  9100] loss: 0.244\n",
      "[1,  9200] loss: 0.170\n",
      "[1,  9300] loss: 0.239\n",
      "[1,  9400] loss: 0.242\n",
      "[1,  9500] loss: 0.244\n",
      "[1,  9600] loss: 0.258\n",
      "[1,  9700] loss: 0.233\n",
      "[1,  9800] loss: 0.210\n",
      "[1,  9900] loss: 0.202\n",
      "[1, 10000] loss: 0.141\n",
      "[1, 10100] loss: 0.254\n",
      "[1, 10200] loss: 0.190\n",
      "[1, 10300] loss: 0.199\n",
      "[1, 10400] loss: 0.184\n",
      "[1, 10500] loss: 0.208\n",
      "[1, 10600] loss: 0.175\n",
      "[1, 10700] loss: 0.142\n",
      "[1, 10800] loss: 0.219\n",
      "[1, 10900] loss: 0.165\n",
      "[1, 11000] loss: 0.199\n",
      "[1, 11100] loss: 0.211\n",
      "[1, 11200] loss: 0.247\n",
      "[1, 11300] loss: 0.190\n",
      "[1, 11400] loss: 0.200\n",
      "[1, 11500] loss: 0.183\n",
      "[1, 11600] loss: 0.139\n",
      "[1, 11700] loss: 0.198\n",
      "[1, 11800] loss: 0.170\n",
      "[1, 11900] loss: 0.147\n",
      "[1, 12000] loss: 0.209\n",
      "[1, 12100] loss: 0.172\n",
      "[1, 12200] loss: 0.213\n",
      "[1, 12300] loss: 0.142\n",
      "[1, 12400] loss: 0.202\n",
      "[1, 12500] loss: 0.182\n",
      "[1, 12600] loss: 0.172\n",
      "[1, 12700] loss: 0.229\n",
      "[1, 12800] loss: 0.159\n",
      "[1, 12900] loss: 0.231\n",
      "[1, 13000] loss: 0.152\n",
      "[1, 13100] loss: 0.208\n",
      "[1, 13200] loss: 0.169\n",
      "[1, 13300] loss: 0.220\n",
      "[1, 13400] loss: 0.121\n",
      "[1, 13500] loss: 0.132\n",
      "[1, 13600] loss: 0.247\n",
      "[1, 13700] loss: 0.154\n",
      "[1, 13800] loss: 0.216\n",
      "[1, 13900] loss: 0.125\n",
      "[1, 14000] loss: 0.170\n",
      "[1, 14100] loss: 0.175\n",
      "[1, 14200] loss: 0.222\n",
      "[1, 14300] loss: 0.203\n",
      "[1, 14400] loss: 0.171\n",
      "[1, 14500] loss: 0.146\n",
      "[1, 14600] loss: 0.161\n",
      "[1, 14700] loss: 0.166\n",
      "[1, 14800] loss: 0.174\n",
      "[1, 14900] loss: 0.114\n",
      "[1, 15000] loss: 0.138\n",
      "[2,   100] loss: 0.148\n",
      "[2,   200] loss: 0.091\n",
      "[2,   300] loss: 0.178\n",
      "[2,   400] loss: 0.129\n",
      "[2,   500] loss: 0.084\n",
      "[2,   600] loss: 0.141\n",
      "[2,   700] loss: 0.105\n",
      "[2,   800] loss: 0.137\n",
      "[2,   900] loss: 0.123\n",
      "[2,  1000] loss: 0.127\n",
      "[2,  1100] loss: 0.160\n",
      "[2,  1200] loss: 0.134\n",
      "[2,  1300] loss: 0.150\n",
      "[2,  1400] loss: 0.130\n",
      "[2,  1500] loss: 0.158\n",
      "[2,  1600] loss: 0.133\n",
      "[2,  1700] loss: 0.145\n",
      "[2,  1800] loss: 0.076\n",
      "[2,  1900] loss: 0.117\n",
      "[2,  2000] loss: 0.106\n",
      "[2,  2100] loss: 0.088\n",
      "[2,  2200] loss: 0.124\n",
      "[2,  2300] loss: 0.226\n",
      "[2,  2400] loss: 0.107\n",
      "[2,  2500] loss: 0.124\n",
      "[2,  2600] loss: 0.110\n",
      "[2,  2700] loss: 0.143\n",
      "[2,  2800] loss: 0.173\n",
      "[2,  2900] loss: 0.152\n",
      "[2,  3000] loss: 0.123\n",
      "[2,  3100] loss: 0.150\n",
      "[2,  3200] loss: 0.128\n",
      "[2,  3300] loss: 0.085\n",
      "[2,  3400] loss: 0.118\n",
      "[2,  3500] loss: 0.147\n",
      "[2,  3600] loss: 0.115\n",
      "[2,  3700] loss: 0.109\n",
      "[2,  3800] loss: 0.194\n",
      "[2,  3900] loss: 0.150\n",
      "[2,  4000] loss: 0.185\n",
      "[2,  4100] loss: 0.109\n",
      "[2,  4200] loss: 0.098\n",
      "[2,  4300] loss: 0.147\n",
      "[2,  4400] loss: 0.104\n",
      "[2,  4500] loss: 0.114\n",
      "[2,  4600] loss: 0.113\n",
      "[2,  4700] loss: 0.095\n",
      "[2,  4800] loss: 0.201\n",
      "[2,  4900] loss: 0.155\n",
      "[2,  5000] loss: 0.116\n",
      "[2,  5100] loss: 0.140\n",
      "[2,  5200] loss: 0.122\n",
      "[2,  5300] loss: 0.193\n",
      "[2,  5400] loss: 0.111\n",
      "[2,  5500] loss: 0.086\n",
      "[2,  5600] loss: 0.137\n",
      "[2,  5700] loss: 0.090\n",
      "[2,  5800] loss: 0.135\n",
      "[2,  5900] loss: 0.102\n",
      "[2,  6000] loss: 0.111\n",
      "[2,  6100] loss: 0.117\n",
      "[2,  6200] loss: 0.102\n",
      "[2,  6300] loss: 0.153\n",
      "[2,  6400] loss: 0.091\n",
      "[2,  6500] loss: 0.129\n",
      "[2,  6600] loss: 0.126\n",
      "[2,  6700] loss: 0.152\n",
      "[2,  6800] loss: 0.083\n",
      "[2,  6900] loss: 0.113\n",
      "[2,  7000] loss: 0.163\n",
      "[2,  7100] loss: 0.074\n",
      "[2,  7200] loss: 0.147\n",
      "[2,  7300] loss: 0.151\n",
      "[2,  7400] loss: 0.148\n",
      "[2,  7500] loss: 0.117\n",
      "[2,  7600] loss: 0.117\n",
      "[2,  7700] loss: 0.117\n",
      "[2,  7800] loss: 0.098\n",
      "[2,  7900] loss: 0.152\n",
      "[2,  8000] loss: 0.066\n",
      "[2,  8100] loss: 0.120\n",
      "[2,  8200] loss: 0.113\n",
      "[2,  8300] loss: 0.104\n",
      "[2,  8400] loss: 0.159\n",
      "[2,  8500] loss: 0.085\n",
      "[2,  8600] loss: 0.184\n",
      "[2,  8700] loss: 0.114\n",
      "[2,  8800] loss: 0.131\n",
      "[2,  8900] loss: 0.072\n",
      "[2,  9000] loss: 0.145\n",
      "[2,  9100] loss: 0.097\n",
      "[2,  9200] loss: 0.087\n",
      "[2,  9300] loss: 0.104\n",
      "[2,  9400] loss: 0.145\n",
      "[2,  9500] loss: 0.087\n",
      "[2,  9600] loss: 0.088\n",
      "[2,  9700] loss: 0.089\n",
      "[2,  9800] loss: 0.099\n",
      "[2,  9900] loss: 0.153\n",
      "[2, 10000] loss: 0.103\n",
      "[2, 10100] loss: 0.168\n",
      "[2, 10200] loss: 0.108\n",
      "[2, 10300] loss: 0.109\n",
      "[2, 10400] loss: 0.140\n",
      "[2, 10500] loss: 0.152\n",
      "[2, 10600] loss: 0.103\n",
      "[2, 10700] loss: 0.099\n",
      "[2, 10800] loss: 0.151\n",
      "[2, 10900] loss: 0.209\n",
      "[2, 11000] loss: 0.129\n",
      "[2, 11100] loss: 0.080\n",
      "[2, 11200] loss: 0.147\n",
      "[2, 11300] loss: 0.176\n",
      "[2, 11400] loss: 0.062\n",
      "[2, 11500] loss: 0.091\n",
      "[2, 11600] loss: 0.140\n",
      "[2, 11700] loss: 0.083\n",
      "[2, 11800] loss: 0.082\n",
      "[2, 11900] loss: 0.126\n",
      "[2, 12000] loss: 0.137\n",
      "[2, 12100] loss: 0.127\n",
      "[2, 12200] loss: 0.101\n",
      "[2, 12300] loss: 0.109\n",
      "[2, 12400] loss: 0.094\n",
      "[2, 12500] loss: 0.127\n",
      "[2, 12600] loss: 0.088\n",
      "[2, 12700] loss: 0.163\n",
      "[2, 12800] loss: 0.117\n",
      "[2, 12900] loss: 0.080\n",
      "[2, 13000] loss: 0.114\n",
      "[2, 13100] loss: 0.100\n",
      "[2, 13200] loss: 0.107\n",
      "[2, 13300] loss: 0.162\n",
      "[2, 13400] loss: 0.113\n",
      "[2, 13500] loss: 0.102\n",
      "[2, 13600] loss: 0.095\n",
      "[2, 13700] loss: 0.084\n",
      "[2, 13800] loss: 0.144\n",
      "[2, 13900] loss: 0.059\n",
      "[2, 14000] loss: 0.105\n",
      "[2, 14100] loss: 0.104\n",
      "[2, 14200] loss: 0.096\n",
      "[2, 14300] loss: 0.080\n",
      "[2, 14400] loss: 0.129\n",
      "[2, 14500] loss: 0.130\n",
      "[2, 14600] loss: 0.075\n",
      "[2, 14700] loss: 0.081\n",
      "[2, 14800] loss: 0.141\n",
      "[2, 14900] loss: 0.133\n",
      "[2, 15000] loss: 0.077\n"
     ]
    }
   ],
   "source": [
    "for epoch in range(2):  # loop over the dataset multiple times\n",
    "\n",
    "    running_loss = 0.0\n",
    "    for i, data in enumerate(trainloader, 0):\n",
    "        # get the inputs\n",
    "        inputs, labels = data\n",
    "        inputs = torch.reshape(inputs, (4, 28*28))\n",
    "        if use_gpu:\n",
    "            inputs = inputs.cuda()\n",
    "            labels = labels.cuda()\n",
    "        # zero the parameter gradients\n",
    "        optimizer.zero_grad()\n",
    "\n",
    "        # forward + backward + optimize\n",
    "        outputs = net(inputs)\n",
    "        loss = criterion(outputs, labels)\n",
    "        loss.backward()\n",
    "        optimizer.step()\n",
    "\n",
    "        # print statistics\n",
    "        running_loss += loss.item()\n",
    "        if i % 100 == 99:    # print every 100 mini-batches\n",
    "            print('[%d, %5d] loss: %.3f' %\n",
    "                  (epoch + 1, i + 1, running_loss / 100))\n",
    "            running_loss = 0.0\n",
    "            niter = epoch * len(trainloader) + i"
   ]
  },
  {
   "cell_type": "markdown",
   "metadata": {},
   "source": [
    "### Load"
   ]
  },
  {
   "cell_type": "code",
   "execution_count": 6,
   "metadata": {},
   "outputs": [
    {
     "data": {
      "text/plain": [
       "Net(\n",
       "  (linear1): Linear(in_features=784, out_features=600, bias=True)\n",
       "  (linear2): Linear(in_features=600, out_features=350, bias=True)\n",
       "  (linear3): Linear(in_features=350, out_features=100, bias=True)\n",
       "  (linear4): Linear(in_features=100, out_features=10, bias=True)\n",
       ")"
      ]
     },
     "execution_count": 6,
     "metadata": {},
     "output_type": "execute_result"
    }
   ],
   "source": [
    "net = Net()\n",
    "net.load_state_dict(torch.load(\"models/encoder_v0.pt\"))\n",
    "net.eval()"
   ]
  },
  {
   "cell_type": "markdown",
   "metadata": {},
   "source": [
    "### Check accuracy of the trained encoder"
   ]
  },
  {
   "cell_type": "code",
   "execution_count": 7,
   "metadata": {},
   "outputs": [
    {
     "name": "stdout",
     "output_type": "stream",
     "text": [
      "Accuracy of the network on the 10000 test images: 96 %\n"
     ]
    }
   ],
   "source": [
    "correct = 0\n",
    "total = 0\n",
    "with torch.no_grad():\n",
    "    for data in testloader:\n",
    "        images, labels = data\n",
    "        images = torch.reshape(images, (4, 28*28))\n",
    "        outputs = net(images)\n",
    "        _, predicted = torch.max(outputs.data, 1)\n",
    "        total += labels.size(0)\n",
    "        correct += (predicted == labels).sum().item()\n",
    "\n",
    "print('Accuracy of the network on the 10000 test images: %d %%' % (\n",
    "    100 * correct / total))"
   ]
  },
  {
   "cell_type": "markdown",
   "metadata": {},
   "source": [
    "# Decoder"
   ]
  },
  {
   "cell_type": "code",
   "execution_count": 9,
   "metadata": {},
   "outputs": [],
   "source": [
    "class Decoder(nn.Module):\n",
    "    def __init__(self):\n",
    "        super(Decoder, self).__init__()\n",
    "        self.linear1 = nn.Linear(10, 100)\n",
    "        self.linear2 = nn.Linear(100, 350)\n",
    "        self.linear3 = nn.Linear(350, 600)\n",
    "        self.linear4 = nn.Linear(600, 28*28)\n",
    "        \n",
    "    def forward(self, x):\n",
    "        x = F.relu(self.linear1(x))\n",
    "        x = F.relu(self.linear2(x))\n",
    "        x = F.relu(self.linear3(x))\n",
    "        x = self.linear4(x)\n",
    "        return x\n",
    "    \n",
    "\n",
    "decoder = Decoder()\n",
    "\n",
    "if use_gpu:\n",
    "    decoder = decoder.cuda()\n",
    "    \n",
    "decCriterion = nn.MSELoss()\n",
    "decOptimizer = optim.SGD(decoder.parameters(), lr=0.001, momentum=0.9)"
   ]
  },
  {
   "cell_type": "markdown",
   "metadata": {},
   "source": [
    "## Either train the decoder or load it"
   ]
  },
  {
   "cell_type": "markdown",
   "metadata": {},
   "source": [
    "### Train"
   ]
  },
  {
   "cell_type": "code",
   "execution_count": 39,
   "metadata": {},
   "outputs": [
    {
     "name": "stdout",
     "output_type": "stream",
     "text": [
      "[1,   100] loss: 0.135\n",
      "[1,   200] loss: 0.116\n",
      "[1,   300] loss: 0.109\n",
      "[1,   400] loss: 0.101\n",
      "[1,   500] loss: 0.100\n",
      "[1,   600] loss: 0.093\n",
      "[1,   700] loss: 0.087\n",
      "[1,   800] loss: 0.086\n",
      "[1,   900] loss: 0.083\n",
      "[1,  1000] loss: 0.078\n",
      "[1,  1100] loss: 0.077\n",
      "[1,  1200] loss: 0.076\n",
      "[1,  1300] loss: 0.075\n",
      "[1,  1400] loss: 0.070\n",
      "[1,  1500] loss: 0.072\n",
      "[1,  1600] loss: 0.070\n",
      "[1,  1700] loss: 0.069\n",
      "[1,  1800] loss: 0.072\n",
      "[1,  1900] loss: 0.070\n",
      "[1,  2000] loss: 0.070\n",
      "[1,  2100] loss: 0.068\n",
      "[1,  2200] loss: 0.068\n",
      "[1,  2300] loss: 0.067\n",
      "[1,  2400] loss: 0.067\n",
      "[1,  2500] loss: 0.068\n",
      "[1,  2600] loss: 0.066\n",
      "[1,  2700] loss: 0.067\n",
      "[1,  2800] loss: 0.065\n",
      "[1,  2900] loss: 0.067\n",
      "[1,  3000] loss: 0.064\n",
      "[1,  3100] loss: 0.065\n",
      "[1,  3200] loss: 0.065\n",
      "[1,  3300] loss: 0.067\n",
      "[1,  3400] loss: 0.064\n",
      "[1,  3500] loss: 0.064\n",
      "[1,  3600] loss: 0.064\n",
      "[1,  3700] loss: 0.064\n",
      "[1,  3800] loss: 0.064\n",
      "[1,  3900] loss: 0.063\n",
      "[1,  4000] loss: 0.062\n",
      "[1,  4100] loss: 0.063\n",
      "[1,  4200] loss: 0.064\n",
      "[1,  4300] loss: 0.064\n",
      "[1,  4400] loss: 0.064\n",
      "[1,  4500] loss: 0.065\n",
      "[1,  4600] loss: 0.060\n",
      "[1,  4700] loss: 0.061\n",
      "[1,  4800] loss: 0.063\n",
      "[1,  4900] loss: 0.062\n",
      "[1,  5000] loss: 0.063\n",
      "[1,  5100] loss: 0.060\n",
      "[1,  5200] loss: 0.062\n",
      "[1,  5300] loss: 0.061\n",
      "[1,  5400] loss: 0.062\n",
      "[1,  5500] loss: 0.061\n",
      "[1,  5600] loss: 0.059\n",
      "[1,  5700] loss: 0.061\n",
      "[1,  5800] loss: 0.061\n",
      "[1,  5900] loss: 0.063\n",
      "[1,  6000] loss: 0.061\n",
      "[1,  6100] loss: 0.061\n",
      "[1,  6200] loss: 0.061\n",
      "[1,  6300] loss: 0.062\n",
      "[1,  6400] loss: 0.062\n",
      "[1,  6500] loss: 0.059\n",
      "[1,  6600] loss: 0.060\n",
      "[1,  6700] loss: 0.059\n",
      "[1,  6800] loss: 0.059\n",
      "[1,  6900] loss: 0.059\n",
      "[1,  7000] loss: 0.060\n",
      "[1,  7100] loss: 0.058\n",
      "[1,  7200] loss: 0.060\n",
      "[1,  7300] loss: 0.059\n",
      "[1,  7400] loss: 0.062\n",
      "[1,  7500] loss: 0.061\n",
      "[1,  7600] loss: 0.058\n",
      "[1,  7700] loss: 0.059\n",
      "[1,  7800] loss: 0.058\n",
      "[1,  7900] loss: 0.059\n",
      "[1,  8000] loss: 0.058\n",
      "[1,  8100] loss: 0.058\n",
      "[1,  8200] loss: 0.058\n",
      "[1,  8300] loss: 0.058\n",
      "[1,  8400] loss: 0.059\n",
      "[1,  8500] loss: 0.057\n",
      "[1,  8600] loss: 0.057\n",
      "[1,  8700] loss: 0.059\n",
      "[1,  8800] loss: 0.058\n",
      "[1,  8900] loss: 0.059\n",
      "[1,  9000] loss: 0.059\n",
      "[1,  9100] loss: 0.057\n",
      "[1,  9200] loss: 0.058\n",
      "[1,  9300] loss: 0.058\n",
      "[1,  9400] loss: 0.058\n",
      "[1,  9500] loss: 0.057\n",
      "[1,  9600] loss: 0.057\n",
      "[1,  9700] loss: 0.057\n",
      "[1,  9800] loss: 0.057\n",
      "[1,  9900] loss: 0.058\n",
      "[1, 10000] loss: 0.057\n",
      "[1, 10100] loss: 0.056\n",
      "[1, 10200] loss: 0.057\n",
      "[1, 10300] loss: 0.058\n",
      "[1, 10400] loss: 0.057\n",
      "[1, 10500] loss: 0.057\n",
      "[1, 10600] loss: 0.056\n",
      "[1, 10700] loss: 0.056\n",
      "[1, 10800] loss: 0.057\n",
      "[1, 10900] loss: 0.056\n",
      "[1, 11000] loss: 0.055\n",
      "[1, 11100] loss: 0.057\n",
      "[1, 11200] loss: 0.056\n",
      "[1, 11300] loss: 0.056\n",
      "[1, 11400] loss: 0.056\n",
      "[1, 11500] loss: 0.056\n",
      "[1, 11600] loss: 0.057\n",
      "[1, 11700] loss: 0.058\n",
      "[1, 11800] loss: 0.055\n",
      "[1, 11900] loss: 0.055\n",
      "[1, 12000] loss: 0.055\n",
      "[1, 12100] loss: 0.056\n",
      "[1, 12200] loss: 0.057\n",
      "[1, 12300] loss: 0.055\n",
      "[1, 12400] loss: 0.057\n",
      "[1, 12500] loss: 0.054\n",
      "[1, 12600] loss: 0.053\n",
      "[1, 12700] loss: 0.056\n",
      "[1, 12800] loss: 0.054\n",
      "[1, 12900] loss: 0.054\n",
      "[1, 13000] loss: 0.054\n",
      "[1, 13100] loss: 0.055\n",
      "[1, 13200] loss: 0.054\n",
      "[1, 13300] loss: 0.056\n",
      "[1, 13400] loss: 0.054\n",
      "[1, 13500] loss: 0.055\n",
      "[1, 13600] loss: 0.055\n",
      "[1, 13700] loss: 0.055\n",
      "[1, 13800] loss: 0.055\n",
      "[1, 13900] loss: 0.055\n",
      "[1, 14000] loss: 0.055\n",
      "[1, 14100] loss: 0.055\n",
      "[1, 14200] loss: 0.055\n",
      "[1, 14300] loss: 0.055\n",
      "[1, 14400] loss: 0.055\n",
      "[1, 14500] loss: 0.053\n",
      "[1, 14600] loss: 0.055\n",
      "[1, 14700] loss: 0.055\n",
      "[1, 14800] loss: 0.053\n",
      "[1, 14900] loss: 0.053\n",
      "[1, 15000] loss: 0.056\n",
      "[2,   100] loss: 0.055\n",
      "[2,   200] loss: 0.055\n",
      "[2,   300] loss: 0.055\n",
      "[2,   400] loss: 0.054\n",
      "[2,   500] loss: 0.054\n",
      "[2,   600] loss: 0.052\n",
      "[2,   700] loss: 0.053\n",
      "[2,   800] loss: 0.053\n",
      "[2,   900] loss: 0.054\n",
      "[2,  1000] loss: 0.053\n",
      "[2,  1100] loss: 0.051\n",
      "[2,  1200] loss: 0.053\n",
      "[2,  1300] loss: 0.054\n",
      "[2,  1400] loss: 0.052\n",
      "[2,  1500] loss: 0.053\n",
      "[2,  1600] loss: 0.054\n",
      "[2,  1700] loss: 0.053\n",
      "[2,  1800] loss: 0.053\n",
      "[2,  1900] loss: 0.054\n",
      "[2,  2000] loss: 0.052\n",
      "[2,  2100] loss: 0.053\n",
      "[2,  2200] loss: 0.054\n",
      "[2,  2300] loss: 0.052\n",
      "[2,  2400] loss: 0.051\n",
      "[2,  2500] loss: 0.053\n",
      "[2,  2600] loss: 0.053\n",
      "[2,  2700] loss: 0.053\n",
      "[2,  2800] loss: 0.054\n",
      "[2,  2900] loss: 0.054\n",
      "[2,  3000] loss: 0.052\n",
      "[2,  3100] loss: 0.052\n",
      "[2,  3200] loss: 0.052\n",
      "[2,  3300] loss: 0.054\n",
      "[2,  3400] loss: 0.052\n",
      "[2,  3500] loss: 0.053\n",
      "[2,  3600] loss: 0.052\n",
      "[2,  3700] loss: 0.053\n",
      "[2,  3800] loss: 0.052\n",
      "[2,  3900] loss: 0.051\n",
      "[2,  4000] loss: 0.052\n",
      "[2,  4100] loss: 0.052\n",
      "[2,  4200] loss: 0.052\n",
      "[2,  4300] loss: 0.053\n",
      "[2,  4400] loss: 0.053\n",
      "[2,  4500] loss: 0.052\n",
      "[2,  4600] loss: 0.053\n",
      "[2,  4700] loss: 0.051\n",
      "[2,  4800] loss: 0.051\n",
      "[2,  4900] loss: 0.051\n",
      "[2,  5000] loss: 0.053\n",
      "[2,  5100] loss: 0.053\n",
      "[2,  5200] loss: 0.052\n",
      "[2,  5300] loss: 0.053\n",
      "[2,  5400] loss: 0.054\n",
      "[2,  5500] loss: 0.051\n",
      "[2,  5600] loss: 0.053\n",
      "[2,  5700] loss: 0.051\n",
      "[2,  5800] loss: 0.052\n",
      "[2,  5900] loss: 0.051\n",
      "[2,  6000] loss: 0.051\n",
      "[2,  6100] loss: 0.052\n",
      "[2,  6200] loss: 0.051\n",
      "[2,  6300] loss: 0.051\n",
      "[2,  6400] loss: 0.052\n",
      "[2,  6500] loss: 0.051\n",
      "[2,  6600] loss: 0.052\n",
      "[2,  6700] loss: 0.051\n",
      "[2,  6800] loss: 0.053\n",
      "[2,  6900] loss: 0.051\n",
      "[2,  7000] loss: 0.051\n",
      "[2,  7100] loss: 0.052\n",
      "[2,  7200] loss: 0.051\n",
      "[2,  7300] loss: 0.050\n",
      "[2,  7400] loss: 0.051\n",
      "[2,  7500] loss: 0.052\n",
      "[2,  7600] loss: 0.053\n",
      "[2,  7700] loss: 0.051\n",
      "[2,  7800] loss: 0.051\n",
      "[2,  7900] loss: 0.050\n",
      "[2,  8000] loss: 0.051\n",
      "[2,  8100] loss: 0.051\n",
      "[2,  8200] loss: 0.052\n",
      "[2,  8300] loss: 0.049\n",
      "[2,  8400] loss: 0.050\n",
      "[2,  8500] loss: 0.053\n",
      "[2,  8600] loss: 0.051\n",
      "[2,  8700] loss: 0.050\n",
      "[2,  8800] loss: 0.051\n",
      "[2,  8900] loss: 0.052\n",
      "[2,  9000] loss: 0.052\n",
      "[2,  9100] loss: 0.052\n",
      "[2,  9200] loss: 0.049\n",
      "[2,  9300] loss: 0.051\n",
      "[2,  9400] loss: 0.050\n",
      "[2,  9500] loss: 0.050\n",
      "[2,  9600] loss: 0.051\n",
      "[2,  9700] loss: 0.051\n",
      "[2,  9800] loss: 0.051\n",
      "[2,  9900] loss: 0.051\n",
      "[2, 10000] loss: 0.050\n",
      "[2, 10100] loss: 0.049\n",
      "[2, 10200] loss: 0.051\n",
      "[2, 10300] loss: 0.050\n",
      "[2, 10400] loss: 0.049\n",
      "[2, 10500] loss: 0.051\n",
      "[2, 10600] loss: 0.052\n",
      "[2, 10700] loss: 0.050\n",
      "[2, 10800] loss: 0.051\n",
      "[2, 10900] loss: 0.049\n",
      "[2, 11000] loss: 0.050\n",
      "[2, 11100] loss: 0.052\n",
      "[2, 11200] loss: 0.050\n",
      "[2, 11300] loss: 0.051\n",
      "[2, 11400] loss: 0.051\n",
      "[2, 11500] loss: 0.050\n",
      "[2, 11600] loss: 0.051\n",
      "[2, 11700] loss: 0.051\n",
      "[2, 11800] loss: 0.051\n",
      "[2, 11900] loss: 0.051\n",
      "[2, 12000] loss: 0.052\n",
      "[2, 12100] loss: 0.051\n",
      "[2, 12200] loss: 0.051\n",
      "[2, 12300] loss: 0.048\n",
      "[2, 12400] loss: 0.050\n",
      "[2, 12500] loss: 0.051\n",
      "[2, 12600] loss: 0.051\n",
      "[2, 12700] loss: 0.049\n",
      "[2, 12800] loss: 0.050\n",
      "[2, 12900] loss: 0.051\n",
      "[2, 13000] loss: 0.050\n",
      "[2, 13100] loss: 0.050\n",
      "[2, 13200] loss: 0.052\n",
      "[2, 13300] loss: 0.050\n",
      "[2, 13400] loss: 0.049\n",
      "[2, 13500] loss: 0.051\n",
      "[2, 13600] loss: 0.050\n",
      "[2, 13700] loss: 0.049\n",
      "[2, 13800] loss: 0.049\n",
      "[2, 13900] loss: 0.049\n",
      "[2, 14000] loss: 0.049\n",
      "[2, 14100] loss: 0.050\n",
      "[2, 14200] loss: 0.049\n",
      "[2, 14300] loss: 0.050\n",
      "[2, 14400] loss: 0.051\n",
      "[2, 14500] loss: 0.052\n",
      "[2, 14600] loss: 0.052\n",
      "[2, 14700] loss: 0.050\n",
      "[2, 14800] loss: 0.051\n",
      "[2, 14900] loss: 0.050\n",
      "[2, 15000] loss: 0.050\n"
     ]
    }
   ],
   "source": [
    "for epoch in range(2):  # loop over the dataset multiple times\n",
    "\n",
    "    running_loss = 0.0\n",
    "    for i, data in enumerate(trainloader, 0):\n",
    "        # get the inputs\n",
    "        inputs, labels = data\n",
    "        inputs = torch.reshape(inputs, (4, 28*28))\n",
    "        if use_gpu:\n",
    "            inputs = inputs.cuda()\n",
    "            labels = labels.cuda()\n",
    "        outputs = net(inputs)\n",
    "        \n",
    "        decOptimizer.zero_grad()\n",
    "        # forward + backward + optimize\n",
    "        decOutputs = decoder(outputs)\n",
    "        loss = decCriterion(decOutputs, inputs)\n",
    "        loss.backward()\n",
    "        decOptimizer.step()\n",
    "\n",
    "        # print statistics\n",
    "        running_loss += loss.item()\n",
    "        if i % 100 == 99:    # print every 100 mini-batches\n",
    "            print('[%d, %5d] loss: %.3f' %\n",
    "                  (epoch + 1, i + 1, running_loss / 100))\n",
    "            running_loss = 0.0\n",
    "            niter = epoch * len(trainloader) + i"
   ]
  },
  {
   "cell_type": "markdown",
   "metadata": {},
   "source": [
    "### Load"
   ]
  },
  {
   "cell_type": "code",
   "execution_count": 10,
   "metadata": {},
   "outputs": [
    {
     "data": {
      "text/plain": [
       "Decoder(\n",
       "  (linear1): Linear(in_features=10, out_features=100, bias=True)\n",
       "  (linear2): Linear(in_features=100, out_features=350, bias=True)\n",
       "  (linear3): Linear(in_features=350, out_features=600, bias=True)\n",
       "  (linear4): Linear(in_features=600, out_features=784, bias=True)\n",
       ")"
      ]
     },
     "execution_count": 10,
     "metadata": {},
     "output_type": "execute_result"
    }
   ],
   "source": [
    "decoder = Decoder()\n",
    "decoder.load_state_dict(torch.load(\"models/decoder_v0.pt\"))\n",
    "decoder.eval()"
   ]
  },
  {
   "cell_type": "markdown",
   "metadata": {},
   "source": [
    "### Check how one image looks like after being encoded and decoded"
   ]
  },
  {
   "cell_type": "code",
   "execution_count": 11,
   "metadata": {},
   "outputs": [
    {
     "name": "stdout",
     "output_type": "stream",
     "text": [
      "tensor([[-3.2723,  3.7296,  9.6557,  4.9145, -8.6327, -3.1320, -3.5934,  6.0783,\n",
      "         -0.8307, -5.3434]], grad_fn=<AddmmBackward>)\n"
     ]
    },
    {
     "data": {
      "image/png": "[encoded data removed]",
      "text/plain": [
       "<Figure size 432x288 with 1 Axes>"
      ]
     },
     "metadata": {
      "needs_background": "light"
     },
     "output_type": "display_data"
    },
    {
     "data": {
      "image/png": "[encoded data removed]",
      "text/plain": [
       "<Figure size 432x288 with 1 Axes>"
      ]
     },
     "metadata": {
      "needs_background": "light"
     },
     "output_type": "display_data"
    }
   ],
   "source": [
    "# take some image\n",
    "imgs, lbls = iter(trainloader).next()\n",
    "img = imgs[0]\n",
    "digit = lbls[0]\n",
    "\n",
    "out = net(torch.reshape(img, (1, 28*28)))\n",
    "print(out)\n",
    "out2 = decoder(out)\n",
    "\n",
    "npimg1 = img.numpy().reshape((28, 28))\n",
    "plt.imshow(npimg1, cmap=\"gray\")\n",
    "plt.show()\n",
    "\n",
    "npimg2 = out2.detach().numpy().reshape((28,28))\n",
    "plt.imshow(npimg2, cmap=\"gray\")\n",
    "plt.show()"
   ]
  },
  {
   "cell_type": "markdown",
   "metadata": {},
   "source": [
    "# Natural-looking digit generation"
   ]
  },
  {
   "cell_type": "code",
   "execution_count": 20,
   "metadata": {},
   "outputs": [],
   "source": [
    "import random\n",
    "\n",
    "def fake_vector(n):\n",
    "    \"\"\"This function should mimic, in some sense,\n",
    "    the output of net(img) if <img> were the digit <n>\"\"\"\n",
    "    hit = 13 + random.random()\n",
    "    others = [3*random.random()-2 for i in range(10)]\n",
    "    others[n] = hit\n",
    "    return others"
   ]
  },
  {
   "cell_type": "markdown",
   "metadata": {},
   "source": [
    "### Plot some images for each digit\n",
    "\n",
    "The images may look like the same, but they are actually different.\n",
    "\n",
    "As of now, all the digits have a blurry look and the 2, the 7 and the 9 are the ones that look worse."
   ]
  },
  {
   "cell_type": "code",
   "execution_count": 24,
   "metadata": {
    "scrolled": false
   },
   "outputs": [
    {
     "data": {
      "image/png": "[encoded data removed]",
      "text/plain": [
       "<Figure size 432x288 with 5 Axes>"
      ]
     },
     "metadata": {
      "needs_background": "light"
     },
     "output_type": "display_data"
    },
    {
     "data": {
      "image/png": "[encoded data removed]",
      "text/plain": [
       "<Figure size 432x288 with 5 Axes>"
      ]
     },
     "metadata": {
      "needs_background": "light"
     },
     "output_type": "display_data"
    },
    {
     "data": {
      "image/png": "[encoded data removed]",
      "text/plain": [
       "<Figure size 432x288 with 5 Axes>"
      ]
     },
     "metadata": {
      "needs_background": "light"
     },
     "output_type": "display_data"
    },
    {
     "data": {
      "image/png": "[encoded data removed]",
      "text/plain": [
       "<Figure size 432x288 with 5 Axes>"
      ]
     },
     "metadata": {
      "needs_background": "light"
     },
     "output_type": "display_data"
    },
    {
     "data": {
      "image/png": "[encoded data removed]",
      "text/plain": [
       "<Figure size 432x288 with 5 Axes>"
      ]
     },
     "metadata": {
      "needs_background": "light"
     },
     "output_type": "display_data"
    },
    {
     "data": {
      "image/png": "[encoded data removed]",
      "text/plain": [
       "<Figure size 432x288 with 5 Axes>"
      ]
     },
     "metadata": {
      "needs_background": "light"
     },
     "output_type": "display_data"
    },
    {
     "data": {
      "image/png": "[encoded data removed]",
      "text/plain": [
       "<Figure size 432x288 with 5 Axes>"
      ]
     },
     "metadata": {
      "needs_background": "light"
     },
     "output_type": "display_data"
    },
    {
     "data": {
      "image/png": "[encoded data removed]",
      "text/plain": [
       "<Figure size 432x288 with 5 Axes>"
      ]
     },
     "metadata": {
      "needs_background": "light"
     },
     "output_type": "display_data"
    },
    {
     "data": {
      "image/png": "[encoded data removed]",
      "text/plain": [
       "<Figure size 432x288 with 5 Axes>"
      ]
     },
     "metadata": {
      "needs_background": "light"
     },
     "output_type": "display_data"
    },
    {
     "data": {
      "image/png": "[encoded data removed]",
      "text/plain": [
       "<Figure size 432x288 with 5 Axes>"
      ]
     },
     "metadata": {
      "needs_background": "light"
     },
     "output_type": "display_data"
    }
   ],
   "source": [
    "digits = []\n",
    "for d in range(10):\n",
    "    f, plots = plt.subplots(1, 5, sharey=True)\n",
    "    this_digit_list = []\n",
    "    for i in range(5):\n",
    "        testingInput = torch.tensor(fake_vector(d))\n",
    "        out = decoder(testingInput)\n",
    "        out = torch.reshape(out, [28, 28])\n",
    "\n",
    "        nparray = out.detach().numpy()\n",
    "        nparray = nparray - np.min(nparray)\n",
    "        nparray = nparray/np.max(nparray)\n",
    "\n",
    "        this_digit_list.append(nparray)\n",
    "        plots[i].imshow(nparray, cmap=\"gray\")\n",
    "    digits.append(this_digit_list)\n",
    "    plt.savefig(f\"imgs/generated_{d}.png\")\n",
    "    plt.show()"
   ]
  },
  {
   "cell_type": "markdown",
   "metadata": {},
   "source": [
    "### Try to enhance the images\n",
    "\n",
    "By using some thresholding, perhaps the blurring can be gone"
   ]
  },
  {
   "cell_type": "code",
   "execution_count": 34,
   "metadata": {},
   "outputs": [],
   "source": [
    "# For the results below to match what is already displayed, the \"digits\" list should be\n",
    "# the same as when I ran this, so evaluating this cell overrides the \"digits\" variable with \n",
    "# the contents I used, loading it\n",
    "###np.save(\"digits.npy\", digits)\n",
    "digits = np.load(\"digits.npy\")"
   ]
  },
  {
   "cell_type": "code",
   "execution_count": 35,
   "metadata": {},
   "outputs": [
    {
     "data": {
      "image/png": "[encoded data removed]",
      "text/plain": [
       "<Figure size 432x288 with 1 Axes>"
      ]
     },
     "metadata": {
      "needs_background": "light"
     },
     "output_type": "display_data"
    },
    {
     "data": {
      "image/png": "[encoded data removed]",
      "text/plain": [
       "<Figure size 432x288 with 1 Axes>"
      ]
     },
     "metadata": {
      "needs_background": "light"
     },
     "output_type": "display_data"
    },
    {
     "data": {
      "image/png": "[encoded data removed]",
      "text/plain": [
       "<Figure size 432x288 with 1 Axes>"
      ]
     },
     "metadata": {
      "needs_background": "light"
     },
     "output_type": "display_data"
    },
    {
     "data": {
      "image/png": "[encoded data removed]",
      "text/plain": [
       "<Figure size 432x288 with 1 Axes>"
      ]
     },
     "metadata": {
      "needs_background": "light"
     },
     "output_type": "display_data"
    },
    {
     "data": {
      "image/png": "[encoded data removed]",
      "text/plain": [
       "<Figure size 432x288 with 1 Axes>"
      ]
     },
     "metadata": {
      "needs_background": "light"
     },
     "output_type": "display_data"
    },
    {
     "data": {
      "image/png": "[encoded data removed]",
      "text/plain": [
       "<Figure size 432x288 with 1 Axes>"
      ]
     },
     "metadata": {
      "needs_background": "light"
     },
     "output_type": "display_data"
    },
    {
     "data": {
      "image/png": "[encoded data removed]",
      "text/plain": [
       "<Figure size 432x288 with 1 Axes>"
      ]
     },
     "metadata": {
      "needs_background": "light"
     },
     "output_type": "display_data"
    },
    {
     "data": {
      "image/png": "[encoded data removed]",
      "text/plain": [
       "<Figure size 432x288 with 1 Axes>"
      ]
     },
     "metadata": {
      "needs_background": "light"
     },
     "output_type": "display_data"
    },
    {
     "data": {
      "image/png": "[encoded data removed]",
      "text/plain": [
       "<Figure size 432x288 with 1 Axes>"
      ]
     },
     "metadata": {
      "needs_background": "light"
     },
     "output_type": "display_data"
    },
    {
     "data": {
      "image/png": "[encoded data removed]",
      "text/plain": [
       "<Figure size 432x288 with 1 Axes>"
      ]
     },
     "metadata": {
      "needs_background": "light"
     },
     "output_type": "display_data"
    }
   ],
   "source": [
    "# picked by hand, the indices of the best looking digit\n",
    "best = [1, 2, 1, 2, 2, 3, 4, 1, 0, 2]\n",
    "\n",
    "for d in range(10):\n",
    "    digit = digits[d][best[d]]\n",
    "    # normalize the image\n",
    "    digit = digit - np.min(digit)\n",
    "    digit = digit/np.max(digit)\n",
    "    digit[digit < 0.35] = 0\n",
    "    digit[digit > 0.8] = 1\n",
    "    plt.imshow(digit, cmap=\"gray\")\n",
    "    plt.savefig(f\"imgs/single_digit_{d}.png\")\n",
    "    plt.show()"
   ]
  },
  {
   "cell_type": "markdown",
   "metadata": {},
   "source": [
    "## Save the two trained networks for later, so that they can be imported as well"
   ]
  },
  {
   "cell_type": "code",
   "execution_count": 44,
   "metadata": {},
   "outputs": [],
   "source": [
    "torch.save(net.state_dict(), \"models/encoder_v0.pt\")\n",
    "torch.save(decoder.state_dict(), \"models/decoder_v0.pt\")"
   ]
  },
  {
   "cell_type": "markdown",
   "metadata": {},
   "source": [
    "## Loading the two networks"
   ]
  },
  {
   "cell_type": "code",
   "execution_count": 45,
   "metadata": {},
   "outputs": [
    {
     "data": {
      "text/plain": [
       "Decoder(\n",
       "  (linear1): Linear(in_features=10, out_features=100, bias=True)\n",
       "  (linear2): Linear(in_features=100, out_features=350, bias=True)\n",
       "  (linear3): Linear(in_features=350, out_features=600, bias=True)\n",
       "  (linear4): Linear(in_features=600, out_features=784, bias=True)\n",
       ")"
      ]
     },
     "execution_count": 45,
     "metadata": {},
     "output_type": "execute_result"
    }
   ],
   "source": [
    "net = Net()\n",
    "net.load_state_dict(torch.load(\"models/encoder_v0.pt\"))\n",
    "net.eval()\n",
    "decoder = Decoder()\n",
    "decoder.load_state_dict(torch.load(\"models/decoder_v0.pt\"))\n",
    "decoder.eval()"
   ]
  },
  {
   "cell_type": "code",
   "execution_count": null,
   "metadata": {},
   "outputs": [],
   "source": []
  }
 ],
 "metadata": {
  "kernelspec": {
   "display_name": "Python 3",
   "language": "python",
   "name": "python3"
  },
  "language_info": {
   "codemirror_mode": {
    "name": "ipython",
    "version": 3
   },
   "file_extension": ".py",
   "mimetype": "text/x-python",
   "name": "python",
   "nbconvert_exporter": "python",
   "pygments_lexer": "ipython3",
   "version": "3.7.1"
  }
 },
 "nbformat": 4,
 "nbformat_minor": 2
}
